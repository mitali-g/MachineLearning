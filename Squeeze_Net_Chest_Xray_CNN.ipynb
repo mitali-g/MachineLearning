{
  "nbformat": 4,
  "nbformat_minor": 0,
  "metadata": {
    "colab": {
      "name": "Squeeze_Net_Chest_Xray_CNN.ipynb",
      "provenance": [],
      "mount_file_id": "1nb2IIKOav21a24vUkhDO4UEHyPWKNj9o",
      "authorship_tag": "ABX9TyOrxUPEwengF6yxew96Z7ZA",
      "include_colab_link": true
    },
    "kernelspec": {
      "name": "python3",
      "display_name": "Python 3"
    },
    "accelerator": "GPU"
  },
  "cells": [
    {
      "cell_type": "markdown",
      "metadata": {
        "id": "view-in-github",
        "colab_type": "text"
      },
      "source": [
        "<a href=\"https://colab.research.google.com/github/mitali-g/MachineLearning/blob/master/Squeeze_Net_Chest_Xray_CNN.ipynb\" target=\"_parent\"><img src=\"https://colab.research.google.com/assets/colab-badge.svg\" alt=\"Open In Colab\"/></a>"
      ]
    },
    {
      "cell_type": "code",
      "metadata": {
        "id": "DxZSd1ddprds",
        "colab_type": "code",
        "colab": {}
      },
      "source": [
        "import tensorflow as tf\n",
        "import numpy as np\n",
        "import matplotlib.pyplot as plt\n",
        "from tensorflow import keras\n",
        "from keras.models import Sequential, Model\n",
        "from tensorflow.keras.layers import Dense, Conv2D, MaxPooling2D, Flatten, Reshape, Input, GlobalAveragePooling2D, BatchNormalization, concatenate\n",
        "from keras.layers import Dropout, Concatenate, Activation\n",
        "from keras.layers import Convolution3D, MaxPooling3D, AveragePooling3D\n",
        "from keras.layers import GlobalMaxPooling3D, GlobalAveragePooling3D\n",
        "from keras.utils import np_utils\n",
        "import os, cv2, random\n",
        "import pandas as pd\n",
        "%matplotlib inline"
      ],
      "execution_count": 2,
      "outputs": []
    },
    {
      "cell_type": "code",
      "metadata": {
        "id": "7n87zlBCr-OO",
        "colab_type": "code",
        "colab": {
          "base_uri": "https://localhost:8080/",
          "height": 34
        },
        "outputId": "96697bd6-d333-425c-dbb5-1dd39ea20405"
      },
      "source": [
        "!unzip -q NEW_Resized_Dataset.zip"
      ],
      "execution_count": 46,
      "outputs": [
        {
          "output_type": "stream",
          "text": [
            "replace Resized_Dataset/.DS_Store? [y]es, [n]o, [A]ll, [N]one, [r]ename: "
          ],
          "name": "stdout"
        }
      ]
    },
    {
      "cell_type": "code",
      "metadata": {
        "id": "99ZXcUxgmS7k",
        "colab_type": "code",
        "colab": {
          "base_uri": "https://localhost:8080/",
          "height": 34
        },
        "outputId": "d4e84e7d-26f0-46a2-86e8-ebf618ef31a1"
      },
      "source": [
        "!ls Resized_Dataset/train-equalized|wc"
      ],
      "execution_count": 4,
      "outputs": [
        {
          "output_type": "stream",
          "text": [
            "   5291    5291  137110\n"
          ],
          "name": "stdout"
        }
      ]
    },
    {
      "cell_type": "code",
      "metadata": {
        "id": "pyt-_JBnxdKq",
        "colab_type": "code",
        "colab": {
          "base_uri": "https://localhost:8080/",
          "height": 436
        },
        "outputId": "b8bc474d-ceae-41fa-f692-0a91a34151fb"
      },
      "source": [
        "dataset = pd.read_csv(\"Resized_Dataset/Chest_xray_Corona_Metadata.csv\")\n",
        "print(dataset.shape)\n",
        "dataset[5282:]"
      ],
      "execution_count": 62,
      "outputs": [
        {
          "output_type": "stream",
          "text": [
            "(5906, 6)\n"
          ],
          "name": "stdout"
        },
        {
          "output_type": "execute_result",
          "data": {
            "text/html": [
              "<div>\n",
              "<style scoped>\n",
              "    .dataframe tbody tr th:only-of-type {\n",
              "        vertical-align: middle;\n",
              "    }\n",
              "\n",
              "    .dataframe tbody tr th {\n",
              "        vertical-align: top;\n",
              "    }\n",
              "\n",
              "    .dataframe thead th {\n",
              "        text-align: right;\n",
              "    }\n",
              "</style>\n",
              "<table border=\"1\" class=\"dataframe\">\n",
              "  <thead>\n",
              "    <tr style=\"text-align: right;\">\n",
              "      <th></th>\n",
              "      <th>Unnamed: 0</th>\n",
              "      <th>X_ray_image_name</th>\n",
              "      <th>Label</th>\n",
              "      <th>Dataset_type</th>\n",
              "      <th>Label_2_Virus_category</th>\n",
              "      <th>Label_1_Virus_category</th>\n",
              "    </tr>\n",
              "  </thead>\n",
              "  <tbody>\n",
              "    <tr>\n",
              "      <th>5282</th>\n",
              "      <td>5309</td>\n",
              "      <td>IM-0021-0001.jpeg</td>\n",
              "      <td>Normal</td>\n",
              "      <td>TEST</td>\n",
              "      <td>NaN</td>\n",
              "      <td>NaN</td>\n",
              "    </tr>\n",
              "    <tr>\n",
              "      <th>5283</th>\n",
              "      <td>5310</td>\n",
              "      <td>IM-0019-0001.jpeg</td>\n",
              "      <td>Normal</td>\n",
              "      <td>TEST</td>\n",
              "      <td>NaN</td>\n",
              "      <td>NaN</td>\n",
              "    </tr>\n",
              "    <tr>\n",
              "      <th>5284</th>\n",
              "      <td>5311</td>\n",
              "      <td>IM-0017-0001.jpeg</td>\n",
              "      <td>Normal</td>\n",
              "      <td>TEST</td>\n",
              "      <td>NaN</td>\n",
              "      <td>NaN</td>\n",
              "    </tr>\n",
              "    <tr>\n",
              "      <th>5285</th>\n",
              "      <td>5312</td>\n",
              "      <td>IM-0016-0001.jpeg</td>\n",
              "      <td>Normal</td>\n",
              "      <td>TEST</td>\n",
              "      <td>NaN</td>\n",
              "      <td>NaN</td>\n",
              "    </tr>\n",
              "    <tr>\n",
              "      <th>5286</th>\n",
              "      <td>5313</td>\n",
              "      <td>IM-0015-0001.jpeg</td>\n",
              "      <td>Normal</td>\n",
              "      <td>TEST</td>\n",
              "      <td>NaN</td>\n",
              "      <td>NaN</td>\n",
              "    </tr>\n",
              "    <tr>\n",
              "      <th>...</th>\n",
              "      <td>...</td>\n",
              "      <td>...</td>\n",
              "      <td>...</td>\n",
              "      <td>...</td>\n",
              "      <td>...</td>\n",
              "      <td>...</td>\n",
              "    </tr>\n",
              "    <tr>\n",
              "      <th>5901</th>\n",
              "      <td>5928</td>\n",
              "      <td>person1637_virus_2834.jpeg</td>\n",
              "      <td>Pnemonia</td>\n",
              "      <td>TEST</td>\n",
              "      <td>NaN</td>\n",
              "      <td>Virus</td>\n",
              "    </tr>\n",
              "    <tr>\n",
              "      <th>5902</th>\n",
              "      <td>5929</td>\n",
              "      <td>person1635_virus_2831.jpeg</td>\n",
              "      <td>Pnemonia</td>\n",
              "      <td>TEST</td>\n",
              "      <td>NaN</td>\n",
              "      <td>Virus</td>\n",
              "    </tr>\n",
              "    <tr>\n",
              "      <th>5903</th>\n",
              "      <td>5930</td>\n",
              "      <td>person1634_virus_2830.jpeg</td>\n",
              "      <td>Pnemonia</td>\n",
              "      <td>TEST</td>\n",
              "      <td>NaN</td>\n",
              "      <td>Virus</td>\n",
              "    </tr>\n",
              "    <tr>\n",
              "      <th>5904</th>\n",
              "      <td>5931</td>\n",
              "      <td>person1633_virus_2829.jpeg</td>\n",
              "      <td>Pnemonia</td>\n",
              "      <td>TEST</td>\n",
              "      <td>NaN</td>\n",
              "      <td>Virus</td>\n",
              "    </tr>\n",
              "    <tr>\n",
              "      <th>5905</th>\n",
              "      <td>5932</td>\n",
              "      <td>person1632_virus_2827.jpeg</td>\n",
              "      <td>Pnemonia</td>\n",
              "      <td>TEST</td>\n",
              "      <td>NaN</td>\n",
              "      <td>Virus</td>\n",
              "    </tr>\n",
              "  </tbody>\n",
              "</table>\n",
              "<p>624 rows × 6 columns</p>\n",
              "</div>"
            ],
            "text/plain": [
              "      Unnamed: 0  ... Label_1_Virus_category\n",
              "5282        5309  ...                    NaN\n",
              "5283        5310  ...                    NaN\n",
              "5284        5311  ...                    NaN\n",
              "5285        5312  ...                    NaN\n",
              "5286        5313  ...                    NaN\n",
              "...          ...  ...                    ...\n",
              "5901        5928  ...                  Virus\n",
              "5902        5929  ...                  Virus\n",
              "5903        5930  ...                  Virus\n",
              "5904        5931  ...                  Virus\n",
              "5905        5932  ...                  Virus\n",
              "\n",
              "[624 rows x 6 columns]"
            ]
          },
          "metadata": {
            "tags": []
          },
          "execution_count": 62
        }
      ]
    },
    {
      "cell_type": "code",
      "metadata": {
        "id": "xw2P5R8MyjWt",
        "colab_type": "code",
        "colab": {}
      },
      "source": [
        "dataset = dataset[['X_ray_image_name', 'Label']]"
      ],
      "execution_count": 63,
      "outputs": []
    },
    {
      "cell_type": "code",
      "metadata": {
        "id": "YQFirBIf0rNm",
        "colab_type": "code",
        "colab": {}
      },
      "source": [
        "x_train_features = dataset[['X_ray_image_name']]\n",
        "x_train_features = x_train_features[0:5282]\n",
        "#print(x_train_features)"
      ],
      "execution_count": 64,
      "outputs": []
    },
    {
      "cell_type": "code",
      "metadata": {
        "id": "zliG5tTKlqbe",
        "colab_type": "code",
        "colab": {}
      },
      "source": [
        "y_train_labels = dataset[['Label']]\n",
        "y_train_labels = y_train_labels[0:5282]\n",
        "#print(y_train_labels)"
      ],
      "execution_count": 65,
      "outputs": []
    },
    {
      "cell_type": "code",
      "metadata": {
        "id": "IhC6KGiBPu1O",
        "colab_type": "code",
        "colab": {}
      },
      "source": [
        "from sklearn.utils import shuffle\n",
        "train_dataset = dataset[0:5282]\n",
        "test_dataset = dataset[5282:]\n",
        "\n",
        "train_dataset = shuffle(train_dataset)\n",
        "test_dataset = shuffle(test_dataset)"
      ],
      "execution_count": 66,
      "outputs": []
    },
    {
      "cell_type": "code",
      "metadata": {
        "id": "Er5FIYpKiLge",
        "colab_type": "code",
        "colab": {}
      },
      "source": [
        "x_train_features = train_dataset['X_ray_image_name']\n",
        "y_train_labels = train_dataset['Label']"
      ],
      "execution_count": 67,
      "outputs": []
    },
    {
      "cell_type": "code",
      "metadata": {
        "id": "nM3CdIkk1OkQ",
        "colab_type": "code",
        "colab": {
          "base_uri": "https://localhost:8080/",
          "height": 136
        },
        "outputId": "bc72a4f7-e4a4-4570-df2a-b8a90a77beb5"
      },
      "source": [
        "y_train = []\n",
        "for label in y_train_labels:\n",
        "  if label == 'Pnemonia':\n",
        "    y_train.append(1)\n",
        "  elif label == 'Normal':\n",
        "    y_train.append(0)\n",
        "  else:\n",
        "    print(label)\n",
        "#print(y_train)\n",
        "y_train = keras.utils.to_categorical(y_train)\n",
        "print(y_train)"
      ],
      "execution_count": 68,
      "outputs": [
        {
          "output_type": "stream",
          "text": [
            "[[1. 0.]\n",
            " [0. 1.]\n",
            " [0. 1.]\n",
            " ...\n",
            " [0. 1.]\n",
            " [0. 1.]\n",
            " [0. 1.]]\n"
          ],
          "name": "stdout"
        }
      ]
    },
    {
      "cell_type": "code",
      "metadata": {
        "id": "zL8mE4A41WJe",
        "colab_type": "code",
        "colab": {}
      },
      "source": [
        "x_test_features = dataset[['X_ray_image_name']]\n",
        "x_test_features = x_test_features[5282:]\n",
        "#print(x_test_features)"
      ],
      "execution_count": 69,
      "outputs": []
    },
    {
      "cell_type": "code",
      "metadata": {
        "id": "wPvZz-6j2hiD",
        "colab_type": "code",
        "colab": {}
      },
      "source": [
        "y_test_labels = dataset[['Label']]\n",
        "y_test_labels = y_test_labels[5282:]\n",
        "#print(y_test_labels)\n",
        "\n",
        "x_test_features = test_dataset['X_ray_image_name']\n",
        "y_test_labels = test_dataset['Label']"
      ],
      "execution_count": 70,
      "outputs": []
    },
    {
      "cell_type": "code",
      "metadata": {
        "id": "59Dfz65TydP-",
        "colab_type": "code",
        "colab": {
          "base_uri": "https://localhost:8080/",
          "height": 34
        },
        "outputId": "df20a5d5-1d54-47a7-9a3b-5296747cb895"
      },
      "source": [
        "import os\n",
        "list_of_images = os.listdir('Resized_Dataset/train-equalized')\n",
        "len(list_of_images)"
      ],
      "execution_count": 71,
      "outputs": [
        {
          "output_type": "execute_result",
          "data": {
            "text/plain": [
              "5291"
            ]
          },
          "metadata": {
            "tags": []
          },
          "execution_count": 71
        }
      ]
    },
    {
      "cell_type": "code",
      "metadata": {
        "id": "2k-CTddBmDKn",
        "colab_type": "code",
        "colab": {
          "base_uri": "https://localhost:8080/",
          "height": 136
        },
        "outputId": "a4eb163d-c0dc-4b35-bf0a-69ab4ef803dd"
      },
      "source": [
        "y_test = []\n",
        "for label in y_test_labels:\n",
        "  if label == 'Pnemonia':\n",
        "    y_test.append(1)\n",
        "  elif label == 'Normal':\n",
        "    y_test.append(0)\n",
        "  else:\n",
        "    print(label)\n",
        "#print(y_test)\n",
        "y_test = keras.utils.to_categorical(y_test)\n",
        "print(y_test)"
      ],
      "execution_count": 72,
      "outputs": [
        {
          "output_type": "stream",
          "text": [
            "[[0. 1.]\n",
            " [0. 1.]\n",
            " [0. 1.]\n",
            " ...\n",
            " [0. 1.]\n",
            " [1. 0.]\n",
            " [1. 0.]]\n"
          ],
          "name": "stdout"
        }
      ]
    },
    {
      "cell_type": "code",
      "metadata": {
        "id": "mvwVvU_y7Gs_",
        "colab_type": "code",
        "colab": {
          "base_uri": "https://localhost:8080/",
          "height": 286
        },
        "outputId": "067aefa4-3c56-40f9-e6f9-77cc7fd380a2"
      },
      "source": [
        "x_train = []\n",
        "train_path = ('Resized_Dataset/train-equalized/')\n",
        "\n",
        "for image in x_train_features:\n",
        "  if ('.jpg' in image) == True:\n",
        "        image = image[:image.rfind('.jpg')]\n",
        "  elif ('.jpeg' in image) == True:\n",
        "        image = image[:image.rfind('.jpeg')]\n",
        "  elif ('.png' in image) == True:\n",
        "        image = image[:image.rfind('.png')]\n",
        "  image_path = train_path + image\n",
        "  if os.path.isfile(image_path + '.png'):\n",
        "    image = plt.imread(image_path + '.png')\n",
        "    plt.grid(False)\n",
        "    x_train.append(image)\n",
        "len(x_train)"
      ],
      "execution_count": 73,
      "outputs": [
        {
          "output_type": "execute_result",
          "data": {
            "text/plain": [
              "5282"
            ]
          },
          "metadata": {
            "tags": []
          },
          "execution_count": 73
        },
        {
          "output_type": "display_data",
          "data": {
            "image/png": "[encoded data removed]",
            "text/plain": [
              "<Figure size 432x288 with 1 Axes>"
            ]
          },
          "metadata": {
            "tags": [],
            "needs_background": "light"
          }
        }
      ]
    },
    {
      "cell_type": "code",
      "metadata": {
        "id": "XMbM5iaRTUP-",
        "colab_type": "code",
        "colab": {
          "base_uri": "https://localhost:8080/",
          "height": 286
        },
        "outputId": "06e9a86b-ae91-40ec-bdc2-675ca1458d26"
      },
      "source": [
        "x_test = []\n",
        "\n",
        "test_path = ('Resized_Dataset/test-equalized/')\n",
        "\n",
        "for image in x_test_features:\n",
        "  # image.rfind : removes '.jpeg'\n",
        "  image_path =test_path + image[:image.rfind('.jpeg')]\n",
        "\n",
        "  if os.path.isfile(image_path + '.png'):\n",
        "    image = plt.imread(image_path + '.png')\n",
        "    plt.grid(False)\n",
        "    # plt.imshow(image)\n",
        "    # plt.show()\n",
        "    x_test.append(image)\n",
        "len(x_test)"
      ],
      "execution_count": 74,
      "outputs": [
        {
          "output_type": "execute_result",
          "data": {
            "text/plain": [
              "624"
            ]
          },
          "metadata": {
            "tags": []
          },
          "execution_count": 74
        },
        {
          "output_type": "display_data",
          "data": {
            "image/png": "[encoded data removed]",
            "text/plain": [
              "<Figure size 432x288 with 1 Axes>"
            ]
          },
          "metadata": {
            "tags": [],
            "needs_background": "light"
          }
        }
      ]
    },
    {
      "cell_type": "code",
      "metadata": {
        "id": "5VACY4RGPiqH",
        "colab_type": "code",
        "colab": {
          "base_uri": "https://localhost:8080/",
          "height": 51
        },
        "outputId": "18026198-60e2-462f-8a03-b4cef50a59c3"
      },
      "source": [
        "x_train = np.array(x_train, np.float16) / 255.0\n",
        "y_train = np.array(y_train)\n",
        "print(len(x_train), len(y_train), x_train.shape, y_train.shape)\n",
        "\n",
        "x_test = np.array(x_test, np.float16) / 255.0\n",
        "y_test = np.array(y_test)\n",
        "print(len(x_test), len(y_test), x_test.shape, y_test.shape)"
      ],
      "execution_count": 75,
      "outputs": [
        {
          "output_type": "stream",
          "text": [
            "5282 5282 (5282, 256, 256) (5282, 2)\n",
            "624 624 (624, 256, 256) (624, 2)\n"
          ],
          "name": "stdout"
        }
      ]
    },
    {
      "cell_type": "code",
      "metadata": {
        "id": "rwwo7HNBaoHw",
        "colab_type": "code",
        "colab": {
          "base_uri": "https://localhost:8080/",
          "height": 1000
        },
        "outputId": "1e9f4d37-b9fb-48aa-c02f-64ebd92042aa"
      },
      "source": [
        "# https://colab.research.google.com/github/GoogleCloudPlatform/training-data-analyst/blob/master/courses/fast-and-lean-data-science/07_Keras_Flowers_TPU_squeezenet.ipynb\n",
        "# https://codelabs.developers.google.com/codelabs/keras-flowers-squeezenet/#6 \n",
        "bnmomentum=0.9\n",
        "def fire(x, squeeze, expand):\n",
        "  y = Conv2D(filters=squeeze, kernel_size=1, padding='same', activation='relu')(x)\n",
        "  y = BatchNormalization(momentum=bnmomentum)(y)\n",
        "  y1 = Conv2D(filters=expand//2, kernel_size=1, padding='same', activation='relu')(y)\n",
        "  y1 = BatchNormalization(momentum=bnmomentum)(y1)\n",
        "  y3 = Conv2D(filters=expand//2, kernel_size=3, padding='same', activation='relu')(y)\n",
        "  y3 = BatchNormalization(momentum=bnmomentum)(y3)\n",
        "  return concatenate([y1, y3])\n",
        "\n",
        "def fire_module(squeeze, expand):\n",
        "  return lambda x: fire(x, squeeze, expand)\n",
        "x = Input(shape=[256, 256, 1])\n",
        "y = fire_module(squeeze=20, expand=80)(x) # squeeze is less than expand\n",
        "y = fire_module(squeeze=20, expand=80)(y)\n",
        "\n",
        "\n",
        "y = Conv2D(kernel_size=3, filters=32, padding='same', activation='relu')(x)\n",
        "y = BatchNormalization(momentum=bnmomentum)(y)\n",
        "y = fire_module(30, 60)(y)\n",
        "y = MaxPooling2D(pool_size=2)(y)\n",
        "y = fire_module(24, 96)(y)\n",
        "y = MaxPooling2D(pool_size=2)(y)\n",
        "y = fire_module(24, 128)(y)\n",
        "y = MaxPooling2D(pool_size=2)(y)\n",
        "y = fire_module(24, 96)(y)\n",
        "y = MaxPooling2D(pool_size=2)(y)\n",
        "y = fire_module(30, 60)(y)\n",
        "y = GlobalAveragePooling2D()(y)\n",
        "y = Dense(2, activation='softmax')(y)\n",
        "model = tf.keras.Model(x, y)\n",
        "model.compile(optimizer='adam', loss='categorical_crossentropy', metrics = ['accuracy'])\n",
        "model.summary()"
      ],
      "execution_count": 87,
      "outputs": [
        {
          "output_type": "stream",
          "text": [
            "Model: \"model_6\"\n",
            "__________________________________________________________________________________________________\n",
            "Layer (type)                    Output Shape         Param #     Connected to                     \n",
            "==================================================================================================\n",
            "input_11 (InputLayer)           [(None, 256, 256, 1) 0                                            \n",
            "__________________________________________________________________________________________________\n",
            "conv2d_105 (Conv2D)             (None, 256, 256, 32) 320         input_11[0][0]                   \n",
            "__________________________________________________________________________________________________\n",
            "batch_normalization_105 (BatchN (None, 256, 256, 32) 128         conv2d_105[0][0]                 \n",
            "__________________________________________________________________________________________________\n",
            "conv2d_106 (Conv2D)             (None, 256, 256, 30) 990         batch_normalization_105[0][0]    \n",
            "__________________________________________________________________________________________________\n",
            "batch_normalization_106 (BatchN (None, 256, 256, 30) 120         conv2d_106[0][0]                 \n",
            "__________________________________________________________________________________________________\n",
            "conv2d_107 (Conv2D)             (None, 256, 256, 30) 930         batch_normalization_106[0][0]    \n",
            "__________________________________________________________________________________________________\n",
            "conv2d_108 (Conv2D)             (None, 256, 256, 30) 8130        batch_normalization_106[0][0]    \n",
            "__________________________________________________________________________________________________\n",
            "batch_normalization_107 (BatchN (None, 256, 256, 30) 120         conv2d_107[0][0]                 \n",
            "__________________________________________________________________________________________________\n",
            "batch_normalization_108 (BatchN (None, 256, 256, 30) 120         conv2d_108[0][0]                 \n",
            "__________________________________________________________________________________________________\n",
            "concatenate_33 (Concatenate)    (None, 256, 256, 60) 0           batch_normalization_107[0][0]    \n",
            "                                                                 batch_normalization_108[0][0]    \n",
            "__________________________________________________________________________________________________\n",
            "max_pooling2d_21 (MaxPooling2D) (None, 128, 128, 60) 0           concatenate_33[0][0]             \n",
            "__________________________________________________________________________________________________\n",
            "conv2d_109 (Conv2D)             (None, 128, 128, 24) 1464        max_pooling2d_21[0][0]           \n",
            "__________________________________________________________________________________________________\n",
            "batch_normalization_109 (BatchN (None, 128, 128, 24) 96          conv2d_109[0][0]                 \n",
            "__________________________________________________________________________________________________\n",
            "conv2d_110 (Conv2D)             (None, 128, 128, 48) 1200        batch_normalization_109[0][0]    \n",
            "__________________________________________________________________________________________________\n",
            "conv2d_111 (Conv2D)             (None, 128, 128, 48) 10416       batch_normalization_109[0][0]    \n",
            "__________________________________________________________________________________________________\n",
            "batch_normalization_110 (BatchN (None, 128, 128, 48) 192         conv2d_110[0][0]                 \n",
            "__________________________________________________________________________________________________\n",
            "batch_normalization_111 (BatchN (None, 128, 128, 48) 192         conv2d_111[0][0]                 \n",
            "__________________________________________________________________________________________________\n",
            "concatenate_34 (Concatenate)    (None, 128, 128, 96) 0           batch_normalization_110[0][0]    \n",
            "                                                                 batch_normalization_111[0][0]    \n",
            "__________________________________________________________________________________________________\n",
            "max_pooling2d_22 (MaxPooling2D) (None, 64, 64, 96)   0           concatenate_34[0][0]             \n",
            "__________________________________________________________________________________________________\n",
            "conv2d_112 (Conv2D)             (None, 64, 64, 24)   2328        max_pooling2d_22[0][0]           \n",
            "__________________________________________________________________________________________________\n",
            "batch_normalization_112 (BatchN (None, 64, 64, 24)   96          conv2d_112[0][0]                 \n",
            "__________________________________________________________________________________________________\n",
            "conv2d_113 (Conv2D)             (None, 64, 64, 64)   1600        batch_normalization_112[0][0]    \n",
            "__________________________________________________________________________________________________\n",
            "conv2d_114 (Conv2D)             (None, 64, 64, 64)   13888       batch_normalization_112[0][0]    \n",
            "__________________________________________________________________________________________________\n",
            "batch_normalization_113 (BatchN (None, 64, 64, 64)   256         conv2d_113[0][0]                 \n",
            "__________________________________________________________________________________________________\n",
            "batch_normalization_114 (BatchN (None, 64, 64, 64)   256         conv2d_114[0][0]                 \n",
            "__________________________________________________________________________________________________\n",
            "concatenate_35 (Concatenate)    (None, 64, 64, 128)  0           batch_normalization_113[0][0]    \n",
            "                                                                 batch_normalization_114[0][0]    \n",
            "__________________________________________________________________________________________________\n",
            "max_pooling2d_23 (MaxPooling2D) (None, 32, 32, 128)  0           concatenate_35[0][0]             \n",
            "__________________________________________________________________________________________________\n",
            "conv2d_115 (Conv2D)             (None, 32, 32, 24)   3096        max_pooling2d_23[0][0]           \n",
            "__________________________________________________________________________________________________\n",
            "batch_normalization_115 (BatchN (None, 32, 32, 24)   96          conv2d_115[0][0]                 \n",
            "__________________________________________________________________________________________________\n",
            "conv2d_116 (Conv2D)             (None, 32, 32, 48)   1200        batch_normalization_115[0][0]    \n",
            "__________________________________________________________________________________________________\n",
            "conv2d_117 (Conv2D)             (None, 32, 32, 48)   10416       batch_normalization_115[0][0]    \n",
            "__________________________________________________________________________________________________\n",
            "batch_normalization_116 (BatchN (None, 32, 32, 48)   192         conv2d_116[0][0]                 \n",
            "__________________________________________________________________________________________________\n",
            "batch_normalization_117 (BatchN (None, 32, 32, 48)   192         conv2d_117[0][0]                 \n",
            "__________________________________________________________________________________________________\n",
            "concatenate_36 (Concatenate)    (None, 32, 32, 96)   0           batch_normalization_116[0][0]    \n",
            "                                                                 batch_normalization_117[0][0]    \n",
            "__________________________________________________________________________________________________\n",
            "max_pooling2d_24 (MaxPooling2D) (None, 16, 16, 96)   0           concatenate_36[0][0]             \n",
            "__________________________________________________________________________________________________\n",
            "conv2d_118 (Conv2D)             (None, 16, 16, 30)   2910        max_pooling2d_24[0][0]           \n",
            "__________________________________________________________________________________________________\n",
            "batch_normalization_118 (BatchN (None, 16, 16, 30)   120         conv2d_118[0][0]                 \n",
            "__________________________________________________________________________________________________\n",
            "conv2d_119 (Conv2D)             (None, 16, 16, 30)   930         batch_normalization_118[0][0]    \n",
            "__________________________________________________________________________________________________\n",
            "conv2d_120 (Conv2D)             (None, 16, 16, 30)   8130        batch_normalization_118[0][0]    \n",
            "__________________________________________________________________________________________________\n",
            "batch_normalization_119 (BatchN (None, 16, 16, 30)   120         conv2d_119[0][0]                 \n",
            "__________________________________________________________________________________________________\n",
            "batch_normalization_120 (BatchN (None, 16, 16, 30)   120         conv2d_120[0][0]                 \n",
            "__________________________________________________________________________________________________\n",
            "concatenate_37 (Concatenate)    (None, 16, 16, 60)   0           batch_normalization_119[0][0]    \n",
            "                                                                 batch_normalization_120[0][0]    \n",
            "__________________________________________________________________________________________________\n",
            "global_average_pooling2d_6 (Glo (None, 60)           0           concatenate_37[0][0]             \n",
            "__________________________________________________________________________________________________\n",
            "dense_6 (Dense)                 (None, 2)            122         global_average_pooling2d_6[0][0] \n",
            "==================================================================================================\n",
            "Total params: 70,486\n",
            "Trainable params: 69,278\n",
            "Non-trainable params: 1,208\n",
            "__________________________________________________________________________________________________\n"
          ],
          "name": "stdout"
        }
      ]
    },
    {
      "cell_type": "code",
      "metadata": {
        "id": "FvagarzZSp1T",
        "colab_type": "code",
        "colab": {
          "base_uri": "https://localhost:8080/",
          "height": 187
        },
        "outputId": "599967f2-247d-41a8-a060-a3087c78e270"
      },
      "source": [
        "validation_split = 0.25\n",
        "history = model.fit(x_train, y_train, epochs = 5, validation_split=validation_split)"
      ],
      "execution_count": 88,
      "outputs": [
        {
          "output_type": "stream",
          "text": [
            "Epoch 1/5\n",
            "124/124 [==============================] - 61s 491ms/step - loss: 0.2995 - accuracy: 0.8884 - val_loss: 0.2684 - val_accuracy: 0.9152\n",
            "Epoch 2/5\n",
            "124/124 [==============================] - 59s 473ms/step - loss: 0.1466 - accuracy: 0.9515 - val_loss: 0.3164 - val_accuracy: 0.8509\n",
            "Epoch 3/5\n",
            "124/124 [==============================] - 59s 473ms/step - loss: 0.1077 - accuracy: 0.9599 - val_loss: 0.0950 - val_accuracy: 0.9682\n",
            "Epoch 4/5\n",
            "124/124 [==============================] - 59s 473ms/step - loss: 0.0851 - accuracy: 0.9692 - val_loss: 0.1618 - val_accuracy: 0.9349\n",
            "Epoch 5/5\n",
            "124/124 [==============================] - 59s 472ms/step - loss: 0.0712 - accuracy: 0.9727 - val_loss: 1.1113 - val_accuracy: 0.6942\n"
          ],
          "name": "stdout"
        }
      ]
    },
    {
      "cell_type": "code",
      "metadata": {
        "id": "DiELDieBDiOm",
        "colab_type": "code",
        "colab": {
          "base_uri": "https://localhost:8080/",
          "height": 317
        },
        "outputId": "c0152655-5937-4eba-ee2b-ef93e5666b42"
      },
      "source": [
        "plt.plot(history.history['accuracy'], label='accuracy')\n",
        "plt.plot(history.history['val_accuracy'], label = 'val_accuracy')\n",
        "plt.xlabel('Epoch')\n",
        "plt.ylabel('Accuracy')\n",
        "plt.ylim([0.5, 1])\n",
        "plt.legend(loc='lower right')\n",
        "\n",
        "test_loss, test_acc = model.evaluate(x_test,  y_test)\n",
        "print(test_loss, test_acc)"
      ],
      "execution_count": 89,
      "outputs": [
        {
          "output_type": "stream",
          "text": [
            "20/20 [==============================] - 3s 143ms/step - loss: 0.7662 - accuracy: 0.7468\n",
            "0.7661517262458801 0.7467948794364929\n"
          ],
          "name": "stdout"
        },
        {
          "output_type": "display_data",
          "data": {
            "image/png": "[encoded data removed]",
            "text/plain": [
              "<Figure size 432x288 with 1 Axes>"
            ]
          },
          "metadata": {
            "tags": [],
            "needs_background": "light"
          }
        }
      ]
    }
  ]
}