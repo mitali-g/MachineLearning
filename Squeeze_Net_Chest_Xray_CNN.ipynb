{
  "nbformat": 4,
  "nbformat_minor": 0,
  "metadata": {
    "colab": {
      "name": "Squeeze_Net_Chest_Xray_CNN.ipynb",
      "provenance": [],
      "mount_file_id": "1nb2IIKOav21a24vUkhDO4UEHyPWKNj9o",
      "authorship_tag": "ABX9TyNkEnQHXv8gXbnLPi3DTSeW",
      "include_colab_link": true
    },
    "kernelspec": {
      "name": "python3",
      "display_name": "Python 3"
    },
    "accelerator": "GPU"
  },
  "cells": [
    {
      "cell_type": "markdown",
      "metadata": {
        "id": "view-in-github",
        "colab_type": "text"
      },
      "source": [
        "<a href=\"https://colab.research.google.com/github/mitali-g/MachineLearning/blob/master/Squeeze_Net_Chest_Xray_CNN.ipynb\" target=\"_parent\"><img src=\"https://colab.research.google.com/assets/colab-badge.svg\" alt=\"Open In Colab\"/></a>"
      ]
    },
    {
      "cell_type": "code",
      "metadata": {
        "id": "DxZSd1ddprds",
        "colab_type": "code",
        "colab": {}
      },
      "source": [
        "import tensorflow as tf\n",
        "import numpy as np\n",
        "import matplotlib.pyplot as plt\n",
        "from tensorflow import keras\n",
        "from keras.models import Sequential, Model\n",
        "from tensorflow.keras.layers import Dense, Conv2D, MaxPooling2D, Flatten, Reshape, Input, GlobalAveragePooling2D, BatchNormalization, concatenate\n",
        "from keras.layers import Dropout, Concatenate, Activation\n",
        "from keras.layers import Convolution3D, MaxPooling3D, AveragePooling3D\n",
        "from keras.layers import GlobalMaxPooling3D, GlobalAveragePooling3D\n",
        "from keras.utils import np_utils\n",
        "import os, cv2, random\n",
        "import pandas as pd\n",
        "%matplotlib inline"
      ],
      "execution_count": 2,
      "outputs": []
    },
    {
      "cell_type": "code",
      "metadata": {
        "id": "7n87zlBCr-OO",
        "colab_type": "code",
        "colab": {
          "base_uri": "https://localhost:8080/",
          "height": 34
        },
        "outputId": "96697bd6-d333-425c-dbb5-1dd39ea20405"
      },
      "source": [
        "!unzip -q NEW_Resized_Dataset.zip"
      ],
      "execution_count": 46,
      "outputs": [
        {
          "output_type": "stream",
          "text": [
            "replace Resized_Dataset/.DS_Store? [y]es, [n]o, [A]ll, [N]one, [r]ename: "
          ],
          "name": "stdout"
        }
      ]
    },
    {
      "cell_type": "code",
      "metadata": {
        "id": "99ZXcUxgmS7k",
        "colab_type": "code",
        "colab": {
          "base_uri": "https://localhost:8080/",
          "height": 34
        },
        "outputId": "d4e84e7d-26f0-46a2-86e8-ebf618ef31a1"
      },
      "source": [
        "!ls Resized_Dataset/train-equalized|wc"
      ],
      "execution_count": 4,
      "outputs": [
        {
          "output_type": "stream",
          "text": [
            "   5291    5291  137110\n"
          ],
          "name": "stdout"
        }
      ]
    },
    {
      "cell_type": "code",
      "metadata": {
        "id": "pyt-_JBnxdKq",
        "colab_type": "code",
        "colab": {
          "base_uri": "https://localhost:8080/",
          "height": 436
        },
        "outputId": "b8bc474d-ceae-41fa-f692-0a91a34151fb"
      },
      "source": [
        "dataset = pd.read_csv(\"Resized_Dataset/Chest_xray_Corona_Metadata.csv\")\n",
        "print(dataset.shape)\n",
        "dataset[5282:]"
      ],
      "execution_count": 62,
      "outputs": [
        {
          "output_type": "stream",
          "text": [
            "(5906, 6)\n"
          ],
          "name": "stdout"
        },
        {
          "output_type": "execute_result",
          "data": {
            "text/html": [
              "<div>\n",
              "<style scoped>\n",
              "    .dataframe tbody tr th:only-of-type {\n",
              "        vertical-align: middle;\n",
              "    }\n",
              "\n",
              "    .dataframe tbody tr th {\n",
              "        vertical-align: top;\n",
              "    }\n",
              "\n",
              "    .dataframe thead th {\n",
              "        text-align: right;\n",
              "    }\n",
              "</style>\n",
              "<table border=\"1\" class=\"dataframe\">\n",
              "  <thead>\n",
              "    <tr style=\"text-align: right;\">\n",
              "      <th></th>\n",
              "      <th>Unnamed: 0</th>\n",
              "      <th>X_ray_image_name</th>\n",
              "      <th>Label</th>\n",
              "      <th>Dataset_type</th>\n",
              "      <th>Label_2_Virus_category</th>\n",
              "      <th>Label_1_Virus_category</th>\n",
              "    </tr>\n",
              "  </thead>\n",
              "  <tbody>\n",
              "    <tr>\n",
              "      <th>5282</th>\n",
              "      <td>5309</td>\n",
              "      <td>IM-0021-0001.jpeg</td>\n",
              "      <td>Normal</td>\n",
              "      <td>TEST</td>\n",
              "      <td>NaN</td>\n",
              "      <td>NaN</td>\n",
              "    </tr>\n",
              "    <tr>\n",
              "      <th>5283</th>\n",
              "      <td>5310</td>\n",
              "      <td>IM-0019-0001.jpeg</td>\n",
              "      <td>Normal</td>\n",
              "      <td>TEST</td>\n",
              "      <td>NaN</td>\n",
              "      <td>NaN</td>\n",
              "    </tr>\n",
              "    <tr>\n",
              "      <th>5284</th>\n",
              "      <td>5311</td>\n",
              "      <td>IM-0017-0001.jpeg</td>\n",
              "      <td>Normal</td>\n",
              "      <td>TEST</td>\n",
              "      <td>NaN</td>\n",
              "      <td>NaN</td>\n",
              "    </tr>\n",
              "    <tr>\n",
              "      <th>5285</th>\n",
              "      <td>5312</td>\n",
              "      <td>IM-0016-0001.jpeg</td>\n",
              "      <td>Normal</td>\n",
              "      <td>TEST</td>\n",
              "      <td>NaN</td>\n",
              "      <td>NaN</td>\n",
              "    </tr>\n",
              "    <tr>\n",
              "      <th>5286</th>\n",
              "      <td>5313</td>\n",
              "      <td>IM-0015-0001.jpeg</td>\n",
              "      <td>Normal</td>\n",
              "      <td>TEST</td>\n",
              "      <td>NaN</td>\n",
              "      <td>NaN</td>\n",
              "    </tr>\n",
              "    <tr>\n",
              "      <th>...</th>\n",
              "      <td>...</td>\n",
              "      <td>...</td>\n",
              "      <td>...</td>\n",
              "      <td>...</td>\n",
              "      <td>...</td>\n",
              "      <td>...</td>\n",
              "    </tr>\n",
              "    <tr>\n",
              "      <th>5901</th>\n",
              "      <td>5928</td>\n",
              "      <td>person1637_virus_2834.jpeg</td>\n",
              "      <td>Pnemonia</td>\n",
              "      <td>TEST</td>\n",
              "      <td>NaN</td>\n",
              "      <td>Virus</td>\n",
              "    </tr>\n",
              "    <tr>\n",
              "      <th>5902</th>\n",
              "      <td>5929</td>\n",
              "      <td>person1635_virus_2831.jpeg</td>\n",
              "      <td>Pnemonia</td>\n",
              "      <td>TEST</td>\n",
              "      <td>NaN</td>\n",
              "      <td>Virus</td>\n",
              "    </tr>\n",
              "    <tr>\n",
              "      <th>5903</th>\n",
              "      <td>5930</td>\n",
              "      <td>person1634_virus_2830.jpeg</td>\n",
              "      <td>Pnemonia</td>\n",
              "      <td>TEST</td>\n",
              "      <td>NaN</td>\n",
              "      <td>Virus</td>\n",
              "    </tr>\n",
              "    <tr>\n",
              "      <th>5904</th>\n",
              "      <td>5931</td>\n",
              "      <td>person1633_virus_2829.jpeg</td>\n",
              "      <td>Pnemonia</td>\n",
              "      <td>TEST</td>\n",
              "      <td>NaN</td>\n",
              "      <td>Virus</td>\n",
              "    </tr>\n",
              "    <tr>\n",
              "      <th>5905</th>\n",
              "      <td>5932</td>\n",
              "      <td>person1632_virus_2827.jpeg</td>\n",
              "      <td>Pnemonia</td>\n",
              "      <td>TEST</td>\n",
              "      <td>NaN</td>\n",
              "      <td>Virus</td>\n",
              "    </tr>\n",
              "  </tbody>\n",
              "</table>\n",
              "<p>624 rows × 6 columns</p>\n",
              "</div>"
            ],
            "text/plain": [
              "      Unnamed: 0  ... Label_1_Virus_category\n",
              "5282        5309  ...                    NaN\n",
              "5283        5310  ...                    NaN\n",
              "5284        5311  ...                    NaN\n",
              "5285        5312  ...                    NaN\n",
              "5286        5313  ...                    NaN\n",
              "...          ...  ...                    ...\n",
              "5901        5928  ...                  Virus\n",
              "5902        5929  ...                  Virus\n",
              "5903        5930  ...                  Virus\n",
              "5904        5931  ...                  Virus\n",
              "5905        5932  ...                  Virus\n",
              "\n",
              "[624 rows x 6 columns]"
            ]
          },
          "metadata": {
            "tags": []
          },
          "execution_count": 62
        }
      ]
    },
    {
      "cell_type": "code",
      "metadata": {
        "id": "xw2P5R8MyjWt",
        "colab_type": "code",
        "colab": {}
      },
      "source": [
        "dataset = dataset[['X_ray_image_name', 'Label']]"
      ],
      "execution_count": 63,
      "outputs": []
    },
    {
      "cell_type": "code",
      "metadata": {
        "id": "YQFirBIf0rNm",
        "colab_type": "code",
        "colab": {}
      },
      "source": [
        "x_train_features = dataset[['X_ray_image_name']]\n",
        "x_train_features = x_train_features[0:5282]\n",
        "#print(x_train_features)"
      ],
      "execution_count": 64,
      "outputs": []
    },
    {
      "cell_type": "code",
      "metadata": {
        "id": "zliG5tTKlqbe",
        "colab_type": "code",
        "colab": {}
      },
      "source": [
        "y_train_labels = dataset[['Label']]\n",
        "y_train_labels = y_train_labels[0:5282]\n",
        "#print(y_train_labels)"
      ],
      "execution_count": 65,
      "outputs": []
    },
    {
      "cell_type": "code",
      "metadata": {
        "id": "IhC6KGiBPu1O",
        "colab_type": "code",
        "colab": {}
      },
      "source": [
        "from sklearn.utils import shuffle\n",
        "train_dataset = dataset[0:5282]\n",
        "test_dataset = dataset[5282:]\n",
        "\n",
        "train_dataset = shuffle(train_dataset)\n",
        "test_dataset = shuffle(test_dataset)"
      ],
      "execution_count": 66,
      "outputs": []
    },
    {
      "cell_type": "code",
      "metadata": {
        "id": "Er5FIYpKiLge",
        "colab_type": "code",
        "colab": {}
      },
      "source": [
        "x_train_features = train_dataset['X_ray_image_name']\n",
        "y_train_labels = train_dataset['Label']"
      ],
      "execution_count": 67,
      "outputs": []
    },
    {
      "cell_type": "code",
      "metadata": {
        "id": "nM3CdIkk1OkQ",
        "colab_type": "code",
        "colab": {
          "base_uri": "https://localhost:8080/",
          "height": 136
        },
        "outputId": "bc72a4f7-e4a4-4570-df2a-b8a90a77beb5"
      },
      "source": [
        "y_train = []\n",
        "for label in y_train_labels:\n",
        "  if label == 'Pnemonia':\n",
        "    y_train.append(1)\n",
        "  elif label == 'Normal':\n",
        "    y_train.append(0)\n",
        "  else:\n",
        "    print(label)\n",
        "#print(y_train)\n",
        "y_train = keras.utils.to_categorical(y_train)\n",
        "print(y_train)"
      ],
      "execution_count": 68,
      "outputs": [
        {
          "output_type": "stream",
          "text": [
            "[[1. 0.]\n",
            " [0. 1.]\n",
            " [0. 1.]\n",
            " ...\n",
            " [0. 1.]\n",
            " [0. 1.]\n",
            " [0. 1.]]\n"
          ],
          "name": "stdout"
        }
      ]
    },
    {
      "cell_type": "code",
      "metadata": {
        "id": "zL8mE4A41WJe",
        "colab_type": "code",
        "colab": {}
      },
      "source": [
        "x_test_features = dataset[['X_ray_image_name']]\n",
        "x_test_features = x_test_features[5282:]\n",
        "#print(x_test_features)"
      ],
      "execution_count": 69,
      "outputs": []
    },
    {
      "cell_type": "code",
      "metadata": {
        "id": "wPvZz-6j2hiD",
        "colab_type": "code",
        "colab": {}
      },
      "source": [
        "y_test_labels = dataset[['Label']]\n",
        "y_test_labels = y_test_labels[5282:]\n",
        "#print(y_test_labels)\n",
        "\n",
        "x_test_features = test_dataset['X_ray_image_name']\n",
        "y_test_labels = test_dataset['Label']"
      ],
      "execution_count": 70,
      "outputs": []
    },
    {
      "cell_type": "code",
      "metadata": {
        "id": "59Dfz65TydP-",
        "colab_type": "code",
        "colab": {
          "base_uri": "https://localhost:8080/",
          "height": 34
        },
        "outputId": "df20a5d5-1d54-47a7-9a3b-5296747cb895"
      },
      "source": [
        "import os\n",
        "list_of_images = os.listdir('Resized_Dataset/train-equalized')\n",
        "len(list_of_images)"
      ],
      "execution_count": 71,
      "outputs": [
        {
          "output_type": "execute_result",
          "data": {
            "text/plain": [
              "5291"
            ]
          },
          "metadata": {
            "tags": []
          },
          "execution_count": 71
        }
      ]
    },
    {
      "cell_type": "code",
      "metadata": {
        "id": "2k-CTddBmDKn",
        "colab_type": "code",
        "colab": {
          "base_uri": "https://localhost:8080/",
          "height": 136
        },
        "outputId": "a4eb163d-c0dc-4b35-bf0a-69ab4ef803dd"
      },
      "source": [
        "y_test = []\n",
        "for label in y_test_labels:\n",
        "  if label == 'Pnemonia':\n",
        "    y_test.append(1)\n",
        "  elif label == 'Normal':\n",
        "    y_test.append(0)\n",
        "  else:\n",
        "    print(label)\n",
        "#print(y_test)\n",
        "y_test = keras.utils.to_categorical(y_test)\n",
        "print(y_test)"
      ],
      "execution_count": 72,
      "outputs": [
        {
          "output_type": "stream",
          "text": [
            "[[0. 1.]\n",
            " [0. 1.]\n",
            " [0. 1.]\n",
            " ...\n",
            " [0. 1.]\n",
            " [1. 0.]\n",
            " [1. 0.]]\n"
          ],
          "name": "stdout"
        }
      ]
    },
    {
      "cell_type": "code",
      "metadata": {
        "id": "mvwVvU_y7Gs_",
        "colab_type": "code",
        "colab": {
          "base_uri": "https://localhost:8080/",
          "height": 286
        },
        "outputId": "067aefa4-3c56-40f9-e6f9-77cc7fd380a2"
      },
      "source": [
        "x_train = []\n",
        "train_path = ('Resized_Dataset/train-equalized/')\n",
        "\n",
        "for image in x_train_features:\n",
        "  if ('.jpg' in image) == True:\n",
        "        image = image[:image.rfind('.jpg')]\n",
        "  elif ('.jpeg' in image) == True:\n",
        "        image = image[:image.rfind('.jpeg')]\n",
        "  elif ('.png' in image) == True:\n",
        "        image = image[:image.rfind('.png')]\n",
        "  image_path = train_path + image\n",
        "  if os.path.isfile(image_path + '.png'):\n",
        "    image = plt.imread(image_path + '.png')\n",
        "    plt.grid(False)\n",
        "    x_train.append(image)\n",
        "len(x_train)"
      ],
      "execution_count": 73,
      "outputs": [
        {
          "output_type": "execute_result",
          "data": {
            "text/plain": [
              "5282"
            ]
          },
          "metadata": {
            "tags": []
          },
          "execution_count": 73
        },
        {
          "output_type": "display_data",
          "data": {
            "image/png": "[encoded data removed]",
            "text/plain": [
              "<Figure size 432x288 with 1 Axes>"
            ]
          },
          "metadata": {
            "tags": [],
            "needs_background": "light"
          }
        }
      ]
    },
    {
      "cell_type": "code",
      "metadata": {
        "id": "XMbM5iaRTUP-",
        "colab_type": "code",
        "colab": {
          "base_uri": "https://localhost:8080/",
          "height": 286
        },
        "outputId": "06e9a86b-ae91-40ec-bdc2-675ca1458d26"
      },
      "source": [
        "x_test = []\n",
        "\n",
        "test_path = ('Resized_Dataset/test-equalized/')\n",
        "\n",
        "for image in x_test_features:\n",
        "  # image.rfind : removes '.jpeg'\n",
        "  image_path =test_path + image[:image.rfind('.jpeg')]\n",
        "\n",
        "  if os.path.isfile(image_path + '.png'):\n",
        "    image = plt.imread(image_path + '.png')\n",
        "    plt.grid(False)\n",
        "    # plt.imshow(image)\n",
        "    # plt.show()\n",
        "    x_test.append(image)\n",
        "len(x_test)"
      ],
      "execution_count": 74,
      "outputs": [
        {
          "output_type": "execute_result",
          "data": {
            "text/plain": [
              "624"
            ]
          },
          "metadata": {
            "tags": []
          },
          "execution_count": 74
        },
        {
          "output_type": "display_data",
          "data": {
            "image/png": "[encoded data removed]",
            "text/plain": [
              "<Figure size 432x288 with 1 Axes>"
            ]
          },
          "metadata": {
            "tags": [],
            "needs_background": "light"
          }
        }
      ]
    },
    {
      "cell_type": "code",
      "metadata": {
        "id": "5VACY4RGPiqH",
        "colab_type": "code",
        "colab": {
          "base_uri": "https://localhost:8080/",
          "height": 51
        },
        "outputId": "18026198-60e2-462f-8a03-b4cef50a59c3"
      },
      "source": [
        "x_train = np.array(x_train, np.float16) / 255.0\n",
        "y_train = np.array(y_train)\n",
        "print(len(x_train), len(y_train), x_train.shape, y_train.shape)\n",
        "\n",
        "x_test = np.array(x_test, np.float16) / 255.0\n",
        "y_test = np.array(y_test)\n",
        "print(len(x_test), len(y_test), x_test.shape, y_test.shape)"
      ],
      "execution_count": 75,
      "outputs": [
        {
          "output_type": "stream",
          "text": [
            "5282 5282 (5282, 256, 256) (5282, 2)\n",
            "624 624 (624, 256, 256) (624, 2)\n"
          ],
          "name": "stdout"
        }
      ]
    },
    {
      "cell_type": "code",
      "metadata": {
        "id": "rwwo7HNBaoHw",
        "colab_type": "code",
        "colab": {
          "base_uri": "https://localhost:8080/",
          "height": 1000
        },
        "outputId": "5c1f9378-780b-427e-9b88-c2c9349acae3"
      },
      "source": [
        "# https://colab.research.google.com/github/GoogleCloudPlatform/training-data-analyst/blob/master/courses/fast-and-lean-data-science/07_Keras_Flowers_TPU_squeezenet.ipynb\n",
        "# https://codelabs.developers.google.com/codelabs/keras-flowers-squeezenet/#6 \n",
        "bnmomentum=0.9\n",
        "def fire(x, squeeze, expand):\n",
        "  y = Conv2D(filters=squeeze, kernel_size=1, padding='same', activation='relu')(x)\n",
        "  y = BatchNormalization(momentum=bnmomentum)(y)\n",
        "  y1 = Conv2D(filters=expand//2, kernel_size=1, padding='same', activation='relu')(y)\n",
        "  y1 = BatchNormalization(momentum=bnmomentum)(y1)\n",
        "  y3 = Conv2D(filters=expand//2, kernel_size=3, padding='same', activation='relu')(y)\n",
        "  y3 = BatchNormalization(momentum=bnmomentum)(y3)\n",
        "  return concatenate([y1, y3])\n",
        "\n",
        "def fire_module(squeeze, expand):\n",
        "  return lambda x: fire(x, squeeze, expand)\n",
        "x = Input(shape=[256, 256, 1])\n",
        "y = fire_module(squeeze=20, expand=80)(x) # squeeze is less than expand\n",
        "y = fire_module(squeeze=20, expand=80)(y)\n",
        "\n",
        "\n",
        "y = Conv2D(kernel_size=3, filters=32, padding='same', activation='relu')(x)\n",
        "y = BatchNormalization(momentum=bnmomentum)(y)\n",
        "y = fire_module(30, 60)(y)\n",
        "y = MaxPooling2D(pool_size=2)(y)\n",
        "y = fire_module(30, 150)(y)\n",
        "y = MaxPooling2D(pool_size=2)(y)\n",
        "y = fire_module(30, 250)(y)\n",
        "y = MaxPooling2D(pool_size=2)(y)\n",
        "y = fire_module(30, 150)(y)\n",
        "y = MaxPooling2D(pool_size=2)(y)\n",
        "y = fire_module(30, 60)(y)\n",
        "y = GlobalAveragePooling2D()(y)\n",
        "y = Dense(2, activation='softmax')(y)\n",
        "model = tf.keras.Model(x, y)\n",
        "model.compile(optimizer='adam', loss='categorical_crossentropy', metrics = ['accuracy'])\n",
        "model.summary()"
      ],
      "execution_count": 90,
      "outputs": [
        {
          "output_type": "stream",
          "text": [
            "Model: \"model_7\"\n",
            "__________________________________________________________________________________________________\n",
            "Layer (type)                    Output Shape         Param #     Connected to                     \n",
            "==================================================================================================\n",
            "input_12 (InputLayer)           [(None, 256, 256, 1) 0                                            \n",
            "__________________________________________________________________________________________________\n",
            "conv2d_127 (Conv2D)             (None, 256, 256, 32) 320         input_12[0][0]                   \n",
            "__________________________________________________________________________________________________\n",
            "batch_normalization_127 (BatchN (None, 256, 256, 32) 128         conv2d_127[0][0]                 \n",
            "__________________________________________________________________________________________________\n",
            "conv2d_128 (Conv2D)             (None, 256, 256, 30) 990         batch_normalization_127[0][0]    \n",
            "__________________________________________________________________________________________________\n",
            "batch_normalization_128 (BatchN (None, 256, 256, 30) 120         conv2d_128[0][0]                 \n",
            "__________________________________________________________________________________________________\n",
            "conv2d_129 (Conv2D)             (None, 256, 256, 30) 930         batch_normalization_128[0][0]    \n",
            "__________________________________________________________________________________________________\n",
            "conv2d_130 (Conv2D)             (None, 256, 256, 30) 8130        batch_normalization_128[0][0]    \n",
            "__________________________________________________________________________________________________\n",
            "batch_normalization_129 (BatchN (None, 256, 256, 30) 120         conv2d_129[0][0]                 \n",
            "__________________________________________________________________________________________________\n",
            "batch_normalization_130 (BatchN (None, 256, 256, 30) 120         conv2d_130[0][0]                 \n",
            "__________________________________________________________________________________________________\n",
            "concatenate_40 (Concatenate)    (None, 256, 256, 60) 0           batch_normalization_129[0][0]    \n",
            "                                                                 batch_normalization_130[0][0]    \n",
            "__________________________________________________________________________________________________\n",
            "max_pooling2d_25 (MaxPooling2D) (None, 128, 128, 60) 0           concatenate_40[0][0]             \n",
            "__________________________________________________________________________________________________\n",
            "conv2d_131 (Conv2D)             (None, 128, 128, 30) 1830        max_pooling2d_25[0][0]           \n",
            "__________________________________________________________________________________________________\n",
            "batch_normalization_131 (BatchN (None, 128, 128, 30) 120         conv2d_131[0][0]                 \n",
            "__________________________________________________________________________________________________\n",
            "conv2d_132 (Conv2D)             (None, 128, 128, 75) 2325        batch_normalization_131[0][0]    \n",
            "__________________________________________________________________________________________________\n",
            "conv2d_133 (Conv2D)             (None, 128, 128, 75) 20325       batch_normalization_131[0][0]    \n",
            "__________________________________________________________________________________________________\n",
            "batch_normalization_132 (BatchN (None, 128, 128, 75) 300         conv2d_132[0][0]                 \n",
            "__________________________________________________________________________________________________\n",
            "batch_normalization_133 (BatchN (None, 128, 128, 75) 300         conv2d_133[0][0]                 \n",
            "__________________________________________________________________________________________________\n",
            "concatenate_41 (Concatenate)    (None, 128, 128, 150 0           batch_normalization_132[0][0]    \n",
            "                                                                 batch_normalization_133[0][0]    \n",
            "__________________________________________________________________________________________________\n",
            "max_pooling2d_26 (MaxPooling2D) (None, 64, 64, 150)  0           concatenate_41[0][0]             \n",
            "__________________________________________________________________________________________________\n",
            "conv2d_134 (Conv2D)             (None, 64, 64, 30)   4530        max_pooling2d_26[0][0]           \n",
            "__________________________________________________________________________________________________\n",
            "batch_normalization_134 (BatchN (None, 64, 64, 30)   120         conv2d_134[0][0]                 \n",
            "__________________________________________________________________________________________________\n",
            "conv2d_135 (Conv2D)             (None, 64, 64, 125)  3875        batch_normalization_134[0][0]    \n",
            "__________________________________________________________________________________________________\n",
            "conv2d_136 (Conv2D)             (None, 64, 64, 125)  33875       batch_normalization_134[0][0]    \n",
            "__________________________________________________________________________________________________\n",
            "batch_normalization_135 (BatchN (None, 64, 64, 125)  500         conv2d_135[0][0]                 \n",
            "__________________________________________________________________________________________________\n",
            "batch_normalization_136 (BatchN (None, 64, 64, 125)  500         conv2d_136[0][0]                 \n",
            "__________________________________________________________________________________________________\n",
            "concatenate_42 (Concatenate)    (None, 64, 64, 250)  0           batch_normalization_135[0][0]    \n",
            "                                                                 batch_normalization_136[0][0]    \n",
            "__________________________________________________________________________________________________\n",
            "max_pooling2d_27 (MaxPooling2D) (None, 32, 32, 250)  0           concatenate_42[0][0]             \n",
            "__________________________________________________________________________________________________\n",
            "conv2d_137 (Conv2D)             (None, 32, 32, 30)   7530        max_pooling2d_27[0][0]           \n",
            "__________________________________________________________________________________________________\n",
            "batch_normalization_137 (BatchN (None, 32, 32, 30)   120         conv2d_137[0][0]                 \n",
            "__________________________________________________________________________________________________\n",
            "conv2d_138 (Conv2D)             (None, 32, 32, 75)   2325        batch_normalization_137[0][0]    \n",
            "__________________________________________________________________________________________________\n",
            "conv2d_139 (Conv2D)             (None, 32, 32, 75)   20325       batch_normalization_137[0][0]    \n",
            "__________________________________________________________________________________________________\n",
            "batch_normalization_138 (BatchN (None, 32, 32, 75)   300         conv2d_138[0][0]                 \n",
            "__________________________________________________________________________________________________\n",
            "batch_normalization_139 (BatchN (None, 32, 32, 75)   300         conv2d_139[0][0]                 \n",
            "__________________________________________________________________________________________________\n",
            "concatenate_43 (Concatenate)    (None, 32, 32, 150)  0           batch_normalization_138[0][0]    \n",
            "                                                                 batch_normalization_139[0][0]    \n",
            "__________________________________________________________________________________________________\n",
            "max_pooling2d_28 (MaxPooling2D) (None, 16, 16, 150)  0           concatenate_43[0][0]             \n",
            "__________________________________________________________________________________________________\n",
            "conv2d_140 (Conv2D)             (None, 16, 16, 30)   4530        max_pooling2d_28[0][0]           \n",
            "__________________________________________________________________________________________________\n",
            "batch_normalization_140 (BatchN (None, 16, 16, 30)   120         conv2d_140[0][0]                 \n",
            "__________________________________________________________________________________________________\n",
            "conv2d_141 (Conv2D)             (None, 16, 16, 30)   930         batch_normalization_140[0][0]    \n",
            "__________________________________________________________________________________________________\n",
            "conv2d_142 (Conv2D)             (None, 16, 16, 30)   8130        batch_normalization_140[0][0]    \n",
            "__________________________________________________________________________________________________\n",
            "batch_normalization_141 (BatchN (None, 16, 16, 30)   120         conv2d_141[0][0]                 \n",
            "__________________________________________________________________________________________________\n",
            "batch_normalization_142 (BatchN (None, 16, 16, 30)   120         conv2d_142[0][0]                 \n",
            "__________________________________________________________________________________________________\n",
            "concatenate_44 (Concatenate)    (None, 16, 16, 60)   0           batch_normalization_141[0][0]    \n",
            "                                                                 batch_normalization_142[0][0]    \n",
            "__________________________________________________________________________________________________\n",
            "global_average_pooling2d_7 (Glo (None, 60)           0           concatenate_44[0][0]             \n",
            "__________________________________________________________________________________________________\n",
            "dense_7 (Dense)                 (None, 2)            122         global_average_pooling2d_7[0][0] \n",
            "==================================================================================================\n",
            "Total params: 124,430\n",
            "Trainable params: 122,726\n",
            "Non-trainable params: 1,704\n",
            "__________________________________________________________________________________________________\n"
          ],
          "name": "stdout"
        }
      ]
    },
    {
      "cell_type": "code",
      "metadata": {
        "id": "FvagarzZSp1T",
        "colab_type": "code",
        "colab": {
          "base_uri": "https://localhost:8080/",
          "height": 187
        },
        "outputId": "3049ace6-7342-45b0-da64-3f659e3d3b24"
      },
      "source": [
        "validation_split = 0.25\n",
        "history = model.fit(x_train, y_train, epochs = 5, validation_split=validation_split)"
      ],
      "execution_count": 91,
      "outputs": [
        {
          "output_type": "stream",
          "text": [
            "Epoch 1/5\n",
            "124/124 [==============================] - 71s 575ms/step - loss: 0.2714 - accuracy: 0.8970 - val_loss: 1.5947 - val_accuracy: 0.7525\n",
            "Epoch 2/5\n",
            "124/124 [==============================] - 69s 557ms/step - loss: 0.1408 - accuracy: 0.9482 - val_loss: 0.7577 - val_accuracy: 0.7752\n",
            "Epoch 3/5\n",
            "124/124 [==============================] - 69s 559ms/step - loss: 0.1210 - accuracy: 0.9518 - val_loss: 0.3913 - val_accuracy: 0.8410\n",
            "Epoch 4/5\n",
            "124/124 [==============================] - 69s 560ms/step - loss: 0.0920 - accuracy: 0.9689 - val_loss: 0.1021 - val_accuracy: 0.9629\n",
            "Epoch 5/5\n",
            "124/124 [==============================] - 69s 556ms/step - loss: 0.0754 - accuracy: 0.9740 - val_loss: 0.5402 - val_accuracy: 0.8471\n"
          ],
          "name": "stdout"
        }
      ]
    },
    {
      "cell_type": "code",
      "metadata": {
        "id": "DiELDieBDiOm",
        "colab_type": "code",
        "colab": {
          "base_uri": "https://localhost:8080/",
          "height": 317
        },
        "outputId": "271b577e-0b50-43f5-a33d-c9163456bce9"
      },
      "source": [
        "plt.plot(history.history['accuracy'], label='accuracy')\n",
        "plt.plot(history.history['val_accuracy'], label = 'val_accuracy')\n",
        "plt.xlabel('Epoch')\n",
        "plt.ylabel('Accuracy')\n",
        "plt.ylim([0.5, 1])\n",
        "plt.legend(loc='lower right')\n",
        "\n",
        "test_loss, test_acc = model.evaluate(x_test,  y_test)\n",
        "print(test_loss, test_acc)"
      ],
      "execution_count": 92,
      "outputs": [
        {
          "output_type": "stream",
          "text": [
            "20/20 [==============================] - 3s 167ms/step - loss: 0.3684 - accuracy: 0.8654\n",
            "0.3683775067329407 0.8653846383094788\n"
          ],
          "name": "stdout"
        },
        {
          "output_type": "display_data",
          "data": {
            "image/png": "[encoded data removed]",
            "text/plain": [
              "<Figure size 432x288 with 1 Axes>"
            ]
          },
          "metadata": {
            "tags": [],
            "needs_background": "light"
          }
        }
      ]
    }
  ]
}