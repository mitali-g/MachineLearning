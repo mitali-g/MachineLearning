{
  "nbformat": 4,
  "nbformat_minor": 0,
  "metadata": {
    "colab": {
      "name": "Squeeze_Net_Chest_Xray_CNN.ipynb",
      "provenance": [],
      "mount_file_id": "1nb2IIKOav21a24vUkhDO4UEHyPWKNj9o",
      "authorship_tag": "ABX9TyOGp8PwLr6mp/OqIU9JPsr3",
      "include_colab_link": true
    },
    "kernelspec": {
      "name": "python3",
      "display_name": "Python 3"
    },
    "accelerator": "GPU"
  },
  "cells": [
    {
      "cell_type": "markdown",
      "metadata": {
        "id": "view-in-github",
        "colab_type": "text"
      },
      "source": [
        "<a href=\"https://colab.research.google.com/github/mitali-g/MachineLearning/blob/master/Squeeze_Net_Chest_Xray_CNN.ipynb\" target=\"_parent\"><img src=\"https://colab.research.google.com/assets/colab-badge.svg\" alt=\"Open In Colab\"/></a>"
      ]
    },
    {
      "cell_type": "code",
      "metadata": {
        "id": "DxZSd1ddprds",
        "colab_type": "code",
        "colab": {
          "base_uri": "https://localhost:8080/",
          "height": 34
        },
        "outputId": "9bb9b333-4e09-4f4c-d36e-1ce3469015a3"
      },
      "source": [
        "import tensorflow as tf\n",
        "import numpy as np\n",
        "import matplotlib.pyplot as plt\n",
        "from tensorflow import keras\n",
        "from keras.models import Sequential, Model\n",
        "from tensorflow.keras.layers import Dense, Conv2D, MaxPooling2D, Flatten, Reshape, Input, GlobalAveragePooling2D, BatchNormalization, concatenate, MaxPool2D\n",
        "from keras.layers import Dropout, Concatenate, Activation\n",
        "from keras.layers import Convolution3D, MaxPooling3D, AveragePooling3D\n",
        "from keras.layers import GlobalMaxPooling3D, GlobalAveragePooling3D\n",
        "from keras.utils import np_utils\n",
        "import os, cv2, random\n",
        "import pandas as pd\n",
        "%matplotlib inline"
      ],
      "execution_count": 1,
      "outputs": [
        {
          "output_type": "stream",
          "text": [
            "Using TensorFlow backend.\n"
          ],
          "name": "stderr"
        }
      ]
    },
    {
      "cell_type": "code",
      "metadata": {
        "id": "7n87zlBCr-OO",
        "colab_type": "code",
        "colab": {}
      },
      "source": [
        "!unzip -q NEW_Resized_Dataset.zip"
      ],
      "execution_count": 2,
      "outputs": []
    },
    {
      "cell_type": "code",
      "metadata": {
        "id": "99ZXcUxgmS7k",
        "colab_type": "code",
        "colab": {
          "base_uri": "https://localhost:8080/",
          "height": 34
        },
        "outputId": "7f13291d-4091-4da6-f96a-838e075fed5d"
      },
      "source": [
        "!ls Resized_Dataset/train-equalized|wc"
      ],
      "execution_count": 3,
      "outputs": [
        {
          "output_type": "stream",
          "text": [
            "   5291    5291  137110\n"
          ],
          "name": "stdout"
        }
      ]
    },
    {
      "cell_type": "code",
      "metadata": {
        "id": "pyt-_JBnxdKq",
        "colab_type": "code",
        "colab": {
          "base_uri": "https://localhost:8080/",
          "height": 436
        },
        "outputId": "77fe7f8c-08d9-46f9-ac74-0432351f0871"
      },
      "source": [
        "dataset = pd.read_csv(\"Resized_Dataset/Chest_xray_Corona_Metadata.csv\")\n",
        "print(dataset.shape)\n",
        "dataset[5282:]"
      ],
      "execution_count": 4,
      "outputs": [
        {
          "output_type": "stream",
          "text": [
            "(5906, 6)\n"
          ],
          "name": "stdout"
        },
        {
          "output_type": "execute_result",
          "data": {
            "text/html": [
              "<div>\n",
              "<style scoped>\n",
              "    .dataframe tbody tr th:only-of-type {\n",
              "        vertical-align: middle;\n",
              "    }\n",
              "\n",
              "    .dataframe tbody tr th {\n",
              "        vertical-align: top;\n",
              "    }\n",
              "\n",
              "    .dataframe thead th {\n",
              "        text-align: right;\n",
              "    }\n",
              "</style>\n",
              "<table border=\"1\" class=\"dataframe\">\n",
              "  <thead>\n",
              "    <tr style=\"text-align: right;\">\n",
              "      <th></th>\n",
              "      <th>Unnamed: 0</th>\n",
              "      <th>X_ray_image_name</th>\n",
              "      <th>Label</th>\n",
              "      <th>Dataset_type</th>\n",
              "      <th>Label_2_Virus_category</th>\n",
              "      <th>Label_1_Virus_category</th>\n",
              "    </tr>\n",
              "  </thead>\n",
              "  <tbody>\n",
              "    <tr>\n",
              "      <th>5282</th>\n",
              "      <td>5309</td>\n",
              "      <td>IM-0021-0001.jpeg</td>\n",
              "      <td>Normal</td>\n",
              "      <td>TEST</td>\n",
              "      <td>NaN</td>\n",
              "      <td>NaN</td>\n",
              "    </tr>\n",
              "    <tr>\n",
              "      <th>5283</th>\n",
              "      <td>5310</td>\n",
              "      <td>IM-0019-0001.jpeg</td>\n",
              "      <td>Normal</td>\n",
              "      <td>TEST</td>\n",
              "      <td>NaN</td>\n",
              "      <td>NaN</td>\n",
              "    </tr>\n",
              "    <tr>\n",
              "      <th>5284</th>\n",
              "      <td>5311</td>\n",
              "      <td>IM-0017-0001.jpeg</td>\n",
              "      <td>Normal</td>\n",
              "      <td>TEST</td>\n",
              "      <td>NaN</td>\n",
              "      <td>NaN</td>\n",
              "    </tr>\n",
              "    <tr>\n",
              "      <th>5285</th>\n",
              "      <td>5312</td>\n",
              "      <td>IM-0016-0001.jpeg</td>\n",
              "      <td>Normal</td>\n",
              "      <td>TEST</td>\n",
              "      <td>NaN</td>\n",
              "      <td>NaN</td>\n",
              "    </tr>\n",
              "    <tr>\n",
              "      <th>5286</th>\n",
              "      <td>5313</td>\n",
              "      <td>IM-0015-0001.jpeg</td>\n",
              "      <td>Normal</td>\n",
              "      <td>TEST</td>\n",
              "      <td>NaN</td>\n",
              "      <td>NaN</td>\n",
              "    </tr>\n",
              "    <tr>\n",
              "      <th>...</th>\n",
              "      <td>...</td>\n",
              "      <td>...</td>\n",
              "      <td>...</td>\n",
              "      <td>...</td>\n",
              "      <td>...</td>\n",
              "      <td>...</td>\n",
              "    </tr>\n",
              "    <tr>\n",
              "      <th>5901</th>\n",
              "      <td>5928</td>\n",
              "      <td>person1637_virus_2834.jpeg</td>\n",
              "      <td>Pnemonia</td>\n",
              "      <td>TEST</td>\n",
              "      <td>NaN</td>\n",
              "      <td>Virus</td>\n",
              "    </tr>\n",
              "    <tr>\n",
              "      <th>5902</th>\n",
              "      <td>5929</td>\n",
              "      <td>person1635_virus_2831.jpeg</td>\n",
              "      <td>Pnemonia</td>\n",
              "      <td>TEST</td>\n",
              "      <td>NaN</td>\n",
              "      <td>Virus</td>\n",
              "    </tr>\n",
              "    <tr>\n",
              "      <th>5903</th>\n",
              "      <td>5930</td>\n",
              "      <td>person1634_virus_2830.jpeg</td>\n",
              "      <td>Pnemonia</td>\n",
              "      <td>TEST</td>\n",
              "      <td>NaN</td>\n",
              "      <td>Virus</td>\n",
              "    </tr>\n",
              "    <tr>\n",
              "      <th>5904</th>\n",
              "      <td>5931</td>\n",
              "      <td>person1633_virus_2829.jpeg</td>\n",
              "      <td>Pnemonia</td>\n",
              "      <td>TEST</td>\n",
              "      <td>NaN</td>\n",
              "      <td>Virus</td>\n",
              "    </tr>\n",
              "    <tr>\n",
              "      <th>5905</th>\n",
              "      <td>5932</td>\n",
              "      <td>person1632_virus_2827.jpeg</td>\n",
              "      <td>Pnemonia</td>\n",
              "      <td>TEST</td>\n",
              "      <td>NaN</td>\n",
              "      <td>Virus</td>\n",
              "    </tr>\n",
              "  </tbody>\n",
              "</table>\n",
              "<p>624 rows × 6 columns</p>\n",
              "</div>"
            ],
            "text/plain": [
              "      Unnamed: 0  ... Label_1_Virus_category\n",
              "5282        5309  ...                    NaN\n",
              "5283        5310  ...                    NaN\n",
              "5284        5311  ...                    NaN\n",
              "5285        5312  ...                    NaN\n",
              "5286        5313  ...                    NaN\n",
              "...          ...  ...                    ...\n",
              "5901        5928  ...                  Virus\n",
              "5902        5929  ...                  Virus\n",
              "5903        5930  ...                  Virus\n",
              "5904        5931  ...                  Virus\n",
              "5905        5932  ...                  Virus\n",
              "\n",
              "[624 rows x 6 columns]"
            ]
          },
          "metadata": {
            "tags": []
          },
          "execution_count": 4
        }
      ]
    },
    {
      "cell_type": "code",
      "metadata": {
        "id": "xw2P5R8MyjWt",
        "colab_type": "code",
        "colab": {}
      },
      "source": [
        "dataset = dataset[['X_ray_image_name', 'Label']]"
      ],
      "execution_count": 5,
      "outputs": []
    },
    {
      "cell_type": "code",
      "metadata": {
        "id": "YQFirBIf0rNm",
        "colab_type": "code",
        "colab": {}
      },
      "source": [
        "x_train_features = dataset[['X_ray_image_name']]\n",
        "x_train_features = x_train_features[0:5282]\n",
        "#print(x_train_features)"
      ],
      "execution_count": 6,
      "outputs": []
    },
    {
      "cell_type": "code",
      "metadata": {
        "id": "zliG5tTKlqbe",
        "colab_type": "code",
        "colab": {}
      },
      "source": [
        "y_train_labels = dataset[['Label']]\n",
        "y_train_labels = y_train_labels[0:5282]\n",
        "#print(y_train_labels)"
      ],
      "execution_count": 7,
      "outputs": []
    },
    {
      "cell_type": "code",
      "metadata": {
        "id": "IhC6KGiBPu1O",
        "colab_type": "code",
        "colab": {}
      },
      "source": [
        "from sklearn.utils import shuffle\n",
        "train_dataset = dataset[0:5282]\n",
        "test_dataset = dataset[5282:]\n",
        "\n",
        "train_dataset = shuffle(train_dataset)\n",
        "test_dataset = shuffle(test_dataset)"
      ],
      "execution_count": 8,
      "outputs": []
    },
    {
      "cell_type": "code",
      "metadata": {
        "id": "Er5FIYpKiLge",
        "colab_type": "code",
        "colab": {}
      },
      "source": [
        "x_train_features = train_dataset['X_ray_image_name']\n",
        "y_train_labels = train_dataset['Label']"
      ],
      "execution_count": 9,
      "outputs": []
    },
    {
      "cell_type": "code",
      "metadata": {
        "id": "nM3CdIkk1OkQ",
        "colab_type": "code",
        "colab": {
          "base_uri": "https://localhost:8080/",
          "height": 136
        },
        "outputId": "1c4e283c-19b8-4b3e-9823-345bdf1e182d"
      },
      "source": [
        "y_train = []\n",
        "for label in y_train_labels:\n",
        "  if label == 'Pnemonia':\n",
        "    y_train.append(1)\n",
        "  elif label == 'Normal':\n",
        "    y_train.append(0)\n",
        "  else:\n",
        "    print(label)\n",
        "#print(y_train)\n",
        "y_train = keras.utils.to_categorical(y_train)\n",
        "print(y_train)"
      ],
      "execution_count": 10,
      "outputs": [
        {
          "output_type": "stream",
          "text": [
            "[[0. 1.]\n",
            " [0. 1.]\n",
            " [0. 1.]\n",
            " ...\n",
            " [0. 1.]\n",
            " [0. 1.]\n",
            " [0. 1.]]\n"
          ],
          "name": "stdout"
        }
      ]
    },
    {
      "cell_type": "code",
      "metadata": {
        "id": "zL8mE4A41WJe",
        "colab_type": "code",
        "colab": {}
      },
      "source": [
        "x_test_features = dataset[['X_ray_image_name']]\n",
        "x_test_features = x_test_features[5282:]\n",
        "#print(x_test_features)"
      ],
      "execution_count": 11,
      "outputs": []
    },
    {
      "cell_type": "code",
      "metadata": {
        "id": "wPvZz-6j2hiD",
        "colab_type": "code",
        "colab": {}
      },
      "source": [
        "y_test_labels = dataset[['Label']]\n",
        "y_test_labels = y_test_labels[5282:]\n",
        "#print(y_test_labels)\n",
        "\n",
        "x_test_features = test_dataset['X_ray_image_name']\n",
        "y_test_labels = test_dataset['Label']"
      ],
      "execution_count": 12,
      "outputs": []
    },
    {
      "cell_type": "code",
      "metadata": {
        "id": "59Dfz65TydP-",
        "colab_type": "code",
        "colab": {
          "base_uri": "https://localhost:8080/",
          "height": 34
        },
        "outputId": "161c7639-5ca0-4dbb-9f49-f4ae6752f1bb"
      },
      "source": [
        "import os\n",
        "list_of_images = os.listdir('Resized_Dataset/train-equalized')\n",
        "len(list_of_images)"
      ],
      "execution_count": 13,
      "outputs": [
        {
          "output_type": "execute_result",
          "data": {
            "text/plain": [
              "5291"
            ]
          },
          "metadata": {
            "tags": []
          },
          "execution_count": 13
        }
      ]
    },
    {
      "cell_type": "code",
      "metadata": {
        "id": "2k-CTddBmDKn",
        "colab_type": "code",
        "colab": {
          "base_uri": "https://localhost:8080/",
          "height": 136
        },
        "outputId": "8c649ad9-7d52-402a-a7da-2f77d5d6b9ec"
      },
      "source": [
        "y_test = []\n",
        "for label in y_test_labels:\n",
        "  if label == 'Pnemonia':\n",
        "    y_test.append(1)\n",
        "  elif label == 'Normal':\n",
        "    y_test.append(0)\n",
        "  else:\n",
        "    print(label)\n",
        "#print(y_test)\n",
        "y_test = keras.utils.to_categorical(y_test)\n",
        "print(y_test)"
      ],
      "execution_count": 14,
      "outputs": [
        {
          "output_type": "stream",
          "text": [
            "[[0. 1.]\n",
            " [1. 0.]\n",
            " [0. 1.]\n",
            " ...\n",
            " [1. 0.]\n",
            " [0. 1.]\n",
            " [1. 0.]]\n"
          ],
          "name": "stdout"
        }
      ]
    },
    {
      "cell_type": "code",
      "metadata": {
        "id": "mvwVvU_y7Gs_",
        "colab_type": "code",
        "colab": {
          "base_uri": "https://localhost:8080/",
          "height": 286
        },
        "outputId": "e966ba58-4a4f-4d2d-d8fa-a7bcbb2888b5"
      },
      "source": [
        "x_train = []\n",
        "train_path = ('Resized_Dataset/train-equalized/')\n",
        "\n",
        "for image in x_train_features:\n",
        "  if ('.jpg' in image) == True:\n",
        "        image = image[:image.rfind('.jpg')]\n",
        "  elif ('.jpeg' in image) == True:\n",
        "        image = image[:image.rfind('.jpeg')]\n",
        "  elif ('.png' in image) == True:\n",
        "        image = image[:image.rfind('.png')]\n",
        "  image_path = train_path + image\n",
        "  if os.path.isfile(image_path + '.png'):\n",
        "    image = plt.imread(image_path + '.png')\n",
        "    plt.grid(False)\n",
        "    x_train.append(image)\n",
        "len(x_train)"
      ],
      "execution_count": 15,
      "outputs": [
        {
          "output_type": "execute_result",
          "data": {
            "text/plain": [
              "5282"
            ]
          },
          "metadata": {
            "tags": []
          },
          "execution_count": 15
        },
        {
          "output_type": "display_data",
          "data": {
            "image/png": "[encoded data removed]",
            "text/plain": [
              "<Figure size 432x288 with 1 Axes>"
            ]
          },
          "metadata": {
            "tags": [],
            "needs_background": "light"
          }
        }
      ]
    },
    {
      "cell_type": "code",
      "metadata": {
        "id": "XMbM5iaRTUP-",
        "colab_type": "code",
        "colab": {
          "base_uri": "https://localhost:8080/",
          "height": 286
        },
        "outputId": "77ed57fa-1ba2-421e-844b-05b7a30dce36"
      },
      "source": [
        "x_test = []\n",
        "\n",
        "test_path = ('Resized_Dataset/test-equalized/')\n",
        "\n",
        "for image in x_test_features:\n",
        "  # image.rfind : removes '.jpeg'\n",
        "  image_path =test_path + image[:image.rfind('.jpeg')]\n",
        "\n",
        "  if os.path.isfile(image_path + '.png'):\n",
        "    image = plt.imread(image_path + '.png')\n",
        "    plt.grid(False)\n",
        "    # plt.imshow(image)\n",
        "    # plt.show()\n",
        "    x_test.append(image)\n",
        "len(x_test)"
      ],
      "execution_count": 16,
      "outputs": [
        {
          "output_type": "execute_result",
          "data": {
            "text/plain": [
              "624"
            ]
          },
          "metadata": {
            "tags": []
          },
          "execution_count": 16
        },
        {
          "output_type": "display_data",
          "data": {
            "image/png": "[encoded data removed]",
            "text/plain": [
              "<Figure size 432x288 with 1 Axes>"
            ]
          },
          "metadata": {
            "tags": [],
            "needs_background": "light"
          }
        }
      ]
    },
    {
      "cell_type": "code",
      "metadata": {
        "id": "5VACY4RGPiqH",
        "colab_type": "code",
        "colab": {
          "base_uri": "https://localhost:8080/",
          "height": 51
        },
        "outputId": "3957bcc7-c510-4687-8121-2565bd4ab37f"
      },
      "source": [
        "x_train = np.array(x_train, np.float16) / 255.0\n",
        "y_train = np.array(y_train)\n",
        "print(len(x_train), len(y_train), x_train.shape, y_train.shape)\n",
        "\n",
        "x_test = np.array(x_test, np.float16) / 255.0\n",
        "y_test = np.array(y_test)\n",
        "print(len(x_test), len(y_test), x_test.shape, y_test.shape)"
      ],
      "execution_count": 17,
      "outputs": [
        {
          "output_type": "stream",
          "text": [
            "5282 5282 (5282, 256, 256) (5282, 2)\n",
            "624 624 (624, 256, 256) (624, 2)\n"
          ],
          "name": "stdout"
        }
      ]
    },
    {
      "cell_type": "code",
      "metadata": {
        "id": "O7zx8cJKxUKG",
        "colab_type": "code",
        "colab": {}
      },
      "source": [
        "x_train = x_train[:,:,:,np.newaxis]\n",
        "x_test = x_test[:,:,:,np.newaxis]\n",
        "\n",
        "from keras.preprocessing.image import ImageDataGenerator\n",
        "\n",
        "datagen = ImageDataGenerator(rotation_range=0.05, width_shift_range=0.05, height_shift_range=0.05, shear_range=0.05, zoom_range = 0.05, horizontal_flip = True)\n",
        "\n",
        "datagen.fit(x_train)"
      ],
      "execution_count": 18,
      "outputs": []
    },
    {
      "cell_type": "code",
      "metadata": {
        "id": "xJ2xWDtRh9QU",
        "colab_type": "code",
        "colab": {}
      },
      "source": [
        "# x_train = x_train[:,:,:,np.newaxis]\n",
        "# x_test = x_test[:,:,:,np.newaxis]\n",
        "\n",
        "# model = Sequential()\n",
        "\n",
        "# model.add(Conv2D(filters=96, input_shape=(256, 256, 1), kernel_size=(11, 11), strides=(4, 4), padding='valid'))\n",
        "# model.add(Activation('relu'))\n",
        "# model.add(MaxPooling2D(pool_size=(2,2), strides=(2,2), padding='valid'))\n",
        "\n",
        "# model.add(Conv2D(filters=256, kernel_size=(11,11), strides=(1,1), padding='valid'))\n",
        "# model.add(Activation('relu'))\n",
        "# model.add(MaxPooling2D(pool_size=(2,2), strides=(2,2), padding='valid'))\n",
        "\n",
        "# model.add(Conv2D(filters=384, kernel_size=(3,3), strides=(1,1), padding='valid'))\n",
        "# model.add(Activation('relu'))\n",
        "\n",
        "# model.add(Conv2D(filters=384, kernel_size=(3,3), strides=(1,1), padding='valid'))\n",
        "# model.add(Activation('relu'))\n",
        "\n",
        "# model.add(Conv2D(filters=256, kernel_size=(3,3), strides=(1,1), padding='valid'))\n",
        "# model.add(Activation('relu'))\n",
        "# model.add(MaxPooling2D(pool_size=(2,2), strides=(2,2), padding='valid'))\n",
        "\n",
        "# model.add(Flatten())\n",
        "# model.add(Dense(4096, input_shape=(224*224*3,)))\n",
        "# model.add(Activation('relu'))\n",
        "# model.add(Dropout(0.4))\n",
        "\n",
        "# model.add(Dense(4096))\n",
        "# model.add(Activation('relu'))\n",
        "# model.add(Dropout(0.4))\n",
        "\n",
        "# model.add(Dense(1000))\n",
        "# model.add(Activation('relu'))\n",
        "# model.add(Dropout(0.4))\n",
        "\n",
        "# model.add(Dense(2))\n",
        "# model.add(Activation('softmax'))\n",
        "# model.summary()"
      ],
      "execution_count": 18,
      "outputs": []
    },
    {
      "cell_type": "code",
      "metadata": {
        "id": "rwwo7HNBaoHw",
        "colab_type": "code",
        "colab": {
          "base_uri": "https://localhost:8080/",
          "height": 1000
        },
        "outputId": "44ca43ae-ae2f-4cd6-c3a6-dc54354ae04e"
      },
      "source": [
        "# https://colab.research.google.com/github/GoogleCloudPlatform/training-data-analyst/blob/master/courses/fast-and-lean-data-science/07_Keras_Flowers_TPU_squeezenet.ipynb\n",
        "# https://codelabs.developers.google.com/codelabs/keras-flowers-squeezenet/#6 \n",
        "bnmomentum=0.9\n",
        "def fire(x, squeeze, expand):\n",
        "  y = Conv2D(filters=squeeze, kernel_size=1, padding='same', activation='relu')(x)\n",
        "  y = BatchNormalization(momentum=bnmomentum)(y)\n",
        "  y1 = Conv2D(filters=expand//2, kernel_size=1, padding='same', activation='relu')(y)\n",
        "  y1 = BatchNormalization(momentum=bnmomentum)(y1)\n",
        "  y3 = Conv2D(filters=expand//2, kernel_size=3, padding='same', activation='relu')(y)\n",
        "  y3 = BatchNormalization(momentum=bnmomentum)(y3)\n",
        "  return concatenate([y1, y3])\n",
        "\n",
        "def fire_module(squeeze, expand):\n",
        "  return lambda x: fire(x, squeeze, expand)\n",
        "x = Input(shape=[256, 256, 1])\n",
        "y = fire_module(squeeze=20, expand=80)(x) # squeeze is less than expand\n",
        "y = fire_module(squeeze=20, expand=80)(y)\n",
        "\n",
        "\n",
        "y = Conv2D(kernel_size=3, filters=32, padding='same', activation='relu')(x)\n",
        "y = BatchNormalization(momentum=bnmomentum)(y)\n",
        "y = fire_module(24, 48)(y)\n",
        "y = MaxPooling2D(pool_size=2)(y)\n",
        "y = fire_module(24, 96)(y)\n",
        "y = MaxPooling2D(pool_size=2)(y)\n",
        "y = fire_module(24, 126)(y)\n",
        "y = MaxPooling2D(pool_size=2)(y)\n",
        "y = fire_module(24, 96)(y)\n",
        "y = MaxPooling2D(pool_size=2)(y)\n",
        "y = fire_module(24, 48)(y)\n",
        "y = GlobalAveragePooling2D()(y)\n",
        "y = Dense(2, activation='softmax')(y)\n",
        "model = tf.keras.Model(x, y)\n",
        "model.summary()"
      ],
      "execution_count": 21,
      "outputs": [
        {
          "output_type": "stream",
          "text": [
            "Model: \"model\"\n",
            "__________________________________________________________________________________________________\n",
            "Layer (type)                    Output Shape         Param #     Connected to                     \n",
            "==================================================================================================\n",
            "input_3 (InputLayer)            [(None, 256, 256, 1) 0                                            \n",
            "__________________________________________________________________________________________________\n",
            "conv2d_50 (Conv2D)              (None, 256, 256, 32) 320         input_3[0][0]                    \n",
            "__________________________________________________________________________________________________\n",
            "batch_normalization_50 (BatchNo (None, 256, 256, 32) 128         conv2d_50[0][0]                  \n",
            "__________________________________________________________________________________________________\n",
            "conv2d_51 (Conv2D)              (None, 256, 256, 24) 792         batch_normalization_50[0][0]     \n",
            "__________________________________________________________________________________________________\n",
            "batch_normalization_51 (BatchNo (None, 256, 256, 24) 96          conv2d_51[0][0]                  \n",
            "__________________________________________________________________________________________________\n",
            "conv2d_52 (Conv2D)              (None, 256, 256, 24) 600         batch_normalization_51[0][0]     \n",
            "__________________________________________________________________________________________________\n",
            "conv2d_53 (Conv2D)              (None, 256, 256, 24) 5208        batch_normalization_51[0][0]     \n",
            "__________________________________________________________________________________________________\n",
            "batch_normalization_52 (BatchNo (None, 256, 256, 24) 96          conv2d_52[0][0]                  \n",
            "__________________________________________________________________________________________________\n",
            "batch_normalization_53 (BatchNo (None, 256, 256, 24) 96          conv2d_53[0][0]                  \n",
            "__________________________________________________________________________________________________\n",
            "concatenate_16 (Concatenate)    (None, 256, 256, 48) 0           batch_normalization_52[0][0]     \n",
            "                                                                 batch_normalization_53[0][0]     \n",
            "__________________________________________________________________________________________________\n",
            "max_pooling2d_8 (MaxPooling2D)  (None, 128, 128, 48) 0           concatenate_16[0][0]             \n",
            "__________________________________________________________________________________________________\n",
            "conv2d_54 (Conv2D)              (None, 128, 128, 24) 1176        max_pooling2d_8[0][0]            \n",
            "__________________________________________________________________________________________________\n",
            "batch_normalization_54 (BatchNo (None, 128, 128, 24) 96          conv2d_54[0][0]                  \n",
            "__________________________________________________________________________________________________\n",
            "conv2d_55 (Conv2D)              (None, 128, 128, 48) 1200        batch_normalization_54[0][0]     \n",
            "__________________________________________________________________________________________________\n",
            "conv2d_56 (Conv2D)              (None, 128, 128, 48) 10416       batch_normalization_54[0][0]     \n",
            "__________________________________________________________________________________________________\n",
            "batch_normalization_55 (BatchNo (None, 128, 128, 48) 192         conv2d_55[0][0]                  \n",
            "__________________________________________________________________________________________________\n",
            "batch_normalization_56 (BatchNo (None, 128, 128, 48) 192         conv2d_56[0][0]                  \n",
            "__________________________________________________________________________________________________\n",
            "concatenate_17 (Concatenate)    (None, 128, 128, 96) 0           batch_normalization_55[0][0]     \n",
            "                                                                 batch_normalization_56[0][0]     \n",
            "__________________________________________________________________________________________________\n",
            "max_pooling2d_9 (MaxPooling2D)  (None, 64, 64, 96)   0           concatenate_17[0][0]             \n",
            "__________________________________________________________________________________________________\n",
            "conv2d_57 (Conv2D)              (None, 64, 64, 24)   2328        max_pooling2d_9[0][0]            \n",
            "__________________________________________________________________________________________________\n",
            "batch_normalization_57 (BatchNo (None, 64, 64, 24)   96          conv2d_57[0][0]                  \n",
            "__________________________________________________________________________________________________\n",
            "conv2d_58 (Conv2D)              (None, 64, 64, 63)   1575        batch_normalization_57[0][0]     \n",
            "__________________________________________________________________________________________________\n",
            "conv2d_59 (Conv2D)              (None, 64, 64, 63)   13671       batch_normalization_57[0][0]     \n",
            "__________________________________________________________________________________________________\n",
            "batch_normalization_58 (BatchNo (None, 64, 64, 63)   252         conv2d_58[0][0]                  \n",
            "__________________________________________________________________________________________________\n",
            "batch_normalization_59 (BatchNo (None, 64, 64, 63)   252         conv2d_59[0][0]                  \n",
            "__________________________________________________________________________________________________\n",
            "concatenate_18 (Concatenate)    (None, 64, 64, 126)  0           batch_normalization_58[0][0]     \n",
            "                                                                 batch_normalization_59[0][0]     \n",
            "__________________________________________________________________________________________________\n",
            "max_pooling2d_10 (MaxPooling2D) (None, 32, 32, 126)  0           concatenate_18[0][0]             \n",
            "__________________________________________________________________________________________________\n",
            "conv2d_60 (Conv2D)              (None, 32, 32, 24)   3048        max_pooling2d_10[0][0]           \n",
            "__________________________________________________________________________________________________\n",
            "batch_normalization_60 (BatchNo (None, 32, 32, 24)   96          conv2d_60[0][0]                  \n",
            "__________________________________________________________________________________________________\n",
            "conv2d_61 (Conv2D)              (None, 32, 32, 48)   1200        batch_normalization_60[0][0]     \n",
            "__________________________________________________________________________________________________\n",
            "conv2d_62 (Conv2D)              (None, 32, 32, 48)   10416       batch_normalization_60[0][0]     \n",
            "__________________________________________________________________________________________________\n",
            "batch_normalization_61 (BatchNo (None, 32, 32, 48)   192         conv2d_61[0][0]                  \n",
            "__________________________________________________________________________________________________\n",
            "batch_normalization_62 (BatchNo (None, 32, 32, 48)   192         conv2d_62[0][0]                  \n",
            "__________________________________________________________________________________________________\n",
            "concatenate_19 (Concatenate)    (None, 32, 32, 96)   0           batch_normalization_61[0][0]     \n",
            "                                                                 batch_normalization_62[0][0]     \n",
            "__________________________________________________________________________________________________\n",
            "max_pooling2d_11 (MaxPooling2D) (None, 16, 16, 96)   0           concatenate_19[0][0]             \n",
            "__________________________________________________________________________________________________\n",
            "conv2d_63 (Conv2D)              (None, 16, 16, 24)   2328        max_pooling2d_11[0][0]           \n",
            "__________________________________________________________________________________________________\n",
            "batch_normalization_63 (BatchNo (None, 16, 16, 24)   96          conv2d_63[0][0]                  \n",
            "__________________________________________________________________________________________________\n",
            "conv2d_64 (Conv2D)              (None, 16, 16, 24)   600         batch_normalization_63[0][0]     \n",
            "__________________________________________________________________________________________________\n",
            "conv2d_65 (Conv2D)              (None, 16, 16, 24)   5208        batch_normalization_63[0][0]     \n",
            "__________________________________________________________________________________________________\n",
            "batch_normalization_64 (BatchNo (None, 16, 16, 24)   96          conv2d_64[0][0]                  \n",
            "__________________________________________________________________________________________________\n",
            "batch_normalization_65 (BatchNo (None, 16, 16, 24)   96          conv2d_65[0][0]                  \n",
            "__________________________________________________________________________________________________\n",
            "concatenate_20 (Concatenate)    (None, 16, 16, 48)   0           batch_normalization_64[0][0]     \n",
            "                                                                 batch_normalization_65[0][0]     \n",
            "__________________________________________________________________________________________________\n",
            "global_average_pooling2d (Globa (None, 48)           0           concatenate_20[0][0]             \n",
            "__________________________________________________________________________________________________\n",
            "dense (Dense)                   (None, 2)            98          global_average_pooling2d[0][0]   \n",
            "==================================================================================================\n",
            "Total params: 62,448\n",
            "Trainable params: 61,316\n",
            "Non-trainable params: 1,132\n",
            "__________________________________________________________________________________________________\n"
          ],
          "name": "stdout"
        }
      ]
    },
    {
      "cell_type": "code",
      "metadata": {
        "id": "FvagarzZSp1T",
        "colab_type": "code",
        "colab": {
          "base_uri": "https://localhost:8080/",
          "height": 187
        },
        "outputId": "770068e1-ec7c-4e16-c54d-c0f859b10be9"
      },
      "source": [
        "model.compile(optimizer='adam', loss='categorical_crossentropy', metrics = ['accuracy'])\n",
        "\n",
        "validation_split = 0.25\n",
        "history = model.fit(datagen.flow(x_train, y_train, batch_size = 16), epochs = 5, shuffle = True)"
      ],
      "execution_count": 21,
      "outputs": [
        {
          "output_type": "stream",
          "text": [
            "Epoch 1/5\n",
            "331/331 [==============================] - 54s 162ms/step - loss: 0.2626 - accuracy: 0.8959\n",
            "Epoch 2/5\n",
            "331/331 [==============================] - 53s 161ms/step - loss: 0.1637 - accuracy: 0.9366\n",
            "Epoch 3/5\n",
            "331/331 [==============================] - 53s 161ms/step - loss: 0.1441 - accuracy: 0.9447\n",
            "Epoch 4/5\n",
            "331/331 [==============================] - 53s 161ms/step - loss: 0.1240 - accuracy: 0.9534\n",
            "Epoch 5/5\n",
            "331/331 [==============================] - 53s 161ms/step - loss: 0.1201 - accuracy: 0.9559\n"
          ],
          "name": "stdout"
        }
      ]
    },
    {
      "cell_type": "code",
      "metadata": {
        "id": "DiELDieBDiOm",
        "colab_type": "code",
        "colab": {
          "base_uri": "https://localhost:8080/",
          "height": 51
        },
        "outputId": "42920b88-a75d-43f6-91f6-73fdf8141363"
      },
      "source": [
        "# plt.plot(history.history['accuracy'], label='accuracy')\n",
        "# plt.plot(history.history['val_accuracy'], label = 'val_accuracy')\n",
        "# plt.xlabel('Epoch')\n",
        "# plt.ylabel('Accuracy')\n",
        "# plt.ylim([0.5, 1])\n",
        "# plt.legend(loc='lower right')\n",
        "\n",
        "# plt.plot(history.history['accuracy'])\n",
        "# plt.plot(history.history['val_accuracy'])\n",
        "# plt.title('model accuracy')\n",
        "# plt.ylabel('Accuracy')\n",
        "# plt.xlabel('Epoch')\n",
        "# plt.legend(['train', 'test'], loc='upper left')\n",
        "# plt.show()\n",
        "# # summarize history for loss\n",
        "# plt.plot(history.history['loss'])\n",
        "# plt.plot(history.history['val_loss'])\n",
        "# plt.title('model loss')\n",
        "# plt.ylabel('loss')\n",
        "# plt.xlabel('epoch')\n",
        "# plt.legend(['train', 'test'], loc='upper left')\n",
        "# plt.show()\n",
        "\n",
        "test_loss, test_acc = model.evaluate(x_test,  y_test)\n",
        "print(test_loss, test_acc)"
      ],
      "execution_count": 22,
      "outputs": [
        {
          "output_type": "stream",
          "text": [
            "20/20 [==============================] - 2s 95ms/step - loss: 0.8289 - accuracy: 0.7772\n",
            "0.8289310932159424 0.7772436141967773\n"
          ],
          "name": "stdout"
        }
      ]
    },
    {
      "cell_type": "code",
      "metadata": {
        "id": "nl7IQougSak9",
        "colab_type": "code",
        "colab": {}
      },
      "source": [
        ""
      ],
      "execution_count": null,
      "outputs": []
    }
  ]
}