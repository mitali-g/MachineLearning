{
  "nbformat": 4,
  "nbformat_minor": 0,
  "metadata": {
    "colab": {
      "name": "NEW_transfer_learning_chest_xray.ipynb",
      "provenance": [],
      "authorship_tag": "ABX9TyPYfKxjMAKJ6gTdEh/kzENC",
      "include_colab_link": true
    },
    "kernelspec": {
      "name": "python3",
      "display_name": "Python 3"
    }
  },
  "cells": [
    {
      "cell_type": "markdown",
      "metadata": {
        "id": "view-in-github",
        "colab_type": "text"
      },
      "source": [
        "<a href=\"https://colab.research.google.com/github/mitali-g/MachineLearning/blob/master/NEW_transfer_learning_chest_xray.ipynb\" target=\"_parent\"><img src=\"https://colab.research.google.com/assets/colab-badge.svg\" alt=\"Open In Colab\"/></a>"
      ]
    },
    {
      "cell_type": "code",
      "metadata": {
        "id": "FY1q7-WEO9EV",
        "colab_type": "code",
        "colab": {}
      },
      "source": [
        "import tensorflow as tf\n",
        "from tensorflow import keras\n",
        "import numpy as np\n",
        "import matplotlib.pyplot as plt\n",
        "from tensorflow.keras.models import Model\n",
        "from tensorflow.keras.layers import Dense, Flatten\n",
        "from tensorflow.keras.utils import to_categorical\n",
        "import os, cv2, random\n",
        "import pandas as pd\n",
        "%matplotlib inline"
      ],
      "execution_count": null,
      "outputs": []
    },
    {
      "cell_type": "code",
      "metadata": {
        "id": "_NxUWkVOPGVm",
        "colab_type": "code",
        "colab": {}
      },
      "source": [
        "dataset = pd.read_csv(\"Chest_xray_Corona_Metadata.csv\")\n",
        "print(dataset.shape)\n",
        "\n",
        "dataset = dataset[['X_ray_image_name', 'Label']]\n",
        "\n",
        "# define train and test dataframe\n",
        "train_dataset = dataset[0:5282]\n",
        "test_dataset = dataset[5282:]\n",
        "\n",
        "# shuffle values in train and test\n",
        "from sklearn.utils import shuffle\n",
        "train_dataset = shuffle(train_dataset)\n",
        "test_dataset = shuffle(test_dataset)\n",
        "\n",
        "# define dataframe with train features\n",
        "x_train_features = train_dataset['X_ray_image_name']\n",
        "\n",
        "# define dataframe with train labels\n",
        "y_train_labels = train_dataset['Label']\n",
        "\n",
        "# define dataframe with test features\n",
        "x_test_features = test_dataset['X_ray_image_name']\n",
        "\n",
        "# define dataframe with test labels\n",
        "y_test_labels = test_dataset['Label']"
      ],
      "execution_count": null,
      "outputs": []
    },
    {
      "cell_type": "code",
      "metadata": {
        "id": "giqB4u9zPJTP",
        "colab_type": "code",
        "colab": {}
      },
      "source": [
        "# create y_train\n",
        "y_train = []\n",
        "for label in y_train_labels:\n",
        "    if label == 'Pnemonia':\n",
        "        y_train.append(1)\n",
        "    elif label == 'Normal':\n",
        "        y_train.append(0)\n",
        "    else:\n",
        "        print(label)\n",
        "y_train = tf.keras.utils.to_categorical(y_train)\n",
        "\n",
        "# create y_test\n",
        "y_test = []\n",
        "for label in y_test_labels:\n",
        "    if label == 'Pnemonia':\n",
        "        y_test.append(1)\n",
        "    elif label == 'Normal':\n",
        "        y_test.append(0)\n",
        "    else:\n",
        "        print(label)\n",
        "y_test = tf.keras.utils.to_categorical(y_test)"
      ],
      "execution_count": null,
      "outputs": []
    },
    {
      "cell_type": "code",
      "metadata": {
        "id": "1z9LWy_pPKrs",
        "colab_type": "code",
        "colab": {}
      },
      "source": [
        "# create x_train\n",
        "x_train = []\n",
        "train_path = ('train-color/')\n",
        "\n",
        "for image in x_train_features:\n",
        "    if ('.jpg' in image) == True:\n",
        "        image = image[:image.rfind('.jpg')]\n",
        "    elif ('.jpeg' in image) == True:\n",
        "        image = image[:image.rfind('.jpeg')]\n",
        "    elif ('.png' in image) == True:\n",
        "        image = image[:image.rfind('.png')]\n",
        "    image_path = train_path + image\n",
        "    \n",
        "    if os.path.isfile(image_path + '.png'):\n",
        "        image = plt.imread(image_path + '.png')\n",
        "        plt.grid(False)\n",
        "        x_train.append(image)\n",
        "len(x_train)"
      ],
      "execution_count": null,
      "outputs": []
    },
    {
      "cell_type": "code",
      "metadata": {
        "id": "heq9jEauPMHX",
        "colab_type": "code",
        "colab": {}
      },
      "source": [
        "# create x_test\n",
        "x_test = []\n",
        "\n",
        "test_path = ('test-color/')\n",
        "\n",
        "for image in x_test_features:\n",
        "  # image.rfind : removes '.jpeg'\n",
        "    image_path = test_path + image[:image.rfind('.jpeg')]\n",
        "\n",
        "    if os.path.isfile(image_path + '.png'):\n",
        "        image = plt.imread(image_path + '.png')\n",
        "        plt.grid(False)\n",
        "#         plt.imshow(image)\n",
        "#         plt.show()\n",
        "\n",
        "        x_test.append(image)\n",
        "len(x_test)"
      ],
      "execution_count": null,
      "outputs": []
    },
    {
      "cell_type": "code",
      "metadata": {
        "id": "RL-3PLdnPNqF",
        "colab_type": "code",
        "colab": {}
      },
      "source": [
        "# convert x_train, y_train, x_test, y_test to numpy arrays\n",
        "x_train = np.array(x_train, np.float16) / 255.0\n",
        "y_train = np.array(y_train)\n",
        "\n",
        "print(len(x_train), len(y_train), x_train.shape, y_train.shape)\n",
        "\n",
        "x_test = np.array(x_test, np.float16) / 255.0\n",
        "y_test = np.array(y_test)\n",
        "print(len(x_test), len(y_test), x_test.shape, y_test.shape)"
      ],
      "execution_count": null,
      "outputs": []
    },
    {
      "cell_type": "code",
      "metadata": {
        "id": "W5Enh8eZPSVW",
        "colab_type": "code",
        "colab": {}
      },
      "source": [
        "from tensorflow.keras.applications.vgg16 import VGG16, preprocess_input\n",
        "model = VGG16(weights='imagenet', include_top=False, input_shape=(256, 256, 3))"
      ],
      "execution_count": null,
      "outputs": []
    },
    {
      "cell_type": "code",
      "metadata": {
        "id": "zj7uTGT_PUQ7",
        "colab_type": "code",
        "colab": {}
      },
      "source": [
        "train_input = preprocess_input(x_train)\n",
        "train_features = model.predict(train_input)\n",
        "np.savez('vgg16_features_train', features=train_features)"
      ],
      "execution_count": null,
      "outputs": []
    },
    {
      "cell_type": "code",
      "metadata": {
        "id": "965_SmPlPben",
        "colab_type": "code",
        "colab": {}
      },
      "source": [
        "test_input = preprocess_input(x_train)\n",
        "test_features = model.predict(test_input)\n",
        "np.savez('vgg16_features_test', features=test_features)"
      ],
      "execution_count": null,
      "outputs": []
    }
  ]
}