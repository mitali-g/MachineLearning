{
  "nbformat": 4,
  "nbformat_minor": 0,
  "metadata": {
    "colab": {
      "name": "SqeezeNet_Chest_Xray_CNN.ipynb",
      "provenance": [],
      "mount_file_id": "1nb2IIKOav21a24vUkhDO4UEHyPWKNj9o",
      "authorship_tag": "ABX9TyPN6vfIIu1Q9tFbeXh3FYtA",
      "include_colab_link": true
    },
    "kernelspec": {
      "name": "python3",
      "display_name": "Python 3"
    },
    "accelerator": "GPU"
  },
  "cells": [
    {
      "cell_type": "markdown",
      "metadata": {
        "id": "view-in-github",
        "colab_type": "text"
      },
      "source": [
        "<a href=\"https://colab.research.google.com/github/mitali-g/MachineLearning/blob/master/SqeezeNet_Chest_Xray_CNN.ipynb\" target=\"_parent\"><img src=\"https://colab.research.google.com/assets/colab-badge.svg\" alt=\"Open In Colab\"/></a>"
      ]
    },
    {
      "cell_type": "code",
      "metadata": {
        "id": "DxZSd1ddprds",
        "colab_type": "code",
        "colab": {
          "base_uri": "https://localhost:8080/",
          "height": 34
        },
        "outputId": "3b67bac1-1ee0-4d4d-f89e-797f49cc38e9"
      },
      "source": [
        "import tensorflow as tf\n",
        "import numpy as np\n",
        "import matplotlib.pyplot as plt\n",
        "from tensorflow import keras\n",
        "from keras.models import Sequential, Model\n",
        "from tensorflow.keras.layers import Dense, Conv2D, MaxPooling2D, Flatten, Reshape, Input, GlobalAveragePooling2D, BatchNormalization, concatenate\n",
        "from keras.utils import np_utils\n",
        "import os, cv2, random\n",
        "import pandas as pd\n",
        "%matplotlib inline"
      ],
      "execution_count": 1,
      "outputs": [
        {
          "output_type": "stream",
          "text": [
            "Using TensorFlow backend.\n"
          ],
          "name": "stderr"
        }
      ]
    },
    {
      "cell_type": "code",
      "metadata": {
        "id": "7n87zlBCr-OO",
        "colab_type": "code",
        "colab": {}
      },
      "source": [
        "!unzip -q Resized_Dataset.zip"
      ],
      "execution_count": null,
      "outputs": []
    },
    {
      "cell_type": "code",
      "metadata": {
        "id": "99ZXcUxgmS7k",
        "colab_type": "code",
        "colab": {
          "base_uri": "https://localhost:8080/",
          "height": 34
        },
        "outputId": "381b2d76-fce1-4a40-8571-cce96a73a83d"
      },
      "source": [
        "!ls Resized_Dataset/train-resized|wc"
      ],
      "execution_count": 45,
      "outputs": [
        {
          "output_type": "stream",
          "text": [
            "   5309    5309  137840\n"
          ],
          "name": "stdout"
        }
      ]
    },
    {
      "cell_type": "code",
      "metadata": {
        "id": "pyt-_JBnxdKq",
        "colab_type": "code",
        "colab": {
          "base_uri": "https://localhost:8080/",
          "height": 436
        },
        "outputId": "46aec63a-37b4-43e6-e3ca-a7c2d8b7293c"
      },
      "source": [
        "dataset = pd.read_csv(\"Resized_Dataset/Chest_xray_Corona_Metadata.csv\")\n",
        "print(dataset.shape)\n",
        "dataset.head(5932)"
      ],
      "execution_count": 3,
      "outputs": [
        {
          "output_type": "stream",
          "text": [
            "(5910, 6)\n"
          ],
          "name": "stdout"
        },
        {
          "output_type": "execute_result",
          "data": {
            "text/html": [
              "<div>\n",
              "<style scoped>\n",
              "    .dataframe tbody tr th:only-of-type {\n",
              "        vertical-align: middle;\n",
              "    }\n",
              "\n",
              "    .dataframe tbody tr th {\n",
              "        vertical-align: top;\n",
              "    }\n",
              "\n",
              "    .dataframe thead th {\n",
              "        text-align: right;\n",
              "    }\n",
              "</style>\n",
              "<table border=\"1\" class=\"dataframe\">\n",
              "  <thead>\n",
              "    <tr style=\"text-align: right;\">\n",
              "      <th></th>\n",
              "      <th>Unnamed: 0</th>\n",
              "      <th>X_ray_image_name</th>\n",
              "      <th>Label</th>\n",
              "      <th>Dataset_type</th>\n",
              "      <th>Label_2_Virus_category</th>\n",
              "      <th>Label_1_Virus_category</th>\n",
              "    </tr>\n",
              "  </thead>\n",
              "  <tbody>\n",
              "    <tr>\n",
              "      <th>0</th>\n",
              "      <td>0</td>\n",
              "      <td>IM-0128-0001.jpeg</td>\n",
              "      <td>Normal</td>\n",
              "      <td>TRAIN</td>\n",
              "      <td>NaN</td>\n",
              "      <td>NaN</td>\n",
              "    </tr>\n",
              "    <tr>\n",
              "      <th>1</th>\n",
              "      <td>1</td>\n",
              "      <td>IM-0127-0001.jpeg</td>\n",
              "      <td>Normal</td>\n",
              "      <td>TRAIN</td>\n",
              "      <td>NaN</td>\n",
              "      <td>NaN</td>\n",
              "    </tr>\n",
              "    <tr>\n",
              "      <th>2</th>\n",
              "      <td>2</td>\n",
              "      <td>IM-0125-0001.jpeg</td>\n",
              "      <td>Normal</td>\n",
              "      <td>TRAIN</td>\n",
              "      <td>NaN</td>\n",
              "      <td>NaN</td>\n",
              "    </tr>\n",
              "    <tr>\n",
              "      <th>3</th>\n",
              "      <td>3</td>\n",
              "      <td>IM-0122-0001.jpeg</td>\n",
              "      <td>Normal</td>\n",
              "      <td>TRAIN</td>\n",
              "      <td>NaN</td>\n",
              "      <td>NaN</td>\n",
              "    </tr>\n",
              "    <tr>\n",
              "      <th>4</th>\n",
              "      <td>4</td>\n",
              "      <td>IM-0119-0001.jpeg</td>\n",
              "      <td>Normal</td>\n",
              "      <td>TRAIN</td>\n",
              "      <td>NaN</td>\n",
              "      <td>NaN</td>\n",
              "    </tr>\n",
              "    <tr>\n",
              "      <th>...</th>\n",
              "      <td>...</td>\n",
              "      <td>...</td>\n",
              "      <td>...</td>\n",
              "      <td>...</td>\n",
              "      <td>...</td>\n",
              "      <td>...</td>\n",
              "    </tr>\n",
              "    <tr>\n",
              "      <th>5905</th>\n",
              "      <td>5928</td>\n",
              "      <td>person1637_virus_2834.jpeg</td>\n",
              "      <td>Pnemonia</td>\n",
              "      <td>TEST</td>\n",
              "      <td>NaN</td>\n",
              "      <td>Virus</td>\n",
              "    </tr>\n",
              "    <tr>\n",
              "      <th>5906</th>\n",
              "      <td>5929</td>\n",
              "      <td>person1635_virus_2831.jpeg</td>\n",
              "      <td>Pnemonia</td>\n",
              "      <td>TEST</td>\n",
              "      <td>NaN</td>\n",
              "      <td>Virus</td>\n",
              "    </tr>\n",
              "    <tr>\n",
              "      <th>5907</th>\n",
              "      <td>5930</td>\n",
              "      <td>person1634_virus_2830.jpeg</td>\n",
              "      <td>Pnemonia</td>\n",
              "      <td>TEST</td>\n",
              "      <td>NaN</td>\n",
              "      <td>Virus</td>\n",
              "    </tr>\n",
              "    <tr>\n",
              "      <th>5908</th>\n",
              "      <td>5931</td>\n",
              "      <td>person1633_virus_2829.jpeg</td>\n",
              "      <td>Pnemonia</td>\n",
              "      <td>TEST</td>\n",
              "      <td>NaN</td>\n",
              "      <td>Virus</td>\n",
              "    </tr>\n",
              "    <tr>\n",
              "      <th>5909</th>\n",
              "      <td>5932</td>\n",
              "      <td>person1632_virus_2827.jpeg</td>\n",
              "      <td>Pnemonia</td>\n",
              "      <td>TEST</td>\n",
              "      <td>NaN</td>\n",
              "      <td>Virus</td>\n",
              "    </tr>\n",
              "  </tbody>\n",
              "</table>\n",
              "<p>5910 rows × 6 columns</p>\n",
              "</div>"
            ],
            "text/plain": [
              "      Unnamed: 0  ... Label_1_Virus_category\n",
              "0              0  ...                    NaN\n",
              "1              1  ...                    NaN\n",
              "2              2  ...                    NaN\n",
              "3              3  ...                    NaN\n",
              "4              4  ...                    NaN\n",
              "...          ...  ...                    ...\n",
              "5905        5928  ...                  Virus\n",
              "5906        5929  ...                  Virus\n",
              "5907        5930  ...                  Virus\n",
              "5908        5931  ...                  Virus\n",
              "5909        5932  ...                  Virus\n",
              "\n",
              "[5910 rows x 6 columns]"
            ]
          },
          "metadata": {
            "tags": []
          },
          "execution_count": 3
        }
      ]
    },
    {
      "cell_type": "code",
      "metadata": {
        "id": "xw2P5R8MyjWt",
        "colab_type": "code",
        "colab": {}
      },
      "source": [
        "dataset = dataset[['X_ray_image_name', 'Label']]"
      ],
      "execution_count": 34,
      "outputs": []
    },
    {
      "cell_type": "code",
      "metadata": {
        "id": "YQFirBIf0rNm",
        "colab_type": "code",
        "colab": {}
      },
      "source": [
        "x_train_features = dataset[['X_ray_image_name']]\n",
        "x_train_features = x_train_features[0:5309]\n",
        "#print(x_train_features)"
      ],
      "execution_count": 38,
      "outputs": []
    },
    {
      "cell_type": "code",
      "metadata": {
        "id": "zliG5tTKlqbe",
        "colab_type": "code",
        "colab": {}
      },
      "source": [
        "y_train_labels = dataset[['Label']]\n",
        "y_train_labels = y_train_labels[0:5309]\n",
        "#print(y_train_labels)"
      ],
      "execution_count": 37,
      "outputs": []
    },
    {
      "cell_type": "code",
      "metadata": {
        "id": "IhC6KGiBPu1O",
        "colab_type": "code",
        "colab": {}
      },
      "source": [
        "from sklearn.utils import shuffle\n",
        "train_dataset = dataset[0:5309]\n",
        "test_dataset = dataset[5309:]\n",
        "\n",
        "train_dataset = shuffle(train_dataset)\n",
        "test_dataset = shuffle(test_dataset)"
      ],
      "execution_count": 39,
      "outputs": []
    },
    {
      "cell_type": "code",
      "metadata": {
        "id": "Er5FIYpKiLge",
        "colab_type": "code",
        "colab": {}
      },
      "source": [
        "x_train_features = train_dataset['X_ray_image_name']\n",
        "y_train_labels = train_dataset['Label']"
      ],
      "execution_count": 40,
      "outputs": []
    },
    {
      "cell_type": "code",
      "metadata": {
        "id": "nM3CdIkk1OkQ",
        "colab_type": "code",
        "colab": {
          "base_uri": "https://localhost:8080/",
          "height": 136
        },
        "outputId": "bfacf645-5b13-4f59-e409-40e693305f24"
      },
      "source": [
        "y_train = []\n",
        "for label in y_train_labels:\n",
        "  if label == 'Pnemonia':\n",
        "    y_train.append(1)\n",
        "  elif label == 'Normal':\n",
        "    y_train.append(0)\n",
        "  else:\n",
        "    print(label)\n",
        "#print(y_train)\n",
        "y_train = keras.utils.to_categorical(y_train)\n",
        "print(y_train)"
      ],
      "execution_count": 19,
      "outputs": [
        {
          "output_type": "stream",
          "text": [
            "[[0. 1.]\n",
            " [0. 1.]\n",
            " [0. 1.]\n",
            " ...\n",
            " [0. 1.]\n",
            " [0. 1.]\n",
            " [1. 0.]]\n"
          ],
          "name": "stdout"
        }
      ]
    },
    {
      "cell_type": "code",
      "metadata": {
        "id": "zL8mE4A41WJe",
        "colab_type": "code",
        "colab": {}
      },
      "source": [
        "x_test_features = dataset[['X_ray_image_name']]\n",
        "x_test_features = x_test_features[5309:]\n",
        "#print(x_test_features)"
      ],
      "execution_count": 41,
      "outputs": []
    },
    {
      "cell_type": "code",
      "metadata": {
        "id": "wPvZz-6j2hiD",
        "colab_type": "code",
        "colab": {}
      },
      "source": [
        "y_test_labels = dataset[['Label']]\n",
        "y_test_labels = y_test_labels[5309:]\n",
        "#print(y_test_labels)\n",
        "\n",
        "x_test_features = test_dataset['X_ray_image_name']\n",
        "y_test_labels = test_dataset['Label']"
      ],
      "execution_count": 42,
      "outputs": []
    },
    {
      "cell_type": "code",
      "metadata": {
        "id": "59Dfz65TydP-",
        "colab_type": "code",
        "colab": {
          "base_uri": "https://localhost:8080/",
          "height": 34
        },
        "outputId": "202da7f8-5fe0-4e0c-a024-f938a026498d"
      },
      "source": [
        "import os\n",
        "list_of_images = os.listdir('Resized_Dataset/train-resized')\n",
        "len(list_of_images)"
      ],
      "execution_count": 23,
      "outputs": [
        {
          "output_type": "execute_result",
          "data": {
            "text/plain": [
              "5309"
            ]
          },
          "metadata": {
            "tags": []
          },
          "execution_count": 23
        }
      ]
    },
    {
      "cell_type": "code",
      "metadata": {
        "id": "2k-CTddBmDKn",
        "colab_type": "code",
        "colab": {
          "base_uri": "https://localhost:8080/",
          "height": 136
        },
        "outputId": "6e8bd310-93fb-40f2-b405-e0643afd0b36"
      },
      "source": [
        "y_test = []\n",
        "for label in y_test_labels:\n",
        "  if label == 'Pnemonia':\n",
        "    y_test.append(1)\n",
        "  elif label == 'Normal':\n",
        "    y_test.append(0)\n",
        "  else:\n",
        "    print(label)\n",
        "#print(y_test)\n",
        "y_test = keras.utils.to_categorical(y_test)\n",
        "print(y_test)"
      ],
      "execution_count": 43,
      "outputs": [
        {
          "output_type": "stream",
          "text": [
            "[[1. 0.]\n",
            " [0. 1.]\n",
            " [0. 1.]\n",
            " ...\n",
            " [0. 1.]\n",
            " [1. 0.]\n",
            " [0. 1.]]\n"
          ],
          "name": "stdout"
        }
      ]
    },
    {
      "cell_type": "code",
      "metadata": {
        "id": "mvwVvU_y7Gs_",
        "colab_type": "code",
        "colab": {
          "base_uri": "https://localhost:8080/",
          "height": 286
        },
        "outputId": "0c656a8d-5a04-4ebc-ee84-4da67e62d9cf"
      },
      "source": [
        "x_train = []\n",
        "\n",
        "list_of_images = os.listdir('Resized_Dataset/train-resized')\n",
        "for image in list_of_images:\n",
        "  image = plt.imread('Resized_Dataset/train-resized/' + image)\n",
        "  plt.grid(False)\n",
        "  x_train.append(image)\n",
        "len(x_train)"
      ],
      "execution_count": 24,
      "outputs": [
        {
          "output_type": "execute_result",
          "data": {
            "text/plain": [
              "5309"
            ]
          },
          "metadata": {
            "tags": []
          },
          "execution_count": 24
        },
        {
          "output_type": "display_data",
          "data": {
            "image/png": "[encoded data removed]",
            "text/plain": [
              "<Figure size 432x288 with 1 Axes>"
            ]
          },
          "metadata": {
            "tags": [],
            "needs_background": "light"
          }
        }
      ]
    },
    {
      "cell_type": "code",
      "metadata": {
        "id": "XMbM5iaRTUP-",
        "colab_type": "code",
        "colab": {
          "base_uri": "https://localhost:8080/",
          "height": 286
        },
        "outputId": "c3e8ed18-d636-4673-d626-3077aca0a090"
      },
      "source": [
        "x_test = []\n",
        "\n",
        "test_path = ('Resized_Dataset/test-resized/')\n",
        "\n",
        "for image in x_test_features:\n",
        "  # image.rfind : removes '.jpeg'\n",
        "  image_path =test_path + image[:image.rfind('.jpeg')]\n",
        "\n",
        "  if os.path.isfile(image_path + '.png'):\n",
        "    image = plt.imread(image_path + '.png')\n",
        "    plt.grid(False)\n",
        "    x_test.append(image)\n",
        "len(x_test)"
      ],
      "execution_count": 44,
      "outputs": [
        {
          "output_type": "execute_result",
          "data": {
            "text/plain": [
              "601"
            ]
          },
          "metadata": {
            "tags": []
          },
          "execution_count": 44
        },
        {
          "output_type": "display_data",
          "data": {
            "image/png": "[encoded data removed]",
            "text/plain": [
              "<Figure size 432x288 with 1 Axes>"
            ]
          },
          "metadata": {
            "tags": [],
            "needs_background": "light"
          }
        }
      ]
    },
    {
      "cell_type": "code",
      "metadata": {
        "id": "5VACY4RGPiqH",
        "colab_type": "code",
        "colab": {
          "base_uri": "https://localhost:8080/",
          "height": 51
        },
        "outputId": "35f42542-94db-4b91-b46c-f3dc877d27f5"
      },
      "source": [
        "x_train = np.array(x_train, np.float16) / 255.0\n",
        "y_train = np.array(y_train)\n",
        "print(len(x_train), len(y_train), x_train.shape, y_train.shape)\n",
        "\n",
        "x_test = np.array(x_test, np.float16) / 255.0\n",
        "y_test = np.array(y_test)\n",
        "print(len(x_test), len(y_test), x_test.shape, y_test.shape)"
      ],
      "execution_count": 27,
      "outputs": [
        {
          "output_type": "stream",
          "text": [
            "5309 5309 (5309, 256, 256, 4) (5309, 2)\n",
            "601 601 (601, 256, 256, 4) (601, 2)\n"
          ],
          "name": "stdout"
        }
      ]
    },
    {
      "cell_type": "code",
      "metadata": {
        "id": "rwwo7HNBaoHw",
        "colab_type": "code",
        "colab": {
          "base_uri": "https://localhost:8080/",
          "height": 1000
        },
        "outputId": "37d03651-a427-4df4-da7f-070f1dfcbc74"
      },
      "source": [
        "# https://colab.research.google.com/github/GoogleCloudPlatform/training-data-analyst/blob/master/courses/fast-and-lean-data-science/07_Keras_Flowers_TPU_squeezenet.ipynb\n",
        "# https://codelabs.developers.google.com/codelabs/keras-flowers-squeezenet/#6 \n",
        "bnmomentum=0.9\n",
        "def fire(x, squeeze, expand):\n",
        "  y = Conv2D(filters=squeeze, kernel_size=1, padding='same', activation='relu')(x)\n",
        "  y = BatchNormalization(momentum=bnmomentum)(y)\n",
        "  y1 = Conv2D(filters=expand//2, kernel_size=1, padding='same', activation='relu')(y)\n",
        "  y1 = BatchNormalization(momentum=bnmomentum)(y1)\n",
        "  y3 = Conv2D(filters=expand//2, kernel_size=3, padding='same', activation='relu')(y)\n",
        "  y3 = BatchNormalization(momentum=bnmomentum)(y3)\n",
        "  return concatenate([y1, y3])\n",
        "\n",
        "def fire_module(squeeze, expand):\n",
        "  return lambda x: fire(x, squeeze, expand)\n",
        "x = Input(shape=[256, 256, 4])\n",
        "# y = fire_module(squeeze=24, expand=48)(x) # squeeze is less than expand\n",
        "# y = fire_module(squeeze=32, expand=64)(y)\n",
        "\n",
        "\n",
        "y = Conv2D(kernel_size=3, filters=32, padding='same', activation='relu')(x)\n",
        "y = BatchNormalization(momentum=bnmomentum)(y)\n",
        "y = fire_module(24, 48)(y)\n",
        "y = MaxPooling2D(pool_size=2)(y)\n",
        "y = fire_module(24, 96)(y)\n",
        "y = MaxPooling2D(pool_size=2)(y)\n",
        "y = fire_module(24, 128)(y)\n",
        "y = MaxPooling2D(pool_size=2)(y)\n",
        "y = fire_module(24, 96)(y)\n",
        "y = MaxPooling2D(pool_size=2)(y)\n",
        "y = fire_module(24, 48)(y)\n",
        "y = GlobalAveragePooling2D()(y)\n",
        "y = Dense(2, activation='softmax')(y)\n",
        "model = tf.keras.Model(x, y)\n",
        "model.compile(optimizer='adam', loss='categorical_crossentropy', metrics = ['accuracy'])\n",
        "model.summary()"
      ],
      "execution_count": 29,
      "outputs": [
        {
          "output_type": "stream",
          "text": [
            "Model: \"model\"\n",
            "__________________________________________________________________________________________________\n",
            "Layer (type)                    Output Shape         Param #     Connected to                     \n",
            "==================================================================================================\n",
            "input_1 (InputLayer)            [(None, 256, 256, 4) 0                                            \n",
            "__________________________________________________________________________________________________\n",
            "conv2d (Conv2D)                 (None, 256, 256, 32) 1184        input_1[0][0]                    \n",
            "__________________________________________________________________________________________________\n",
            "batch_normalization (BatchNorma (None, 256, 256, 32) 128         conv2d[0][0]                     \n",
            "__________________________________________________________________________________________________\n",
            "conv2d_1 (Conv2D)               (None, 256, 256, 24) 792         batch_normalization[0][0]        \n",
            "__________________________________________________________________________________________________\n",
            "batch_normalization_1 (BatchNor (None, 256, 256, 24) 96          conv2d_1[0][0]                   \n",
            "__________________________________________________________________________________________________\n",
            "conv2d_2 (Conv2D)               (None, 256, 256, 24) 600         batch_normalization_1[0][0]      \n",
            "__________________________________________________________________________________________________\n",
            "conv2d_3 (Conv2D)               (None, 256, 256, 24) 5208        batch_normalization_1[0][0]      \n",
            "__________________________________________________________________________________________________\n",
            "batch_normalization_2 (BatchNor (None, 256, 256, 24) 96          conv2d_2[0][0]                   \n",
            "__________________________________________________________________________________________________\n",
            "batch_normalization_3 (BatchNor (None, 256, 256, 24) 96          conv2d_3[0][0]                   \n",
            "__________________________________________________________________________________________________\n",
            "concatenate (Concatenate)       (None, 256, 256, 48) 0           batch_normalization_2[0][0]      \n",
            "                                                                 batch_normalization_3[0][0]      \n",
            "__________________________________________________________________________________________________\n",
            "max_pooling2d (MaxPooling2D)    (None, 128, 128, 48) 0           concatenate[0][0]                \n",
            "__________________________________________________________________________________________________\n",
            "conv2d_4 (Conv2D)               (None, 128, 128, 24) 1176        max_pooling2d[0][0]              \n",
            "__________________________________________________________________________________________________\n",
            "batch_normalization_4 (BatchNor (None, 128, 128, 24) 96          conv2d_4[0][0]                   \n",
            "__________________________________________________________________________________________________\n",
            "conv2d_5 (Conv2D)               (None, 128, 128, 48) 1200        batch_normalization_4[0][0]      \n",
            "__________________________________________________________________________________________________\n",
            "conv2d_6 (Conv2D)               (None, 128, 128, 48) 10416       batch_normalization_4[0][0]      \n",
            "__________________________________________________________________________________________________\n",
            "batch_normalization_5 (BatchNor (None, 128, 128, 48) 192         conv2d_5[0][0]                   \n",
            "__________________________________________________________________________________________________\n",
            "batch_normalization_6 (BatchNor (None, 128, 128, 48) 192         conv2d_6[0][0]                   \n",
            "__________________________________________________________________________________________________\n",
            "concatenate_1 (Concatenate)     (None, 128, 128, 96) 0           batch_normalization_5[0][0]      \n",
            "                                                                 batch_normalization_6[0][0]      \n",
            "__________________________________________________________________________________________________\n",
            "max_pooling2d_1 (MaxPooling2D)  (None, 64, 64, 96)   0           concatenate_1[0][0]              \n",
            "__________________________________________________________________________________________________\n",
            "conv2d_7 (Conv2D)               (None, 64, 64, 24)   2328        max_pooling2d_1[0][0]            \n",
            "__________________________________________________________________________________________________\n",
            "batch_normalization_7 (BatchNor (None, 64, 64, 24)   96          conv2d_7[0][0]                   \n",
            "__________________________________________________________________________________________________\n",
            "conv2d_8 (Conv2D)               (None, 64, 64, 64)   1600        batch_normalization_7[0][0]      \n",
            "__________________________________________________________________________________________________\n",
            "conv2d_9 (Conv2D)               (None, 64, 64, 64)   13888       batch_normalization_7[0][0]      \n",
            "__________________________________________________________________________________________________\n",
            "batch_normalization_8 (BatchNor (None, 64, 64, 64)   256         conv2d_8[0][0]                   \n",
            "__________________________________________________________________________________________________\n",
            "batch_normalization_9 (BatchNor (None, 64, 64, 64)   256         conv2d_9[0][0]                   \n",
            "__________________________________________________________________________________________________\n",
            "concatenate_2 (Concatenate)     (None, 64, 64, 128)  0           batch_normalization_8[0][0]      \n",
            "                                                                 batch_normalization_9[0][0]      \n",
            "__________________________________________________________________________________________________\n",
            "max_pooling2d_2 (MaxPooling2D)  (None, 32, 32, 128)  0           concatenate_2[0][0]              \n",
            "__________________________________________________________________________________________________\n",
            "conv2d_10 (Conv2D)              (None, 32, 32, 24)   3096        max_pooling2d_2[0][0]            \n",
            "__________________________________________________________________________________________________\n",
            "batch_normalization_10 (BatchNo (None, 32, 32, 24)   96          conv2d_10[0][0]                  \n",
            "__________________________________________________________________________________________________\n",
            "conv2d_11 (Conv2D)              (None, 32, 32, 48)   1200        batch_normalization_10[0][0]     \n",
            "__________________________________________________________________________________________________\n",
            "conv2d_12 (Conv2D)              (None, 32, 32, 48)   10416       batch_normalization_10[0][0]     \n",
            "__________________________________________________________________________________________________\n",
            "batch_normalization_11 (BatchNo (None, 32, 32, 48)   192         conv2d_11[0][0]                  \n",
            "__________________________________________________________________________________________________\n",
            "batch_normalization_12 (BatchNo (None, 32, 32, 48)   192         conv2d_12[0][0]                  \n",
            "__________________________________________________________________________________________________\n",
            "concatenate_3 (Concatenate)     (None, 32, 32, 96)   0           batch_normalization_11[0][0]     \n",
            "                                                                 batch_normalization_12[0][0]     \n",
            "__________________________________________________________________________________________________\n",
            "max_pooling2d_3 (MaxPooling2D)  (None, 16, 16, 96)   0           concatenate_3[0][0]              \n",
            "__________________________________________________________________________________________________\n",
            "conv2d_13 (Conv2D)              (None, 16, 16, 24)   2328        max_pooling2d_3[0][0]            \n",
            "__________________________________________________________________________________________________\n",
            "batch_normalization_13 (BatchNo (None, 16, 16, 24)   96          conv2d_13[0][0]                  \n",
            "__________________________________________________________________________________________________\n",
            "conv2d_14 (Conv2D)              (None, 16, 16, 24)   600         batch_normalization_13[0][0]     \n",
            "__________________________________________________________________________________________________\n",
            "conv2d_15 (Conv2D)              (None, 16, 16, 24)   5208        batch_normalization_13[0][0]     \n",
            "__________________________________________________________________________________________________\n",
            "batch_normalization_14 (BatchNo (None, 16, 16, 24)   96          conv2d_14[0][0]                  \n",
            "__________________________________________________________________________________________________\n",
            "batch_normalization_15 (BatchNo (None, 16, 16, 24)   96          conv2d_15[0][0]                  \n",
            "__________________________________________________________________________________________________\n",
            "concatenate_4 (Concatenate)     (None, 16, 16, 48)   0           batch_normalization_14[0][0]     \n",
            "                                                                 batch_normalization_15[0][0]     \n",
            "__________________________________________________________________________________________________\n",
            "global_average_pooling2d (Globa (None, 48)           0           concatenate_4[0][0]              \n",
            "__________________________________________________________________________________________________\n",
            "dense (Dense)                   (None, 2)            98          global_average_pooling2d[0][0]   \n",
            "==================================================================================================\n",
            "Total params: 63,610\n",
            "Trainable params: 62,474\n",
            "Non-trainable params: 1,136\n",
            "__________________________________________________________________________________________________\n"
          ],
          "name": "stdout"
        }
      ]
    },
    {
      "cell_type": "code",
      "metadata": {
        "id": "FvagarzZSp1T",
        "colab_type": "code",
        "colab": {
          "base_uri": "https://localhost:8080/",
          "height": 187
        },
        "outputId": "563dba3e-6f9b-45f5-bc52-ab86afa9554b"
      },
      "source": [
        "validation_split = 0.25\n",
        "history = model.fit(x_train, y_train, epochs = 5, validation_split=validation_split)"
      ],
      "execution_count": 32,
      "outputs": [
        {
          "output_type": "stream",
          "text": [
            "Epoch 1/5\n",
            "125/125 [==============================] - 32s 254ms/step - loss: 0.6125 - accuracy: 0.7081 - val_loss: 0.5666 - val_accuracy: 0.7477\n",
            "Epoch 2/5\n",
            "125/125 [==============================] - 29s 235ms/step - loss: 0.5771 - accuracy: 0.7408 - val_loss: 0.6838 - val_accuracy: 0.7477\n",
            "Epoch 3/5\n",
            "125/125 [==============================] - 30s 239ms/step - loss: 0.5773 - accuracy: 0.7410 - val_loss: 0.5663 - val_accuracy: 0.7477\n",
            "Epoch 4/5\n",
            "125/125 [==============================] - 30s 244ms/step - loss: 0.5746 - accuracy: 0.7413 - val_loss: 0.5684 - val_accuracy: 0.7477\n",
            "Epoch 5/5\n",
            "125/125 [==============================] - 31s 244ms/step - loss: 0.5742 - accuracy: 0.7413 - val_loss: 0.5695 - val_accuracy: 0.7477\n"
          ],
          "name": "stdout"
        }
      ]
    },
    {
      "cell_type": "code",
      "metadata": {
        "id": "DiELDieBDiOm",
        "colab_type": "code",
        "colab": {
          "base_uri": "https://localhost:8080/",
          "height": 317
        },
        "outputId": "e2087cf6-9b3f-4e02-8326-23595a98e611"
      },
      "source": [
        "plt.plot(history.history['accuracy'], label='accuracy')\n",
        "plt.plot(history.history['val_accuracy'], label = 'val_accuracy')\n",
        "plt.xlabel('Epoch')\n",
        "plt.ylabel('Accuracy')\n",
        "plt.ylim([0.5, 1])\n",
        "plt.legend(loc='lower right')\n",
        "\n",
        "test_loss, test_acc = model.evaluate(x_test,  y_test)\n",
        "print(test_loss, test_acc)"
      ],
      "execution_count": 33,
      "outputs": [
        {
          "output_type": "stream",
          "text": [
            "19/19 [==============================] - 2s 101ms/step - loss: 0.6686 - accuracy: 0.6489\n",
            "0.6686303019523621 0.6489184498786926\n"
          ],
          "name": "stdout"
        },
        {
          "output_type": "display_data",
          "data": {
            "image/png": "[encoded data removed]",
            "text/plain": [
              "<Figure size 432x288 with 1 Axes>"
            ]
          },
          "metadata": {
            "tags": [],
            "needs_background": "light"
          }
        }
      ]
    }
  ]
}
