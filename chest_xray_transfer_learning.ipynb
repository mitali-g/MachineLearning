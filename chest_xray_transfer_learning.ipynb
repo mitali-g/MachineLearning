{
  "nbformat": 4,
  "nbformat_minor": 0,
  "metadata": {
    "colab": {
      "name": "chest_xray_transfer_learning.ipynb",
      "provenance": [],
      "authorship_tag": "ABX9TyPAvvahW5SAgZZm05rNoeCs",
      "include_colab_link": true
    },
    "kernelspec": {
      "name": "python3",
      "display_name": "Python 3"
    },
    "accelerator": "GPU"
  },
  "cells": [
    {
      "cell_type": "markdown",
      "metadata": {
        "id": "view-in-github",
        "colab_type": "text"
      },
      "source": [
        "<a href=\"https://colab.research.google.com/github/mitali-g/MachineLearning/blob/master/chest_xray_transfer_learning.ipynb\" target=\"_parent\"><img src=\"https://colab.research.google.com/assets/colab-badge.svg\" alt=\"Open In Colab\"/></a>"
      ]
    },
    {
      "cell_type": "code",
      "metadata": {
        "id": "ERabZlpSHPrN",
        "colab_type": "code",
        "colab": {}
      },
      "source": [
        "import tensorflow as tf\n",
        "import keras\n",
        "import numpy as np\n",
        "import pandas as pd\n",
        "import cv2\n",
        "import matplotlib.pyplot as plt"
      ],
      "execution_count": 3,
      "outputs": []
    },
    {
      "cell_type": "code",
      "metadata": {
        "id": "Af-b7xnVNH95",
        "colab_type": "code",
        "colab": {}
      },
      "source": [
        "from keras.layers import Dense, Flatten\n",
        "from keras.models import Model\n",
        "from keras.preprocessing.image import ImageDataGenerator\n",
        "from keras import optimizers\n",
        "from keras.applications import vgg16"
      ],
      "execution_count": 4,
      "outputs": []
    },
    {
      "cell_type": "code",
      "metadata": {
        "id": "kgC1kSqHOXT3",
        "colab_type": "code",
        "colab": {}
      },
      "source": [
        "!unzip -q dataset-final.zip"
      ],
      "execution_count": 5,
      "outputs": []
    },
    {
      "cell_type": "code",
      "metadata": {
        "id": "gKeAHN5BUE_Z",
        "colab_type": "code",
        "colab": {
          "base_uri": "https://localhost:8080/",
          "height": 70
        },
        "outputId": "eba7358e-ba40-4c7d-cd3c-aa45571990f7"
      },
      "source": [
        "trdata = ImageDataGenerator(rescale=1./255)\n",
        "train_data = trdata.flow_from_directory(directory='dataset-final/train', \n",
        "                    target_size=(224, 224), batch_size=32, class_mode='categorical', shuffle=True)\n",
        "\n",
        "vldata = ImageDataGenerator(rescale=1./255)\n",
        "valid_data = vldata.flow_from_directory(directory='dataset-final/valid', \n",
        "                     target_size=(224, 224), batch_size=32, class_mode='categorical', shuffle=True)\n",
        "\n",
        "tsdata = ImageDataGenerator(rescale=1./255)\n",
        "test_data = tsdata.flow_from_directory(directory='dataset-final/test',\n",
        "                                       target_size=(224, 224), batch_size=32, class_mode='categorical', shuffle=True)"
      ],
      "execution_count": 13,
      "outputs": [
        {
          "output_type": "stream",
          "text": [
            "Found 3961 images belonging to 2 classes.\n",
            "Found 1321 images belonging to 2 classes.\n",
            "Found 624 images belonging to 2 classes.\n"
          ],
          "name": "stdout"
        }
      ]
    },
    {
      "cell_type": "code",
      "metadata": {
        "id": "ewOrpz_TUQnv",
        "colab_type": "code",
        "colab": {
          "base_uri": "https://localhost:8080/",
          "height": 52
        },
        "outputId": "e0a3368d-358e-45ba-8926-77ef25d2fd6e"
      },
      "source": [
        "vgg_base_model = vgg16.VGG16(weights='imagenet', include_top=False, input_shape=(224, 224, 3))\n",
        "x = vgg_base_model.output\n",
        "x = Flatten()(x)\n",
        "x = Dense(units=4096, activation='relu')(x)\n",
        "predictions = Dense(units=2, activation = 'softmax')(x)\n",
        "model = Model(inputs = vgg_base_model.input, outputs = predictions)"
      ],
      "execution_count": 9,
      "outputs": [
        {
          "output_type": "stream",
          "text": [
            "Downloading data from https://github.com/fchollet/deep-learning-models/releases/download/v0.1/vgg16_weights_tf_dim_ordering_tf_kernels_notop.h5\n",
            "58892288/58889256 [==============================] - 2s 0us/step\n"
          ],
          "name": "stdout"
        }
      ]
    },
    {
      "cell_type": "code",
      "metadata": {
        "id": "yiKF9i4yUXpB",
        "colab_type": "code",
        "colab": {}
      },
      "source": [
        "for layer in model.layers[:19]:\n",
        "    layer.trainable = False\n",
        "for layer in model.layers[19:]:\n",
        "    layer.trainable = True"
      ],
      "execution_count": 10,
      "outputs": []
    },
    {
      "cell_type": "code",
      "metadata": {
        "id": "qjBaTC1DUfXM",
        "colab_type": "code",
        "colab": {
          "base_uri": "https://localhost:8080/",
          "height": 941
        },
        "outputId": "8ce1debc-41b1-4931-fd1b-51f60becd605"
      },
      "source": [
        "model.summary()"
      ],
      "execution_count": 11,
      "outputs": [
        {
          "output_type": "stream",
          "text": [
            "Model: \"model_1\"\n",
            "_________________________________________________________________\n",
            "Layer (type)                 Output Shape              Param #   \n",
            "=================================================================\n",
            "input_1 (InputLayer)         (None, 224, 224, 3)       0         \n",
            "_________________________________________________________________\n",
            "block1_conv1 (Conv2D)        (None, 224, 224, 64)      1792      \n",
            "_________________________________________________________________\n",
            "block1_conv2 (Conv2D)        (None, 224, 224, 64)      36928     \n",
            "_________________________________________________________________\n",
            "block1_pool (MaxPooling2D)   (None, 112, 112, 64)      0         \n",
            "_________________________________________________________________\n",
            "block2_conv1 (Conv2D)        (None, 112, 112, 128)     73856     \n",
            "_________________________________________________________________\n",
            "block2_conv2 (Conv2D)        (None, 112, 112, 128)     147584    \n",
            "_________________________________________________________________\n",
            "block2_pool (MaxPooling2D)   (None, 56, 56, 128)       0         \n",
            "_________________________________________________________________\n",
            "block3_conv1 (Conv2D)        (None, 56, 56, 256)       295168    \n",
            "_________________________________________________________________\n",
            "block3_conv2 (Conv2D)        (None, 56, 56, 256)       590080    \n",
            "_________________________________________________________________\n",
            "block3_conv3 (Conv2D)        (None, 56, 56, 256)       590080    \n",
            "_________________________________________________________________\n",
            "block3_pool (MaxPooling2D)   (None, 28, 28, 256)       0         \n",
            "_________________________________________________________________\n",
            "block4_conv1 (Conv2D)        (None, 28, 28, 512)       1180160   \n",
            "_________________________________________________________________\n",
            "block4_conv2 (Conv2D)        (None, 28, 28, 512)       2359808   \n",
            "_________________________________________________________________\n",
            "block4_conv3 (Conv2D)        (None, 28, 28, 512)       2359808   \n",
            "_________________________________________________________________\n",
            "block4_pool (MaxPooling2D)   (None, 14, 14, 512)       0         \n",
            "_________________________________________________________________\n",
            "block5_conv1 (Conv2D)        (None, 14, 14, 512)       2359808   \n",
            "_________________________________________________________________\n",
            "block5_conv2 (Conv2D)        (None, 14, 14, 512)       2359808   \n",
            "_________________________________________________________________\n",
            "block5_conv3 (Conv2D)        (None, 14, 14, 512)       2359808   \n",
            "_________________________________________________________________\n",
            "block5_pool (MaxPooling2D)   (None, 7, 7, 512)         0         \n",
            "_________________________________________________________________\n",
            "flatten_1 (Flatten)          (None, 25088)             0         \n",
            "_________________________________________________________________\n",
            "dense_1 (Dense)              (None, 4096)              102764544 \n",
            "_________________________________________________________________\n",
            "dense_2 (Dense)              (None, 2)                 8194      \n",
            "=================================================================\n",
            "Total params: 117,487,426\n",
            "Trainable params: 102,772,738\n",
            "Non-trainable params: 14,714,688\n",
            "_________________________________________________________________\n"
          ],
          "name": "stdout"
        }
      ]
    },
    {
      "cell_type": "code",
      "metadata": {
        "id": "USdaqP3yUhlp",
        "colab_type": "code",
        "colab": {
          "base_uri": "https://localhost:8080/",
          "height": 390
        },
        "outputId": "d295e4ad-4568-4842-b1c8-7d9c61116532"
      },
      "source": [
        "model.compile(loss = 'categorical_crossentropy', optimizer = optimizers.SGD(lr=0.0001, momentum=0.9), metrics=['accuracy'])\n",
        "step_size_train=train_data.n//train_data.batch_size\n",
        "\n",
        "model.fit_generator(generator=train_data, steps_per_epoch=step_size_train, \n",
        "                    epochs=10, validation_data=valid_data, validation_steps=1)"
      ],
      "execution_count": 12,
      "outputs": [
        {
          "output_type": "stream",
          "text": [
            "Epoch 1/10\n",
            "123/123 [==============================] - 20s 163ms/step - loss: 0.3106 - accuracy: 0.8730 - val_loss: 0.1145 - val_accuracy: 1.0000\n",
            "Epoch 2/10\n",
            "123/123 [==============================] - 14s 110ms/step - loss: 0.1668 - accuracy: 0.9476 - val_loss: 0.2330 - val_accuracy: 0.9062\n",
            "Epoch 3/10\n",
            "123/123 [==============================] - 14s 111ms/step - loss: 0.1376 - accuracy: 0.9555 - val_loss: 0.0941 - val_accuracy: 0.9688\n",
            "Epoch 4/10\n",
            "123/123 [==============================] - 14s 110ms/step - loss: 0.1211 - accuracy: 0.9623 - val_loss: 0.0910 - val_accuracy: 0.9688\n",
            "Epoch 5/10\n",
            "123/123 [==============================] - 14s 110ms/step - loss: 0.1072 - accuracy: 0.9672 - val_loss: 0.0342 - val_accuracy: 1.0000\n",
            "Epoch 6/10\n",
            "123/123 [==============================] - 13s 109ms/step - loss: 0.1002 - accuracy: 0.9692 - val_loss: 0.0389 - val_accuracy: 1.0000\n",
            "Epoch 7/10\n",
            "123/123 [==============================] - 13s 109ms/step - loss: 0.0952 - accuracy: 0.9702 - val_loss: 0.0682 - val_accuracy: 1.0000\n",
            "Epoch 8/10\n",
            "123/123 [==============================] - 13s 109ms/step - loss: 0.0883 - accuracy: 0.9728 - val_loss: 0.1494 - val_accuracy: 0.9688\n",
            "Epoch 9/10\n",
            "123/123 [==============================] - 13s 108ms/step - loss: 0.0828 - accuracy: 0.9748 - val_loss: 0.0738 - val_accuracy: 1.0000\n",
            "Epoch 10/10\n",
            "123/123 [==============================] - 13s 107ms/step - loss: 0.0815 - accuracy: 0.9758 - val_loss: 0.1571 - val_accuracy: 0.9375\n"
          ],
          "name": "stdout"
        },
        {
          "output_type": "execute_result",
          "data": {
            "text/plain": [
              "<keras.callbacks.callbacks.History at 0x7f2dedfd80f0>"
            ]
          },
          "metadata": {
            "tags": []
          },
          "execution_count": 12
        }
      ]
    },
    {
      "cell_type": "code",
      "metadata": {
        "id": "AqjFedqbUlMs",
        "colab_type": "code",
        "colab": {
          "base_uri": "https://localhost:8080/",
          "height": 34
        },
        "outputId": "3d0175c2-a382-48af-9f57-179dce926708"
      },
      "source": [
        "model.evaluate_generator(generator=test_data)"
      ],
      "execution_count": 17,
      "outputs": [
        {
          "output_type": "execute_result",
          "data": {
            "text/plain": [
              "[1.3297070264816284, 0.7003205418586731]"
            ]
          },
          "metadata": {
            "tags": []
          },
          "execution_count": 17
        }
      ]
    },
    {
      "cell_type": "code",
      "metadata": {
        "id": "bHE93Li4ZeYM",
        "colab_type": "code",
        "colab": {}
      },
      "source": [
        ""
      ],
      "execution_count": null,
      "outputs": []
    }
  ]
}