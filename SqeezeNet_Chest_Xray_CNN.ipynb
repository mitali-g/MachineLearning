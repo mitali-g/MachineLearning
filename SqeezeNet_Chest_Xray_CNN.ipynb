{
  "nbformat": 4,
  "nbformat_minor": 0,
  "metadata": {
    "colab": {
      "name": "SqeezeNet_Chest_Xray_CNN.ipynb",
      "provenance": [],
      "mount_file_id": "1nb2IIKOav21a24vUkhDO4UEHyPWKNj9o",
      "authorship_tag": "ABX9TyM399IV84OOsgCtoti4KHaU",
      "include_colab_link": true
    },
    "kernelspec": {
      "name": "python3",
      "display_name": "Python 3"
    }
  },
  "cells": [
    {
      "cell_type": "markdown",
      "metadata": {
        "id": "view-in-github",
        "colab_type": "text"
      },
      "source": [
        "<a href=\"https://colab.research.google.com/github/mitali-g/MachineLearning/blob/master/SqeezeNet_Chest_Xray_CNN.ipynb\" target=\"_parent\"><img src=\"https://colab.research.google.com/assets/colab-badge.svg\" alt=\"Open In Colab\"/></a>"
      ]
    },
    {
      "cell_type": "code",
      "metadata": {
        "id": "DxZSd1ddprds",
        "colab_type": "code",
        "colab": {}
      },
      "source": [
        "import tensorflow as tf\n",
        "import numpy as np\n",
        "import matplotlib.pyplot as plt\n",
        "from tensorflow import keras\n",
        "from keras.models import Sequential, Model\n",
        "from tensorflow.keras.layers import Dense, Conv2D, MaxPooling2D, Flatten, Reshape, Input, GlobalAveragePooling2D, BatchNormalization, concatenate\n",
        "from keras.utils import np_utils\n",
        "import os, cv2, random\n",
        "import pandas as pd\n",
        "%matplotlib inline"
      ],
      "execution_count": 50,
      "outputs": []
    },
    {
      "cell_type": "code",
      "metadata": {
        "id": "5xl6o_agsssK",
        "colab_type": "code",
        "colab": {
          "base_uri": "https://localhost:8080/",
          "height": 34
        },
        "outputId": "63fdc3a6-8cf2-417a-8012-e94c7017d8ca"
      },
      "source": [
        "!ls Resized_Dataset/train-resized|wc"
      ],
      "execution_count": null,
      "outputs": [
        {
          "output_type": "stream",
          "text": [
            "   5309    5309  137840\n"
          ],
          "name": "stdout"
        }
      ]
    },
    {
      "cell_type": "code",
      "metadata": {
        "id": "vf-PpXb0HFf1",
        "colab_type": "code",
        "colab": {
          "base_uri": "https://localhost:8080/",
          "height": 204
        },
        "outputId": "c221e842-bd34-4224-ac31-9a4d2bad8e03"
      },
      "source": [
        "!ls -ltr\n",
        "!date"
      ],
      "execution_count": null,
      "outputs": [
        {
          "output_type": "stream",
          "text": [
            "total 1494060\n",
            "-rw-r--r-- 1 root root     314074 Mar 20 01:27 Chest_xray_Corona_Metadata.csv\n",
            "-rw-r--r-- 1 root root        252 Mar 20 01:27 Chest_xray_Corona_dataset_Summary.csv\n",
            "drwxr-xr-x 1 root root       4096 Jun 26 16:26 sample_data\n",
            "drwx------ 4 root root       4096 Jul  7 16:58 drive\n",
            "-rw-r--r-- 1 root root       2671 Jul  7 16:58 adc.json\n",
            "-rw-r--r-- 1 root root         64 Jul  7 17:00 kaggle.json\n",
            "-rw-r--r-- 1 root root 1275680348 Jul  7 17:00 CoronaHack-Chest-XRaydataset.zip\n",
            "drwxr-xr-x 4 root root       4096 Jul  7 17:27 Coronahack-Chest-XRay-Dataset\n",
            "-rw-r--r-- 1 root root  253890139 Jul  7 21:05 Resized_Dataset.zip\n",
            "Tue Jul  7 21:11:46 UTC 2020\n"
          ],
          "name": "stdout"
        }
      ]
    },
    {
      "cell_type": "code",
      "metadata": {
        "id": "7n87zlBCr-OO",
        "colab_type": "code",
        "colab": {}
      },
      "source": [
        "!unzip -q Resized_Dataset.zip"
      ],
      "execution_count": 2,
      "outputs": []
    },
    {
      "cell_type": "code",
      "metadata": {
        "id": "pyt-_JBnxdKq",
        "colab_type": "code",
        "colab": {
          "base_uri": "https://localhost:8080/",
          "height": 436
        },
        "outputId": "70ef6423-e720-4896-b3b3-29ba2897ae0c"
      },
      "source": [
        "dataset = pd.read_csv(\"Resized_Dataset/Chest_xray_Corona_Metadata.csv\")\n",
        "print(dataset.shape)\n",
        "dataset.head(5932)"
      ],
      "execution_count": 3,
      "outputs": [
        {
          "output_type": "stream",
          "text": [
            "(5910, 6)\n"
          ],
          "name": "stdout"
        },
        {
          "output_type": "execute_result",
          "data": {
            "text/html": [
              "<div>\n",
              "<style scoped>\n",
              "    .dataframe tbody tr th:only-of-type {\n",
              "        vertical-align: middle;\n",
              "    }\n",
              "\n",
              "    .dataframe tbody tr th {\n",
              "        vertical-align: top;\n",
              "    }\n",
              "\n",
              "    .dataframe thead th {\n",
              "        text-align: right;\n",
              "    }\n",
              "</style>\n",
              "<table border=\"1\" class=\"dataframe\">\n",
              "  <thead>\n",
              "    <tr style=\"text-align: right;\">\n",
              "      <th></th>\n",
              "      <th>Unnamed: 0</th>\n",
              "      <th>X_ray_image_name</th>\n",
              "      <th>Label</th>\n",
              "      <th>Dataset_type</th>\n",
              "      <th>Label_2_Virus_category</th>\n",
              "      <th>Label_1_Virus_category</th>\n",
              "    </tr>\n",
              "  </thead>\n",
              "  <tbody>\n",
              "    <tr>\n",
              "      <th>0</th>\n",
              "      <td>0</td>\n",
              "      <td>IM-0128-0001.jpeg</td>\n",
              "      <td>Normal</td>\n",
              "      <td>TRAIN</td>\n",
              "      <td>NaN</td>\n",
              "      <td>NaN</td>\n",
              "    </tr>\n",
              "    <tr>\n",
              "      <th>1</th>\n",
              "      <td>1</td>\n",
              "      <td>IM-0127-0001.jpeg</td>\n",
              "      <td>Normal</td>\n",
              "      <td>TRAIN</td>\n",
              "      <td>NaN</td>\n",
              "      <td>NaN</td>\n",
              "    </tr>\n",
              "    <tr>\n",
              "      <th>2</th>\n",
              "      <td>2</td>\n",
              "      <td>IM-0125-0001.jpeg</td>\n",
              "      <td>Normal</td>\n",
              "      <td>TRAIN</td>\n",
              "      <td>NaN</td>\n",
              "      <td>NaN</td>\n",
              "    </tr>\n",
              "    <tr>\n",
              "      <th>3</th>\n",
              "      <td>3</td>\n",
              "      <td>IM-0122-0001.jpeg</td>\n",
              "      <td>Normal</td>\n",
              "      <td>TRAIN</td>\n",
              "      <td>NaN</td>\n",
              "      <td>NaN</td>\n",
              "    </tr>\n",
              "    <tr>\n",
              "      <th>4</th>\n",
              "      <td>4</td>\n",
              "      <td>IM-0119-0001.jpeg</td>\n",
              "      <td>Normal</td>\n",
              "      <td>TRAIN</td>\n",
              "      <td>NaN</td>\n",
              "      <td>NaN</td>\n",
              "    </tr>\n",
              "    <tr>\n",
              "      <th>...</th>\n",
              "      <td>...</td>\n",
              "      <td>...</td>\n",
              "      <td>...</td>\n",
              "      <td>...</td>\n",
              "      <td>...</td>\n",
              "      <td>...</td>\n",
              "    </tr>\n",
              "    <tr>\n",
              "      <th>5905</th>\n",
              "      <td>5928</td>\n",
              "      <td>person1637_virus_2834.jpeg</td>\n",
              "      <td>Pnemonia</td>\n",
              "      <td>TEST</td>\n",
              "      <td>NaN</td>\n",
              "      <td>Virus</td>\n",
              "    </tr>\n",
              "    <tr>\n",
              "      <th>5906</th>\n",
              "      <td>5929</td>\n",
              "      <td>person1635_virus_2831.jpeg</td>\n",
              "      <td>Pnemonia</td>\n",
              "      <td>TEST</td>\n",
              "      <td>NaN</td>\n",
              "      <td>Virus</td>\n",
              "    </tr>\n",
              "    <tr>\n",
              "      <th>5907</th>\n",
              "      <td>5930</td>\n",
              "      <td>person1634_virus_2830.jpeg</td>\n",
              "      <td>Pnemonia</td>\n",
              "      <td>TEST</td>\n",
              "      <td>NaN</td>\n",
              "      <td>Virus</td>\n",
              "    </tr>\n",
              "    <tr>\n",
              "      <th>5908</th>\n",
              "      <td>5931</td>\n",
              "      <td>person1633_virus_2829.jpeg</td>\n",
              "      <td>Pnemonia</td>\n",
              "      <td>TEST</td>\n",
              "      <td>NaN</td>\n",
              "      <td>Virus</td>\n",
              "    </tr>\n",
              "    <tr>\n",
              "      <th>5909</th>\n",
              "      <td>5932</td>\n",
              "      <td>person1632_virus_2827.jpeg</td>\n",
              "      <td>Pnemonia</td>\n",
              "      <td>TEST</td>\n",
              "      <td>NaN</td>\n",
              "      <td>Virus</td>\n",
              "    </tr>\n",
              "  </tbody>\n",
              "</table>\n",
              "<p>5910 rows × 6 columns</p>\n",
              "</div>"
            ],
            "text/plain": [
              "      Unnamed: 0  ... Label_1_Virus_category\n",
              "0              0  ...                    NaN\n",
              "1              1  ...                    NaN\n",
              "2              2  ...                    NaN\n",
              "3              3  ...                    NaN\n",
              "4              4  ...                    NaN\n",
              "...          ...  ...                    ...\n",
              "5905        5928  ...                  Virus\n",
              "5906        5929  ...                  Virus\n",
              "5907        5930  ...                  Virus\n",
              "5908        5931  ...                  Virus\n",
              "5909        5932  ...                  Virus\n",
              "\n",
              "[5910 rows x 6 columns]"
            ]
          },
          "metadata": {
            "tags": []
          },
          "execution_count": 3
        }
      ]
    },
    {
      "cell_type": "code",
      "metadata": {
        "id": "cM8VbuFia_r2",
        "colab_type": "code",
        "colab": {
          "base_uri": "https://localhost:8080/",
          "height": 350
        },
        "outputId": "2ef5cb78-c0ba-45d4-8a83-9d67e8cfe6e6"
      },
      "source": [
        "import seaborn as sns\n",
        "sns.countplot(dataset['Label'])"
      ],
      "execution_count": 4,
      "outputs": [
        {
          "output_type": "stream",
          "text": [
            "/usr/local/lib/python3.6/dist-packages/statsmodels/tools/_testing.py:19: FutureWarning: pandas.util.testing is deprecated. Use the functions in the public API at pandas.testing instead.\n",
            "  import pandas.util.testing as tm\n"
          ],
          "name": "stderr"
        },
        {
          "output_type": "execute_result",
          "data": {
            "text/plain": [
              "<matplotlib.axes._subplots.AxesSubplot at 0x7f3a1c462b70>"
            ]
          },
          "metadata": {
            "tags": []
          },
          "execution_count": 4
        },
        {
          "output_type": "display_data",
          "data": {
            "image/png": "[encoded data removed]",
            "text/plain": [
              "<Figure size 432x288 with 1 Axes>"
            ]
          },
          "metadata": {
            "tags": [],
            "needs_background": "light"
          }
        }
      ]
    },
    {
      "cell_type": "code",
      "metadata": {
        "id": "Zlv9C1h6xk67",
        "colab_type": "code",
        "colab": {
          "base_uri": "https://localhost:8080/",
          "height": 221
        },
        "outputId": "148c9bcf-ade4-435e-eddd-5cd95b5ef214"
      },
      "source": [
        "dataset['X_ray_image_name']"
      ],
      "execution_count": 5,
      "outputs": [
        {
          "output_type": "execute_result",
          "data": {
            "text/plain": [
              "0                IM-0128-0001.jpeg\n",
              "1                IM-0127-0001.jpeg\n",
              "2                IM-0125-0001.jpeg\n",
              "3                IM-0122-0001.jpeg\n",
              "4                IM-0119-0001.jpeg\n",
              "                   ...            \n",
              "5905    person1637_virus_2834.jpeg\n",
              "5906    person1635_virus_2831.jpeg\n",
              "5907    person1634_virus_2830.jpeg\n",
              "5908    person1633_virus_2829.jpeg\n",
              "5909    person1632_virus_2827.jpeg\n",
              "Name: X_ray_image_name, Length: 5910, dtype: object"
            ]
          },
          "metadata": {
            "tags": []
          },
          "execution_count": 5
        }
      ]
    },
    {
      "cell_type": "code",
      "metadata": {
        "id": "xw2P5R8MyjWt",
        "colab_type": "code",
        "colab": {
          "base_uri": "https://localhost:8080/",
          "height": 419
        },
        "outputId": "d5730e0f-11d0-48f6-8abf-fee4654f07f0"
      },
      "source": [
        "dataset[['X_ray_image_name', 'Label']]"
      ],
      "execution_count": 6,
      "outputs": [
        {
          "output_type": "execute_result",
          "data": {
            "text/html": [
              "<div>\n",
              "<style scoped>\n",
              "    .dataframe tbody tr th:only-of-type {\n",
              "        vertical-align: middle;\n",
              "    }\n",
              "\n",
              "    .dataframe tbody tr th {\n",
              "        vertical-align: top;\n",
              "    }\n",
              "\n",
              "    .dataframe thead th {\n",
              "        text-align: right;\n",
              "    }\n",
              "</style>\n",
              "<table border=\"1\" class=\"dataframe\">\n",
              "  <thead>\n",
              "    <tr style=\"text-align: right;\">\n",
              "      <th></th>\n",
              "      <th>X_ray_image_name</th>\n",
              "      <th>Label</th>\n",
              "    </tr>\n",
              "  </thead>\n",
              "  <tbody>\n",
              "    <tr>\n",
              "      <th>0</th>\n",
              "      <td>IM-0128-0001.jpeg</td>\n",
              "      <td>Normal</td>\n",
              "    </tr>\n",
              "    <tr>\n",
              "      <th>1</th>\n",
              "      <td>IM-0127-0001.jpeg</td>\n",
              "      <td>Normal</td>\n",
              "    </tr>\n",
              "    <tr>\n",
              "      <th>2</th>\n",
              "      <td>IM-0125-0001.jpeg</td>\n",
              "      <td>Normal</td>\n",
              "    </tr>\n",
              "    <tr>\n",
              "      <th>3</th>\n",
              "      <td>IM-0122-0001.jpeg</td>\n",
              "      <td>Normal</td>\n",
              "    </tr>\n",
              "    <tr>\n",
              "      <th>4</th>\n",
              "      <td>IM-0119-0001.jpeg</td>\n",
              "      <td>Normal</td>\n",
              "    </tr>\n",
              "    <tr>\n",
              "      <th>...</th>\n",
              "      <td>...</td>\n",
              "      <td>...</td>\n",
              "    </tr>\n",
              "    <tr>\n",
              "      <th>5905</th>\n",
              "      <td>person1637_virus_2834.jpeg</td>\n",
              "      <td>Pnemonia</td>\n",
              "    </tr>\n",
              "    <tr>\n",
              "      <th>5906</th>\n",
              "      <td>person1635_virus_2831.jpeg</td>\n",
              "      <td>Pnemonia</td>\n",
              "    </tr>\n",
              "    <tr>\n",
              "      <th>5907</th>\n",
              "      <td>person1634_virus_2830.jpeg</td>\n",
              "      <td>Pnemonia</td>\n",
              "    </tr>\n",
              "    <tr>\n",
              "      <th>5908</th>\n",
              "      <td>person1633_virus_2829.jpeg</td>\n",
              "      <td>Pnemonia</td>\n",
              "    </tr>\n",
              "    <tr>\n",
              "      <th>5909</th>\n",
              "      <td>person1632_virus_2827.jpeg</td>\n",
              "      <td>Pnemonia</td>\n",
              "    </tr>\n",
              "  </tbody>\n",
              "</table>\n",
              "<p>5910 rows × 2 columns</p>\n",
              "</div>"
            ],
            "text/plain": [
              "                X_ray_image_name     Label\n",
              "0              IM-0128-0001.jpeg    Normal\n",
              "1              IM-0127-0001.jpeg    Normal\n",
              "2              IM-0125-0001.jpeg    Normal\n",
              "3              IM-0122-0001.jpeg    Normal\n",
              "4              IM-0119-0001.jpeg    Normal\n",
              "...                          ...       ...\n",
              "5905  person1637_virus_2834.jpeg  Pnemonia\n",
              "5906  person1635_virus_2831.jpeg  Pnemonia\n",
              "5907  person1634_virus_2830.jpeg  Pnemonia\n",
              "5908  person1633_virus_2829.jpeg  Pnemonia\n",
              "5909  person1632_virus_2827.jpeg  Pnemonia\n",
              "\n",
              "[5910 rows x 2 columns]"
            ]
          },
          "metadata": {
            "tags": []
          },
          "execution_count": 6
        }
      ]
    },
    {
      "cell_type": "code",
      "metadata": {
        "id": "YQFirBIf0rNm",
        "colab_type": "code",
        "colab": {
          "base_uri": "https://localhost:8080/",
          "height": 255
        },
        "outputId": "842e1d41-0498-459b-d574-ff99e57f0856"
      },
      "source": [
        "x_trainFeatures = dataset[['X_ray_image_name']]\n",
        "x_trainFeatures = x_trainFeatures[0:5309]\n",
        "print(x_trainFeatures)"
      ],
      "execution_count": 7,
      "outputs": [
        {
          "output_type": "stream",
          "text": [
            "               X_ray_image_name\n",
            "0             IM-0128-0001.jpeg\n",
            "1             IM-0127-0001.jpeg\n",
            "2             IM-0125-0001.jpeg\n",
            "3             IM-0122-0001.jpeg\n",
            "4             IM-0119-0001.jpeg\n",
            "...                         ...\n",
            "5304  NORMAL2-IM-0066-0001.jpeg\n",
            "5305  NORMAL2-IM-0060-0001.jpeg\n",
            "5306  NORMAL2-IM-0059-0001.jpeg\n",
            "5307  NORMAL2-IM-0058-0001.jpeg\n",
            "5308  NORMAL2-IM-0052-0001.jpeg\n",
            "\n",
            "[5309 rows x 1 columns]\n"
          ],
          "name": "stdout"
        }
      ]
    },
    {
      "cell_type": "code",
      "metadata": {
        "id": "nM3CdIkk1OkQ",
        "colab_type": "code",
        "colab": {
          "base_uri": "https://localhost:8080/",
          "height": 136
        },
        "outputId": "627fc0b0-df51-435a-8be2-ef8a110b377d"
      },
      "source": [
        "y_train_labels = dataset[['Label']]\n",
        "y_train_labels = y_train_labels[0:5309]\n",
        "#print(y_train_labels)\n",
        "\n",
        "y_train = []\n",
        "for label in y_train_labels['Label']:\n",
        "  if label == 'Pnemonia':\n",
        "    y_train.append(1)\n",
        "  elif label == 'Normal':\n",
        "    y_train.append(0)\n",
        "  else:\n",
        "    print(label)\n",
        "#print(y_train)\n",
        "y_train = keras.utils.to_categorical(y_train)\n",
        "print(y_train)"
      ],
      "execution_count": 8,
      "outputs": [
        {
          "output_type": "stream",
          "text": [
            "[[1. 0.]\n",
            " [1. 0.]\n",
            " [1. 0.]\n",
            " ...\n",
            " [1. 0.]\n",
            " [1. 0.]\n",
            " [1. 0.]]\n"
          ],
          "name": "stdout"
        }
      ]
    },
    {
      "cell_type": "code",
      "metadata": {
        "id": "zL8mE4A41WJe",
        "colab_type": "code",
        "colab": {
          "base_uri": "https://localhost:8080/",
          "height": 255
        },
        "outputId": "44e682af-8b9f-4969-d7f9-15ab33f3ad29"
      },
      "source": [
        "x_testFeatures = dataset[['X_ray_image_name']]\n",
        "x_testFeatures = x_testFeatures[5309:]\n",
        "print(x_testFeatures)"
      ],
      "execution_count": 9,
      "outputs": [
        {
          "output_type": "stream",
          "text": [
            "                X_ray_image_name\n",
            "5309   NORMAL2-IM-0051-0001.jpeg\n",
            "5310   NORMAL2-IM-0045-0001.jpeg\n",
            "5311   NORMAL2-IM-0041-0001.jpeg\n",
            "5312   NORMAL2-IM-0035-0001.jpeg\n",
            "5313   NORMAL2-IM-0033-0001.jpeg\n",
            "...                          ...\n",
            "5905  person1637_virus_2834.jpeg\n",
            "5906  person1635_virus_2831.jpeg\n",
            "5907  person1634_virus_2830.jpeg\n",
            "5908  person1633_virus_2829.jpeg\n",
            "5909  person1632_virus_2827.jpeg\n",
            "\n",
            "[601 rows x 1 columns]\n"
          ],
          "name": "stdout"
        }
      ]
    },
    {
      "cell_type": "code",
      "metadata": {
        "id": "wPvZz-6j2hiD",
        "colab_type": "code",
        "colab": {
          "base_uri": "https://localhost:8080/",
          "height": 136
        },
        "outputId": "0fda8542-c699-4e54-dc80-e9f951eaeef0"
      },
      "source": [
        "y_test_labels = dataset[['Label']]\n",
        "y_test_labels = y_test_labels[5309:]\n",
        "#print(y_test_labels)\n",
        "\n",
        "y_test = []\n",
        "for label in y_test_labels['Label']:\n",
        "  if label == 'Pnemonia':\n",
        "    y_test.append(1)\n",
        "  elif label == 'Normal':\n",
        "    y_test.append(0)\n",
        "  else:\n",
        "    print(label)\n",
        "#print(y_test)\n",
        "y_test = keras.utils.to_categorical(y_test)\n",
        "print(y_test)"
      ],
      "execution_count": 10,
      "outputs": [
        {
          "output_type": "stream",
          "text": [
            "[[1. 0.]\n",
            " [1. 0.]\n",
            " [1. 0.]\n",
            " ...\n",
            " [0. 1.]\n",
            " [0. 1.]\n",
            " [0. 1.]]\n"
          ],
          "name": "stdout"
        }
      ]
    },
    {
      "cell_type": "code",
      "metadata": {
        "id": "59Dfz65TydP-",
        "colab_type": "code",
        "colab": {
          "base_uri": "https://localhost:8080/",
          "height": 34
        },
        "outputId": "72057ff1-1ee7-41c6-9282-2857158164d0"
      },
      "source": [
        "import os\n",
        "list_of_images = os.listdir('Resized_Dataset/train-resized')\n",
        "len(list_of_images)"
      ],
      "execution_count": 13,
      "outputs": [
        {
          "output_type": "execute_result",
          "data": {
            "text/plain": [
              "5309"
            ]
          },
          "metadata": {
            "tags": []
          },
          "execution_count": 13
        }
      ]
    },
    {
      "cell_type": "code",
      "metadata": {
        "id": "mvwVvU_y7Gs_",
        "colab_type": "code",
        "colab": {
          "base_uri": "https://localhost:8080/",
          "height": 286
        },
        "outputId": "5a84aacb-d0a7-4ab9-b479-02e405b86eec"
      },
      "source": [
        "x_train = []\n",
        "\n",
        "list_of_images = os.listdir('Resized_Dataset/train-resized')\n",
        "for image in list_of_images:\n",
        "  image = plt.imread('Resized_Dataset/train-resized/' + image)\n",
        "  plt.grid(False)\n",
        "  x_train.append(image)\n",
        "len(x_train)"
      ],
      "execution_count": 14,
      "outputs": [
        {
          "output_type": "execute_result",
          "data": {
            "text/plain": [
              "5309"
            ]
          },
          "metadata": {
            "tags": []
          },
          "execution_count": 14
        },
        {
          "output_type": "display_data",
          "data": {
            "image/png": "[encoded data removed]",
            "text/plain": [
              "<Figure size 432x288 with 1 Axes>"
            ]
          },
          "metadata": {
            "tags": [],
            "needs_background": "light"
          }
        }
      ]
    },
    {
      "cell_type": "code",
      "metadata": {
        "id": "XMbM5iaRTUP-",
        "colab_type": "code",
        "colab": {
          "base_uri": "https://localhost:8080/",
          "height": 286
        },
        "outputId": "cc2921e0-910e-42ff-d5bd-0babc250f81b"
      },
      "source": [
        "x_test = []\n",
        "#for image in os.listdir('Coronahack-Chest-XRay-Dataset/Coronahack-Chest-XRay-Dataset/test-resized'):\n",
        " # image = plt.imread('Coronahack-Chest-XRay-Dataset/Coronahack-Chest-XRay-Dataset/test-resized/' + image)\n",
        " # plt.grid(False)\n",
        " # x_test.append(image)\n",
        "#len(x_test)\n",
        "\n",
        "test_path = ('Resized_Dataset/test-resized/')\n",
        "\n",
        "for image in x_testFeatures['X_ray_image_name']:\n",
        "  # image.rfind : removes '.jpeg'\n",
        "  image_path =test_path + image[:image.rfind('.jpeg')]\n",
        "\n",
        "\n",
        "  if os.path.isfile(image_path + '.png'):\n",
        "    image = plt.imread(image_path + '.png')\n",
        "    plt.grid(False)\n",
        "    x_test.append(image)\n",
        "len(x_test)"
      ],
      "execution_count": 15,
      "outputs": [
        {
          "output_type": "execute_result",
          "data": {
            "text/plain": [
              "601"
            ]
          },
          "metadata": {
            "tags": []
          },
          "execution_count": 15
        },
        {
          "output_type": "display_data",
          "data": {
            "image/png": "[encoded data removed]",
            "text/plain": [
              "<Figure size 432x288 with 1 Axes>"
            ]
          },
          "metadata": {
            "tags": [],
            "needs_background": "light"
          }
        }
      ]
    },
    {
      "cell_type": "code",
      "metadata": {
        "id": "5VACY4RGPiqH",
        "colab_type": "code",
        "colab": {
          "base_uri": "https://localhost:8080/",
          "height": 51
        },
        "outputId": "8fab8073-ceaf-476e-c274-4f52cda1dd54"
      },
      "source": [
        "x_train = np.array(x_train, np.float16) / 255.0\n",
        "y_train = np.array(y_train)\n",
        "print(len(x_train), len(y_train), x_train.shape, y_train.shape)\n",
        "\n",
        "x_test = np.array(x_test, np.float16) / 255.0\n",
        "y_test = np.array(y_test)\n",
        "print(len(x_test), len(y_test), x_test.shape, y_test.shape)"
      ],
      "execution_count": 16,
      "outputs": [
        {
          "output_type": "stream",
          "text": [
            "5309 5309 (5309, 256, 256, 4) (5309, 2)\n",
            "601 601 (601, 256, 256, 4) (601, 2)\n"
          ],
          "name": "stdout"
        }
      ]
    },
    {
      "cell_type": "code",
      "metadata": {
        "id": "vEoycQRiUpNG",
        "colab_type": "code",
        "colab": {}
      },
      "source": [
        "#plt.imshow(x_train[100])\n",
        "\n",
        "#x_train[0].shape\n",
        "\n",
        "#gray_image = plt.imshow(x_train[0], cmap = 'gray')\n",
        "#len(x_train[0].shape)"
      ],
      "execution_count": null,
      "outputs": []
    },
    {
      "cell_type": "code",
      "metadata": {
        "id": "2BZ0bTP2En9V",
        "colab_type": "code",
        "colab": {
          "base_uri": "https://localhost:8080/",
          "height": 62
        },
        "outputId": "db28bbeb-dcd1-4820-93bc-4161f6c1ab75"
      },
      "source": [
        "print(y_train.shape)\n",
        "print(y_test.shape)"
      ],
      "execution_count": 29,
      "outputs": [
        {
          "output_type": "stream",
          "text": [
            "(5309, 2)\n",
            "(601, 2)\n"
          ],
          "name": "stdout"
        }
      ]
    },
    {
      "cell_type": "code",
      "metadata": {
        "id": "rwwo7HNBaoHw",
        "colab_type": "code",
        "colab": {
          "base_uri": "https://localhost:8080/",
          "height": 1000
        },
        "outputId": "8188b339-fb67-4cf2-90c8-a44bf934034b"
      },
      "source": [
        "# https://colab.research.google.com/github/GoogleCloudPlatform/training-data-analyst/blob/master/courses/fast-and-lean-data-science/07_Keras_Flowers_TPU_squeezenet.ipynb\n",
        "bnmomentum=0.9\n",
        "def fire(x, squeeze, expand):\n",
        "  y = Conv2D(filters=squeeze, kernel_size=1, padding='same', activation='relu')(x)\n",
        "  y = BatchNormalization(momentum=bnmomentum)(y)\n",
        "  y1 = Conv2D(filters=expand//2, kernel_size=1, padding='same', activation='relu')(y)\n",
        "  y1 = BatchNormalization(momentum=bnmomentum)(y1)\n",
        "  y3 = Conv2D(filters=expand//2, kernel_size=3, padding='same', activation='relu')(y)\n",
        "  y3 = BatchNormalization(momentum=bnmomentum)(y3)\n",
        "  return concatenate([y1, y3])\n",
        "\n",
        "def fire_module(squeeze, expand):\n",
        "  return lambda x: fire(x, squeeze, expand)\n",
        "x = Input(shape=[256, 256, 4])\n",
        "# y = fire_module(squeeze=24, expand=48)(x) # squeeze is less than expand\n",
        "# y = fire_module(squeeze=32, expand=64)(y)\n",
        "\n",
        "\n",
        "y = Conv2D(kernel_size=3, filters=32, padding='same', activation='relu')(x)\n",
        "y = BatchNormalization(momentum=bnmomentum)(y)\n",
        "y = fire_module(24, 48)(y)\n",
        "y = MaxPooling2D(pool_size=2)(y)\n",
        "y = fire_module(24, 96)(y)\n",
        "y = MaxPooling2D(pool_size=2)(y)\n",
        "y = fire_module(24, 128)(y)\n",
        "y = MaxPooling2D(pool_size=2)(y)\n",
        "y = fire_module(24, 96)(y)\n",
        "y = MaxPooling2D(pool_size=2)(y)\n",
        "y = fire_module(24, 48)(y)\n",
        "y = GlobalAveragePooling2D()(y)\n",
        "y = Dense(2, activation='softmax')(y)\n",
        "model = tf.keras.Model(x, y)\n",
        "model.compile(optimizer='adam', loss='categorical_crossentropy', metrics = ['accuracy'])\n",
        "model.summary()"
      ],
      "execution_count": 53,
      "outputs": [
        {
          "output_type": "stream",
          "text": [
            "Model: \"model_4\"\n",
            "__________________________________________________________________________________________________\n",
            "Layer (type)                    Output Shape         Param #     Connected to                     \n",
            "==================================================================================================\n",
            "input_24 (InputLayer)           [(None, 256, 256, 4) 0                                            \n",
            "__________________________________________________________________________________________________\n",
            "conv2d_358 (Conv2D)             (None, 256, 256, 32) 1184        input_24[0][0]                   \n",
            "__________________________________________________________________________________________________\n",
            "batch_normalization_97 (BatchNo (None, 256, 256, 32) 128         conv2d_358[0][0]                 \n",
            "__________________________________________________________________________________________________\n",
            "conv2d_359 (Conv2D)             (None, 256, 256, 24) 792         batch_normalization_97[0][0]     \n",
            "__________________________________________________________________________________________________\n",
            "batch_normalization_98 (BatchNo (None, 256, 256, 24) 96          conv2d_359[0][0]                 \n",
            "__________________________________________________________________________________________________\n",
            "conv2d_360 (Conv2D)             (None, 256, 256, 24) 600         batch_normalization_98[0][0]     \n",
            "__________________________________________________________________________________________________\n",
            "conv2d_361 (Conv2D)             (None, 256, 256, 24) 5208        batch_normalization_98[0][0]     \n",
            "__________________________________________________________________________________________________\n",
            "batch_normalization_99 (BatchNo (None, 256, 256, 24) 96          conv2d_360[0][0]                 \n",
            "__________________________________________________________________________________________________\n",
            "batch_normalization_100 (BatchN (None, 256, 256, 24) 96          conv2d_361[0][0]                 \n",
            "__________________________________________________________________________________________________\n",
            "concatenate_114 (Concatenate)   (None, 256, 256, 48) 0           batch_normalization_99[0][0]     \n",
            "                                                                 batch_normalization_100[0][0]    \n",
            "__________________________________________________________________________________________________\n",
            "max_pooling2d_58 (MaxPooling2D) (None, 128, 128, 48) 0           concatenate_114[0][0]            \n",
            "__________________________________________________________________________________________________\n",
            "conv2d_362 (Conv2D)             (None, 128, 128, 24) 1176        max_pooling2d_58[0][0]           \n",
            "__________________________________________________________________________________________________\n",
            "batch_normalization_101 (BatchN (None, 128, 128, 24) 96          conv2d_362[0][0]                 \n",
            "__________________________________________________________________________________________________\n",
            "conv2d_363 (Conv2D)             (None, 128, 128, 48) 1200        batch_normalization_101[0][0]    \n",
            "__________________________________________________________________________________________________\n",
            "conv2d_364 (Conv2D)             (None, 128, 128, 48) 10416       batch_normalization_101[0][0]    \n",
            "__________________________________________________________________________________________________\n",
            "batch_normalization_102 (BatchN (None, 128, 128, 48) 192         conv2d_363[0][0]                 \n",
            "__________________________________________________________________________________________________\n",
            "batch_normalization_103 (BatchN (None, 128, 128, 48) 192         conv2d_364[0][0]                 \n",
            "__________________________________________________________________________________________________\n",
            "concatenate_115 (Concatenate)   (None, 128, 128, 96) 0           batch_normalization_102[0][0]    \n",
            "                                                                 batch_normalization_103[0][0]    \n",
            "__________________________________________________________________________________________________\n",
            "max_pooling2d_59 (MaxPooling2D) (None, 64, 64, 96)   0           concatenate_115[0][0]            \n",
            "__________________________________________________________________________________________________\n",
            "conv2d_365 (Conv2D)             (None, 64, 64, 24)   2328        max_pooling2d_59[0][0]           \n",
            "__________________________________________________________________________________________________\n",
            "batch_normalization_104 (BatchN (None, 64, 64, 24)   96          conv2d_365[0][0]                 \n",
            "__________________________________________________________________________________________________\n",
            "conv2d_366 (Conv2D)             (None, 64, 64, 64)   1600        batch_normalization_104[0][0]    \n",
            "__________________________________________________________________________________________________\n",
            "conv2d_367 (Conv2D)             (None, 64, 64, 64)   13888       batch_normalization_104[0][0]    \n",
            "__________________________________________________________________________________________________\n",
            "batch_normalization_105 (BatchN (None, 64, 64, 64)   256         conv2d_366[0][0]                 \n",
            "__________________________________________________________________________________________________\n",
            "batch_normalization_106 (BatchN (None, 64, 64, 64)   256         conv2d_367[0][0]                 \n",
            "__________________________________________________________________________________________________\n",
            "concatenate_116 (Concatenate)   (None, 64, 64, 128)  0           batch_normalization_105[0][0]    \n",
            "                                                                 batch_normalization_106[0][0]    \n",
            "__________________________________________________________________________________________________\n",
            "max_pooling2d_60 (MaxPooling2D) (None, 32, 32, 128)  0           concatenate_116[0][0]            \n",
            "__________________________________________________________________________________________________\n",
            "conv2d_368 (Conv2D)             (None, 32, 32, 24)   3096        max_pooling2d_60[0][0]           \n",
            "__________________________________________________________________________________________________\n",
            "batch_normalization_107 (BatchN (None, 32, 32, 24)   96          conv2d_368[0][0]                 \n",
            "__________________________________________________________________________________________________\n",
            "conv2d_369 (Conv2D)             (None, 32, 32, 48)   1200        batch_normalization_107[0][0]    \n",
            "__________________________________________________________________________________________________\n",
            "conv2d_370 (Conv2D)             (None, 32, 32, 48)   10416       batch_normalization_107[0][0]    \n",
            "__________________________________________________________________________________________________\n",
            "batch_normalization_108 (BatchN (None, 32, 32, 48)   192         conv2d_369[0][0]                 \n",
            "__________________________________________________________________________________________________\n",
            "batch_normalization_109 (BatchN (None, 32, 32, 48)   192         conv2d_370[0][0]                 \n",
            "__________________________________________________________________________________________________\n",
            "concatenate_117 (Concatenate)   (None, 32, 32, 96)   0           batch_normalization_108[0][0]    \n",
            "                                                                 batch_normalization_109[0][0]    \n",
            "__________________________________________________________________________________________________\n",
            "max_pooling2d_61 (MaxPooling2D) (None, 16, 16, 96)   0           concatenate_117[0][0]            \n",
            "__________________________________________________________________________________________________\n",
            "conv2d_371 (Conv2D)             (None, 16, 16, 24)   2328        max_pooling2d_61[0][0]           \n",
            "__________________________________________________________________________________________________\n",
            "batch_normalization_110 (BatchN (None, 16, 16, 24)   96          conv2d_371[0][0]                 \n",
            "__________________________________________________________________________________________________\n",
            "conv2d_372 (Conv2D)             (None, 16, 16, 24)   600         batch_normalization_110[0][0]    \n",
            "__________________________________________________________________________________________________\n",
            "conv2d_373 (Conv2D)             (None, 16, 16, 24)   5208        batch_normalization_110[0][0]    \n",
            "__________________________________________________________________________________________________\n",
            "batch_normalization_111 (BatchN (None, 16, 16, 24)   96          conv2d_372[0][0]                 \n",
            "__________________________________________________________________________________________________\n",
            "batch_normalization_112 (BatchN (None, 16, 16, 24)   96          conv2d_373[0][0]                 \n",
            "__________________________________________________________________________________________________\n",
            "concatenate_118 (Concatenate)   (None, 16, 16, 48)   0           batch_normalization_111[0][0]    \n",
            "                                                                 batch_normalization_112[0][0]    \n",
            "__________________________________________________________________________________________________\n",
            "global_average_pooling2d_17 (Gl (None, 48)           0           concatenate_118[0][0]            \n",
            "__________________________________________________________________________________________________\n",
            "dense_17 (Dense)                (None, 2)            98          global_average_pooling2d_17[0][0]\n",
            "==================================================================================================\n",
            "Total params: 63,610\n",
            "Trainable params: 62,474\n",
            "Non-trainable params: 1,136\n",
            "__________________________________________________________________________________________________\n"
          ],
          "name": "stdout"
        }
      ]
    },
    {
      "cell_type": "code",
      "metadata": {
        "id": "FvagarzZSp1T",
        "colab_type": "code",
        "colab": {
          "base_uri": "https://localhost:8080/",
          "height": 357
        },
        "outputId": "65cad0bc-8ee9-495d-879c-a30b797d5e9a"
      },
      "source": [
        "history = model.fit(x_train, y_train, epochs = 10, validation_split = 0.1)"
      ],
      "execution_count": 54,
      "outputs": [
        {
          "output_type": "stream",
          "text": [
            "Epoch 1/10\n",
            "150/150 [==============================] - 1581s 11s/step - loss: 0.6215 - accuracy: 0.6909 - val_loss: 0.3840 - val_accuracy: 0.9548\n",
            "Epoch 2/10\n",
            "150/150 [==============================] - 1579s 11s/step - loss: 0.5978 - accuracy: 0.7189 - val_loss: 0.3749 - val_accuracy: 0.9548\n",
            "Epoch 3/10\n",
            "150/150 [==============================] - 1569s 10s/step - loss: 0.5961 - accuracy: 0.7191 - val_loss: 0.2936 - val_accuracy: 0.9548\n",
            "Epoch 4/10\n",
            "150/150 [==============================] - 1572s 10s/step - loss: 0.5960 - accuracy: 0.7191 - val_loss: 0.3609 - val_accuracy: 0.9548\n",
            "Epoch 5/10\n",
            "150/150 [==============================] - 1582s 11s/step - loss: 0.5944 - accuracy: 0.7193 - val_loss: 0.3733 - val_accuracy: 0.9548\n",
            "Epoch 6/10\n",
            "150/150 [==============================] - 1574s 10s/step - loss: 0.5933 - accuracy: 0.7193 - val_loss: 0.3883 - val_accuracy: 0.9548\n",
            "Epoch 7/10\n",
            "150/150 [==============================] - 1573s 10s/step - loss: 0.5916 - accuracy: 0.7193 - val_loss: 0.3461 - val_accuracy: 0.9548\n",
            "Epoch 8/10\n",
            "150/150 [==============================] - 1574s 10s/step - loss: 0.5923 - accuracy: 0.7193 - val_loss: 0.3908 - val_accuracy: 0.9548\n",
            "Epoch 9/10\n",
            "150/150 [==============================] - 1574s 10s/step - loss: 0.5910 - accuracy: 0.7193 - val_loss: 0.3288 - val_accuracy: 0.9548\n",
            "Epoch 10/10\n",
            "150/150 [==============================] - 1572s 10s/step - loss: 0.5910 - accuracy: 0.7189 - val_loss: 0.3809 - val_accuracy: 0.9548\n"
          ],
          "name": "stdout"
        }
      ]
    },
    {
      "cell_type": "code",
      "metadata": {
        "id": "DiELDieBDiOm",
        "colab_type": "code",
        "colab": {
          "base_uri": "https://localhost:8080/",
          "height": 317
        },
        "outputId": "994d2a1f-0256-4380-fedb-69ab8c3bad8b"
      },
      "source": [
        "plt.plot(history.history['accuracy'], label='accuracy')\n",
        "plt.plot(history.history['val_accuracy'], label = 'val_accuracy')\n",
        "plt.xlabel('Epoch')\n",
        "plt.ylabel('Accuracy')\n",
        "plt.ylim([0.5, 1])\n",
        "plt.legend(loc='lower right')\n",
        "\n",
        "test_loss, test_acc = model.evaluate(x_test,  y_test)\n",
        "print(test_loss, test_acc)"
      ],
      "execution_count": 55,
      "outputs": [
        {
          "output_type": "stream",
          "text": [
            "19/19 [==============================] - 39s 2s/step - loss: 0.6360 - accuracy: 0.6489\n",
            "0.6360241174697876 0.6489184498786926\n"
          ],
          "name": "stdout"
        },
        {
          "output_type": "display_data",
          "data": {
            "image/png": "[encoded data removed]",
            "text/plain": [
              "<Figure size 432x288 with 1 Axes>"
            ]
          },
          "metadata": {
            "tags": [],
            "needs_background": "light"
          }
        }
      ]
    },
    {
      "cell_type": "code",
      "metadata": {
        "id": "WVBBc_NGlzZj",
        "colab_type": "code",
        "colab": {}
      },
      "source": [
        ""
      ],
      "execution_count": null,
      "outputs": []
    }
  ]
}