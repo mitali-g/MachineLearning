{
  "nbformat": 4,
  "nbformat_minor": 0,
  "metadata": {
    "colab": {
      "name": "Chest_Xray_CNN.ipynb",
      "provenance": [],
      "mount_file_id": "1nb2IIKOav21a24vUkhDO4UEHyPWKNj9o",
      "authorship_tag": "ABX9TyPaRJ5HV6hkGriXfZYa3kqT",
      "include_colab_link": true
    },
    "kernelspec": {
      "name": "python3",
      "display_name": "Python 3"
    }
  },
  "cells": [
    {
      "cell_type": "markdown",
      "metadata": {
        "id": "view-in-github",
        "colab_type": "text"
      },
      "source": [
        "<a href=\"https://colab.research.google.com/github/mitali-g/MachineLearning/blob/master/Chest_Xray_CNN.ipynb\" target=\"_parent\"><img src=\"https://colab.research.google.com/assets/colab-badge.svg\" alt=\"Open In Colab\"/></a>"
      ]
    },
    {
      "cell_type": "code",
      "metadata": {
        "id": "DxZSd1ddprds",
        "colab_type": "code",
        "colab": {
          "base_uri": "https://localhost:8080/",
          "height": 34
        },
        "outputId": "a74029aa-3437-4a19-f215-0d86ede6e336"
      },
      "source": [
        "import tensorflow as tf\n",
        "import numpy as np\n",
        "import matplotlib.pyplot as plt\n",
        "import keras\n",
        "from keras.models import Sequential \n",
        "from keras.layers import Dense, Conv2D, MaxPooling2D, Flatten, Reshape\n",
        "from keras.utils import np_utils\n",
        "import os, cv2, random\n",
        "import pandas as pd\n",
        "%matplotlib inline"
      ],
      "execution_count": 1,
      "outputs": [
        {
          "output_type": "stream",
          "text": [
            "Using TensorFlow backend.\n"
          ],
          "name": "stderr"
        }
      ]
    },
    {
      "cell_type": "code",
      "metadata": {
        "id": "5xl6o_agsssK",
        "colab_type": "code",
        "colab": {
          "base_uri": "https://localhost:8080/",
          "height": 34
        },
        "outputId": "63fdc3a6-8cf2-417a-8012-e94c7017d8ca"
      },
      "source": [
        "!ls Resized_Dataset/train-resized|wc"
      ],
      "execution_count": null,
      "outputs": [
        {
          "output_type": "stream",
          "text": [
            "   5309    5309  137840\n"
          ],
          "name": "stdout"
        }
      ]
    },
    {
      "cell_type": "code",
      "metadata": {
        "id": "ecnQWN-TD0pB",
        "colab_type": "code",
        "colab": {}
      },
      "source": [
        "#!rm -r Resized_Dataset __MACOSX/"
      ],
      "execution_count": null,
      "outputs": []
    },
    {
      "cell_type": "code",
      "metadata": {
        "id": "vf-PpXb0HFf1",
        "colab_type": "code",
        "colab": {
          "base_uri": "https://localhost:8080/",
          "height": 204
        },
        "outputId": "c221e842-bd34-4224-ac31-9a4d2bad8e03"
      },
      "source": [
        "!ls -ltr\n",
        "!date"
      ],
      "execution_count": null,
      "outputs": [
        {
          "output_type": "stream",
          "text": [
            "total 1494060\n",
            "-rw-r--r-- 1 root root     314074 Mar 20 01:27 Chest_xray_Corona_Metadata.csv\n",
            "-rw-r--r-- 1 root root        252 Mar 20 01:27 Chest_xray_Corona_dataset_Summary.csv\n",
            "drwxr-xr-x 1 root root       4096 Jun 26 16:26 sample_data\n",
            "drwx------ 4 root root       4096 Jul  7 16:58 drive\n",
            "-rw-r--r-- 1 root root       2671 Jul  7 16:58 adc.json\n",
            "-rw-r--r-- 1 root root         64 Jul  7 17:00 kaggle.json\n",
            "-rw-r--r-- 1 root root 1275680348 Jul  7 17:00 CoronaHack-Chest-XRaydataset.zip\n",
            "drwxr-xr-x 4 root root       4096 Jul  7 17:27 Coronahack-Chest-XRay-Dataset\n",
            "-rw-r--r-- 1 root root  253890139 Jul  7 21:05 Resized_Dataset.zip\n",
            "Tue Jul  7 21:11:46 UTC 2020\n"
          ],
          "name": "stdout"
        }
      ]
    },
    {
      "cell_type": "code",
      "metadata": {
        "id": "7n87zlBCr-OO",
        "colab_type": "code",
        "colab": {}
      },
      "source": [
        "!unzip Resized_Dataset.zip"
      ],
      "execution_count": null,
      "outputs": []
    },
    {
      "cell_type": "code",
      "metadata": {
        "id": "oPjAHYD8qNEc",
        "colab_type": "code",
        "colab": {
          "base_uri": "https://localhost:8080/",
          "height": 224
        },
        "outputId": "e8651579-ec7a-4454-9a19-fd8b43c9727a"
      },
      "source": [
        "# !pip install kaggle"
      ],
      "execution_count": null,
      "outputs": [
        {
          "output_type": "stream",
          "text": [
            "Requirement already satisfied: kaggle in /usr/local/lib/python3.6/dist-packages (1.5.6)\n",
            "Requirement already satisfied: python-dateutil in /usr/local/lib/python3.6/dist-packages (from kaggle) (2.8.1)\n",
            "Requirement already satisfied: tqdm in /usr/local/lib/python3.6/dist-packages (from kaggle) (4.41.1)\n",
            "Requirement already satisfied: urllib3<1.25,>=1.21.1 in /usr/local/lib/python3.6/dist-packages (from kaggle) (1.24.3)\n",
            "Requirement already satisfied: python-slugify in /usr/local/lib/python3.6/dist-packages (from kaggle) (4.0.0)\n",
            "Requirement already satisfied: requests in /usr/local/lib/python3.6/dist-packages (from kaggle) (2.23.0)\n",
            "Requirement already satisfied: six>=1.10 in /usr/local/lib/python3.6/dist-packages (from kaggle) (1.12.0)\n",
            "Requirement already satisfied: certifi in /usr/local/lib/python3.6/dist-packages (from kaggle) (2020.6.20)\n",
            "Requirement already satisfied: text-unidecode>=1.3 in /usr/local/lib/python3.6/dist-packages (from python-slugify->kaggle) (1.3)\n",
            "Requirement already satisfied: idna<3,>=2.5 in /usr/local/lib/python3.6/dist-packages (from requests->kaggle) (2.9)\n",
            "Requirement already satisfied: chardet<4,>=3.0.2 in /usr/local/lib/python3.6/dist-packages (from requests->kaggle) (3.0.4)\n"
          ],
          "name": "stdout"
        }
      ]
    },
    {
      "cell_type": "code",
      "metadata": {
        "id": "OZZBz-2BqZZM",
        "colab_type": "code",
        "colab": {
          "base_uri": "https://localhost:8080/",
          "height": 34
        },
        "outputId": "43abc84a-895a-4ab2-e01b-b1bc5077089b"
      },
      "source": [
        "# from googleapiclient.discovery import build\n",
        "# import io, os\n",
        "# from googleapiclient.http import MediaIoBaseDownload\n",
        "# from google.colab import auth\n",
        "# auth.authenticate_user()\n",
        "# drive_service = build('drive', 'v3')\n",
        "# results = drive_service.files().list(\n",
        "#     q=\"name = 'kaggle.json'\", fields=\"files(id)\").execute()\n",
        "# kaggle_api_key = results.get('files', [])\n",
        "# # print(kaggle_api_key)\n",
        "# filename = \"/content/.kaggle/kaggle.json\"\n",
        "# os.makedirs(os.path.dirname(filename), exist_ok=True)\n",
        "# os.listdir(\"/content/.kaggle\")\n",
        "# request = drive_service.files().get_media(fileId=kaggle_api_key[0]['id'])\n",
        "# fh = io.FileIO(filename, 'wb')\n",
        "# downloader = MediaIoBaseDownload(fh, request)\n",
        "# done = False\n",
        "# while done is False:\n",
        "#     status, done = downloader.next_chunk()\n",
        "#     print(\"Download %d%%.\" % int(status.progress() * 100))\n",
        "# os.chmod(filename, 600)"
      ],
      "execution_count": null,
      "outputs": [
        {
          "output_type": "stream",
          "text": [
            "Download 100%.\n"
          ],
          "name": "stdout"
        }
      ]
    },
    {
      "cell_type": "code",
      "metadata": {
        "id": "S1eSpl4evqab",
        "colab_type": "code",
        "colab": {}
      },
      "source": [
        "# !mkdir -p ~/.kaggle\n",
        "# # create api token and copy into colab\n",
        "# !cp kaggle.json ~/.kaggle/\n",
        "# !chmod 600 ~/.kaggle/kaggle.json"
      ],
      "execution_count": null,
      "outputs": []
    },
    {
      "cell_type": "code",
      "metadata": {
        "id": "nr7dSHcIrc0o",
        "colab_type": "code",
        "colab": {
          "base_uri": "https://localhost:8080/",
          "height": 68
        },
        "outputId": "04ff4e87-717c-4483-9361-544f9e0a90eb"
      },
      "source": [
        "# !kaggle datasets download -d praveengovi/CoronaHack-Chest-XRaydataset"
      ],
      "execution_count": null,
      "outputs": [
        {
          "output_type": "stream",
          "text": [
            "Downloading CoronaHack-Chest-XRaydataset.zip to /content\n",
            " 99% 1.18G/1.19G [00:08<00:00, 169MB/s]\n",
            "100% 1.19G/1.19G [00:08<00:00, 158MB/s]\n"
          ],
          "name": "stdout"
        }
      ]
    },
    {
      "cell_type": "code",
      "metadata": {
        "id": "d9novl-ctNCG",
        "colab_type": "code",
        "colab": {
          "base_uri": "https://localhost:8080/",
          "height": 85
        },
        "outputId": "cb3ed05e-3ea0-49a9-c0ff-27cf5446c0c0"
      },
      "source": [
        "!ls"
      ],
      "execution_count": null,
      "outputs": [
        {
          "output_type": "stream",
          "text": [
            "adc.json\t\t\t       CoronaHack-Chest-XRaydataset.zip\n",
            "Chest_xray_Corona_dataset_Summary.csv  drive\n",
            "Chest_xray_Corona_Metadata.csv\t       kaggle.json\n",
            "Coronahack-Chest-XRay-Dataset\t       sample_data\n"
          ],
          "name": "stdout"
        }
      ]
    },
    {
      "cell_type": "code",
      "metadata": {
        "id": "PH0IHafTvzgT",
        "colab_type": "code",
        "colab": {
          "base_uri": "https://localhost:8080/",
          "height": 34
        },
        "outputId": "205c2700-a580-46ed-859c-b5618b3c645d"
      },
      "source": [
        "# !unzip -q CoronaHack-Chest-XRaydataset.zip \n",
        "# !unzip -q CoronaHack-Chest-XRaydataset.zip"
      ],
      "execution_count": null,
      "outputs": [
        {
          "output_type": "stream",
          "text": [
            "replace Chest_xray_Corona_Metadata.csv? [y]es, [n]o, [A]ll, [N]one, [r]ename: "
          ],
          "name": "stdout"
        }
      ]
    },
    {
      "cell_type": "code",
      "metadata": {
        "id": "wH05FP8Hv5Xu",
        "colab_type": "code",
        "colab": {}
      },
      "source": [
        "# from tensorflow.keras.preprocessing import image\n",
        "# import os\n",
        "# import numpy as np\n",
        "# import scipy\n",
        "# import skimage\n",
        "# from PIL import Image\n",
        "# import os, sys\n",
        "\n",
        "# path = \"Coronahack-Chest-XRay-Dataset/Coronahack-Chest-XRay-Dataset/train/\"\n",
        "# # manually create train-resized folder\n",
        "# outpath = \"Coronahack-Chest-XRay-Dataset/Coronahack-Chest-XRay-Dataset/train-resized/\"\n",
        "\n",
        "# dirs = os.listdir( path )\n",
        "\n",
        "# def resize():\n",
        "#     ctr = 0\n",
        "#     for item in dirs:\n",
        "#         if ctr % 100 == 0:\n",
        "#     \t    print(ctr)\n",
        "#         if item[0] == '.':\n",
        "#     \t    continue\n",
        "#         if os.path.isfile(path+item):\n",
        "#             im = Image.open(path+item).convert('LA')\n",
        "#             f, e = os.path.splitext(outpath+item)\n",
        "#             imResize = im.resize((256,256), Image.ANTIALIAS)\n",
        "#             imResize.save(f + '.png', 'PNG', quality=90)\n",
        "#             ctr += 1\n",
        "\n",
        "# resize()"
      ],
      "execution_count": null,
      "outputs": []
    },
    {
      "cell_type": "code",
      "metadata": {
        "id": "sJggYPet6cat",
        "colab_type": "code",
        "colab": {
          "base_uri": "https://localhost:8080/",
          "height": 136
        },
        "outputId": "8c9992c0-a071-43e8-eda5-74e7113552e7"
      },
      "source": [
        "# from PIL import Image\n",
        "# import os, sys\n",
        "\n",
        "# path = \"Coronahack-Chest-XRay-Dataset/Coronahack-Chest-XRay-Dataset/test/\"\n",
        "# # manually create test-resized folder\n",
        "# outpath = \"Coronahack-Chest-XRay-Dataset/Coronahack-Chest-XRay-Dataset/test-resized/\"\n",
        "\n",
        "# dirs = os.listdir( path )\n",
        "\n",
        "# def resize():\n",
        "#     ctr = 0\n",
        "#     for item in dirs:\n",
        "#         if ctr % 100 == 0:\n",
        "#     \t    print(ctr)\n",
        "#         if item[0] == '.':\n",
        "#     \t    continue\n",
        "#         if os.path.isfile(path+item):\n",
        "#             im = Image.open(path+item).convert('LA')\n",
        "#             f, e = os.path.splitext(outpath+item)\n",
        "#             imResize = im.resize((256,256), Image.ANTIALIAS)\n",
        "#             imResize.save(f + '.png', 'PNG', quality=90)\n",
        "#             ctr += 1\n",
        "\n",
        "# resize()"
      ],
      "execution_count": null,
      "outputs": [
        {
          "output_type": "stream",
          "text": [
            "0\n",
            "100\n",
            "200\n",
            "300\n",
            "400\n",
            "500\n",
            "600\n"
          ],
          "name": "stdout"
        }
      ]
    },
    {
      "cell_type": "code",
      "metadata": {
        "id": "HXirbuUU4YQP",
        "colab_type": "code",
        "colab": {
          "base_uri": "https://localhost:8080/",
          "height": 119
        },
        "outputId": "8bf819b8-40b5-4b8b-c16b-fc326a823bcf"
      },
      "source": [
        " !ls"
      ],
      "execution_count": null,
      "outputs": [
        {
          "output_type": "stream",
          "text": [
            "adc.json\t\t\t       kaggle.json\n",
            "Chest_xray_Corona_dataset_Summary.csv  __MACOSX\n",
            "Chest_xray_Corona_Metadata.csv\t       Resized_Dataset\n",
            "Coronahack-Chest-XRay-Dataset\t       Resized_Dataset.zip\n",
            "CoronaHack-Chest-XRaydataset.zip       sample_data\n",
            "drive\n"
          ],
          "name": "stdout"
        }
      ]
    },
    {
      "cell_type": "code",
      "metadata": {
        "id": "pyt-_JBnxdKq",
        "colab_type": "code",
        "colab": {
          "base_uri": "https://localhost:8080/",
          "height": 436
        },
        "outputId": "7fb8370d-e805-4da3-da42-e43e5ebde568"
      },
      "source": [
        "dataset = pd.read_csv(\"Resized_Dataset/Chest_xray_Corona_Metadata.csv\")\n",
        "print(dataset.shape)\n",
        "dataset.head(5932)"
      ],
      "execution_count": 5,
      "outputs": [
        {
          "output_type": "stream",
          "text": [
            "(5910, 6)\n"
          ],
          "name": "stdout"
        },
        {
          "output_type": "execute_result",
          "data": {
            "text/html": [
              "<div>\n",
              "<style scoped>\n",
              "    .dataframe tbody tr th:only-of-type {\n",
              "        vertical-align: middle;\n",
              "    }\n",
              "\n",
              "    .dataframe tbody tr th {\n",
              "        vertical-align: top;\n",
              "    }\n",
              "\n",
              "    .dataframe thead th {\n",
              "        text-align: right;\n",
              "    }\n",
              "</style>\n",
              "<table border=\"1\" class=\"dataframe\">\n",
              "  <thead>\n",
              "    <tr style=\"text-align: right;\">\n",
              "      <th></th>\n",
              "      <th>Unnamed: 0</th>\n",
              "      <th>X_ray_image_name</th>\n",
              "      <th>Label</th>\n",
              "      <th>Dataset_type</th>\n",
              "      <th>Label_2_Virus_category</th>\n",
              "      <th>Label_1_Virus_category</th>\n",
              "    </tr>\n",
              "  </thead>\n",
              "  <tbody>\n",
              "    <tr>\n",
              "      <th>0</th>\n",
              "      <td>0</td>\n",
              "      <td>IM-0128-0001.jpeg</td>\n",
              "      <td>Normal</td>\n",
              "      <td>TRAIN</td>\n",
              "      <td>NaN</td>\n",
              "      <td>NaN</td>\n",
              "    </tr>\n",
              "    <tr>\n",
              "      <th>1</th>\n",
              "      <td>1</td>\n",
              "      <td>IM-0127-0001.jpeg</td>\n",
              "      <td>Normal</td>\n",
              "      <td>TRAIN</td>\n",
              "      <td>NaN</td>\n",
              "      <td>NaN</td>\n",
              "    </tr>\n",
              "    <tr>\n",
              "      <th>2</th>\n",
              "      <td>2</td>\n",
              "      <td>IM-0125-0001.jpeg</td>\n",
              "      <td>Normal</td>\n",
              "      <td>TRAIN</td>\n",
              "      <td>NaN</td>\n",
              "      <td>NaN</td>\n",
              "    </tr>\n",
              "    <tr>\n",
              "      <th>3</th>\n",
              "      <td>3</td>\n",
              "      <td>IM-0122-0001.jpeg</td>\n",
              "      <td>Normal</td>\n",
              "      <td>TRAIN</td>\n",
              "      <td>NaN</td>\n",
              "      <td>NaN</td>\n",
              "    </tr>\n",
              "    <tr>\n",
              "      <th>4</th>\n",
              "      <td>4</td>\n",
              "      <td>IM-0119-0001.jpeg</td>\n",
              "      <td>Normal</td>\n",
              "      <td>TRAIN</td>\n",
              "      <td>NaN</td>\n",
              "      <td>NaN</td>\n",
              "    </tr>\n",
              "    <tr>\n",
              "      <th>...</th>\n",
              "      <td>...</td>\n",
              "      <td>...</td>\n",
              "      <td>...</td>\n",
              "      <td>...</td>\n",
              "      <td>...</td>\n",
              "      <td>...</td>\n",
              "    </tr>\n",
              "    <tr>\n",
              "      <th>5905</th>\n",
              "      <td>5928</td>\n",
              "      <td>person1637_virus_2834.jpeg</td>\n",
              "      <td>Pnemonia</td>\n",
              "      <td>TEST</td>\n",
              "      <td>NaN</td>\n",
              "      <td>Virus</td>\n",
              "    </tr>\n",
              "    <tr>\n",
              "      <th>5906</th>\n",
              "      <td>5929</td>\n",
              "      <td>person1635_virus_2831.jpeg</td>\n",
              "      <td>Pnemonia</td>\n",
              "      <td>TEST</td>\n",
              "      <td>NaN</td>\n",
              "      <td>Virus</td>\n",
              "    </tr>\n",
              "    <tr>\n",
              "      <th>5907</th>\n",
              "      <td>5930</td>\n",
              "      <td>person1634_virus_2830.jpeg</td>\n",
              "      <td>Pnemonia</td>\n",
              "      <td>TEST</td>\n",
              "      <td>NaN</td>\n",
              "      <td>Virus</td>\n",
              "    </tr>\n",
              "    <tr>\n",
              "      <th>5908</th>\n",
              "      <td>5931</td>\n",
              "      <td>person1633_virus_2829.jpeg</td>\n",
              "      <td>Pnemonia</td>\n",
              "      <td>TEST</td>\n",
              "      <td>NaN</td>\n",
              "      <td>Virus</td>\n",
              "    </tr>\n",
              "    <tr>\n",
              "      <th>5909</th>\n",
              "      <td>5932</td>\n",
              "      <td>person1632_virus_2827.jpeg</td>\n",
              "      <td>Pnemonia</td>\n",
              "      <td>TEST</td>\n",
              "      <td>NaN</td>\n",
              "      <td>Virus</td>\n",
              "    </tr>\n",
              "  </tbody>\n",
              "</table>\n",
              "<p>5910 rows × 6 columns</p>\n",
              "</div>"
            ],
            "text/plain": [
              "      Unnamed: 0  ... Label_1_Virus_category\n",
              "0              0  ...                    NaN\n",
              "1              1  ...                    NaN\n",
              "2              2  ...                    NaN\n",
              "3              3  ...                    NaN\n",
              "4              4  ...                    NaN\n",
              "...          ...  ...                    ...\n",
              "5905        5928  ...                  Virus\n",
              "5906        5929  ...                  Virus\n",
              "5907        5930  ...                  Virus\n",
              "5908        5931  ...                  Virus\n",
              "5909        5932  ...                  Virus\n",
              "\n",
              "[5910 rows x 6 columns]"
            ]
          },
          "metadata": {
            "tags": []
          },
          "execution_count": 5
        }
      ]
    },
    {
      "cell_type": "code",
      "metadata": {
        "id": "cM8VbuFia_r2",
        "colab_type": "code",
        "colab": {
          "base_uri": "https://localhost:8080/",
          "height": 350
        },
        "outputId": "2891588e-5546-4f56-8e08-1a2ecc938cc1"
      },
      "source": [
        "import seaborn as sns\n",
        "sns.countplot(dataset['Label'])"
      ],
      "execution_count": 6,
      "outputs": [
        {
          "output_type": "stream",
          "text": [
            "/usr/local/lib/python3.6/dist-packages/statsmodels/tools/_testing.py:19: FutureWarning: pandas.util.testing is deprecated. Use the functions in the public API at pandas.testing instead.\n",
            "  import pandas.util.testing as tm\n"
          ],
          "name": "stderr"
        },
        {
          "output_type": "execute_result",
          "data": {
            "text/plain": [
              "<matplotlib.axes._subplots.AxesSubplot at 0x7f1398400240>"
            ]
          },
          "metadata": {
            "tags": []
          },
          "execution_count": 6
        },
        {
          "output_type": "display_data",
          "data": {
            "image/png": "[encoded data removed]",
            "text/plain": [
              "<Figure size 432x288 with 1 Axes>"
            ]
          },
          "metadata": {
            "tags": [],
            "needs_background": "light"
          }
        }
      ]
    },
    {
      "cell_type": "code",
      "metadata": {
        "id": "Zlv9C1h6xk67",
        "colab_type": "code",
        "colab": {
          "base_uri": "https://localhost:8080/",
          "height": 221
        },
        "outputId": "f91c3cba-68c3-43c4-bf72-c93e26da16ae"
      },
      "source": [
        "dataset['X_ray_image_name']"
      ],
      "execution_count": 7,
      "outputs": [
        {
          "output_type": "execute_result",
          "data": {
            "text/plain": [
              "0                IM-0128-0001.jpeg\n",
              "1                IM-0127-0001.jpeg\n",
              "2                IM-0125-0001.jpeg\n",
              "3                IM-0122-0001.jpeg\n",
              "4                IM-0119-0001.jpeg\n",
              "                   ...            \n",
              "5905    person1637_virus_2834.jpeg\n",
              "5906    person1635_virus_2831.jpeg\n",
              "5907    person1634_virus_2830.jpeg\n",
              "5908    person1633_virus_2829.jpeg\n",
              "5909    person1632_virus_2827.jpeg\n",
              "Name: X_ray_image_name, Length: 5910, dtype: object"
            ]
          },
          "metadata": {
            "tags": []
          },
          "execution_count": 7
        }
      ]
    },
    {
      "cell_type": "code",
      "metadata": {
        "id": "xw2P5R8MyjWt",
        "colab_type": "code",
        "colab": {
          "base_uri": "https://localhost:8080/",
          "height": 419
        },
        "outputId": "ab504bd8-ba3c-4e30-fdf2-c64601a0e885"
      },
      "source": [
        "dataset[['X_ray_image_name', 'Label']]"
      ],
      "execution_count": 8,
      "outputs": [
        {
          "output_type": "execute_result",
          "data": {
            "text/html": [
              "<div>\n",
              "<style scoped>\n",
              "    .dataframe tbody tr th:only-of-type {\n",
              "        vertical-align: middle;\n",
              "    }\n",
              "\n",
              "    .dataframe tbody tr th {\n",
              "        vertical-align: top;\n",
              "    }\n",
              "\n",
              "    .dataframe thead th {\n",
              "        text-align: right;\n",
              "    }\n",
              "</style>\n",
              "<table border=\"1\" class=\"dataframe\">\n",
              "  <thead>\n",
              "    <tr style=\"text-align: right;\">\n",
              "      <th></th>\n",
              "      <th>X_ray_image_name</th>\n",
              "      <th>Label</th>\n",
              "    </tr>\n",
              "  </thead>\n",
              "  <tbody>\n",
              "    <tr>\n",
              "      <th>0</th>\n",
              "      <td>IM-0128-0001.jpeg</td>\n",
              "      <td>Normal</td>\n",
              "    </tr>\n",
              "    <tr>\n",
              "      <th>1</th>\n",
              "      <td>IM-0127-0001.jpeg</td>\n",
              "      <td>Normal</td>\n",
              "    </tr>\n",
              "    <tr>\n",
              "      <th>2</th>\n",
              "      <td>IM-0125-0001.jpeg</td>\n",
              "      <td>Normal</td>\n",
              "    </tr>\n",
              "    <tr>\n",
              "      <th>3</th>\n",
              "      <td>IM-0122-0001.jpeg</td>\n",
              "      <td>Normal</td>\n",
              "    </tr>\n",
              "    <tr>\n",
              "      <th>4</th>\n",
              "      <td>IM-0119-0001.jpeg</td>\n",
              "      <td>Normal</td>\n",
              "    </tr>\n",
              "    <tr>\n",
              "      <th>...</th>\n",
              "      <td>...</td>\n",
              "      <td>...</td>\n",
              "    </tr>\n",
              "    <tr>\n",
              "      <th>5905</th>\n",
              "      <td>person1637_virus_2834.jpeg</td>\n",
              "      <td>Pnemonia</td>\n",
              "    </tr>\n",
              "    <tr>\n",
              "      <th>5906</th>\n",
              "      <td>person1635_virus_2831.jpeg</td>\n",
              "      <td>Pnemonia</td>\n",
              "    </tr>\n",
              "    <tr>\n",
              "      <th>5907</th>\n",
              "      <td>person1634_virus_2830.jpeg</td>\n",
              "      <td>Pnemonia</td>\n",
              "    </tr>\n",
              "    <tr>\n",
              "      <th>5908</th>\n",
              "      <td>person1633_virus_2829.jpeg</td>\n",
              "      <td>Pnemonia</td>\n",
              "    </tr>\n",
              "    <tr>\n",
              "      <th>5909</th>\n",
              "      <td>person1632_virus_2827.jpeg</td>\n",
              "      <td>Pnemonia</td>\n",
              "    </tr>\n",
              "  </tbody>\n",
              "</table>\n",
              "<p>5910 rows × 2 columns</p>\n",
              "</div>"
            ],
            "text/plain": [
              "                X_ray_image_name     Label\n",
              "0              IM-0128-0001.jpeg    Normal\n",
              "1              IM-0127-0001.jpeg    Normal\n",
              "2              IM-0125-0001.jpeg    Normal\n",
              "3              IM-0122-0001.jpeg    Normal\n",
              "4              IM-0119-0001.jpeg    Normal\n",
              "...                          ...       ...\n",
              "5905  person1637_virus_2834.jpeg  Pnemonia\n",
              "5906  person1635_virus_2831.jpeg  Pnemonia\n",
              "5907  person1634_virus_2830.jpeg  Pnemonia\n",
              "5908  person1633_virus_2829.jpeg  Pnemonia\n",
              "5909  person1632_virus_2827.jpeg  Pnemonia\n",
              "\n",
              "[5910 rows x 2 columns]"
            ]
          },
          "metadata": {
            "tags": []
          },
          "execution_count": 8
        }
      ]
    },
    {
      "cell_type": "code",
      "metadata": {
        "id": "YQFirBIf0rNm",
        "colab_type": "code",
        "colab": {
          "base_uri": "https://localhost:8080/",
          "height": 255
        },
        "outputId": "a3b2099f-0251-44c3-f0c1-caa1cf6ce350"
      },
      "source": [
        "x_train = dataset[['X_ray_image_name']]\n",
        "x_train = x_train[0:5309]\n",
        "print(x_train)\n",
        "\n"
      ],
      "execution_count": 9,
      "outputs": [
        {
          "output_type": "stream",
          "text": [
            "               X_ray_image_name\n",
            "0             IM-0128-0001.jpeg\n",
            "1             IM-0127-0001.jpeg\n",
            "2             IM-0125-0001.jpeg\n",
            "3             IM-0122-0001.jpeg\n",
            "4             IM-0119-0001.jpeg\n",
            "...                         ...\n",
            "5304  NORMAL2-IM-0066-0001.jpeg\n",
            "5305  NORMAL2-IM-0060-0001.jpeg\n",
            "5306  NORMAL2-IM-0059-0001.jpeg\n",
            "5307  NORMAL2-IM-0058-0001.jpeg\n",
            "5308  NORMAL2-IM-0052-0001.jpeg\n",
            "\n",
            "[5309 rows x 1 columns]\n"
          ],
          "name": "stdout"
        }
      ]
    },
    {
      "cell_type": "code",
      "metadata": {
        "id": "nM3CdIkk1OkQ",
        "colab_type": "code",
        "colab": {
          "base_uri": "https://localhost:8080/",
          "height": 136
        },
        "outputId": "feeae6f8-a5f8-4eb3-be27-44311b9e0bc5"
      },
      "source": [
        "y_train_labels = dataset[['Label']]\n",
        "y_train_labels = y_train_labels[0:5309]\n",
        "#print(y_train_labels)\n",
        "\n",
        "y_train = []\n",
        "for label in y_train_labels['Label']:\n",
        "  if label == 'Pnemonia':\n",
        "    y_train.append(1)\n",
        "  elif label == 'Normal':\n",
        "    y_train.append(0)\n",
        "  else:\n",
        "    print(label)\n",
        "#print(y_train)\n",
        "y_train = keras.utils.to_categorical(y_train)\n",
        "print(y_train)"
      ],
      "execution_count": 10,
      "outputs": [
        {
          "output_type": "stream",
          "text": [
            "[[1. 0.]\n",
            " [1. 0.]\n",
            " [1. 0.]\n",
            " ...\n",
            " [1. 0.]\n",
            " [1. 0.]\n",
            " [1. 0.]]\n"
          ],
          "name": "stdout"
        }
      ]
    },
    {
      "cell_type": "code",
      "metadata": {
        "id": "zL8mE4A41WJe",
        "colab_type": "code",
        "colab": {
          "base_uri": "https://localhost:8080/",
          "height": 255
        },
        "outputId": "981046b0-7d03-4dec-f7ac-16db69068f93"
      },
      "source": [
        "x_testFeatures = dataset[['X_ray_image_name']]\n",
        "x_testFeatures = x_testFeatures[5309:]\n",
        "print(x_testFeatures)"
      ],
      "execution_count": 11,
      "outputs": [
        {
          "output_type": "stream",
          "text": [
            "                X_ray_image_name\n",
            "5309   NORMAL2-IM-0051-0001.jpeg\n",
            "5310   NORMAL2-IM-0045-0001.jpeg\n",
            "5311   NORMAL2-IM-0041-0001.jpeg\n",
            "5312   NORMAL2-IM-0035-0001.jpeg\n",
            "5313   NORMAL2-IM-0033-0001.jpeg\n",
            "...                          ...\n",
            "5905  person1637_virus_2834.jpeg\n",
            "5906  person1635_virus_2831.jpeg\n",
            "5907  person1634_virus_2830.jpeg\n",
            "5908  person1633_virus_2829.jpeg\n",
            "5909  person1632_virus_2827.jpeg\n",
            "\n",
            "[601 rows x 1 columns]\n"
          ],
          "name": "stdout"
        }
      ]
    },
    {
      "cell_type": "code",
      "metadata": {
        "id": "wPvZz-6j2hiD",
        "colab_type": "code",
        "colab": {
          "base_uri": "https://localhost:8080/",
          "height": 136
        },
        "outputId": "785abfc6-d4fd-4be5-b496-ac9c3e07c562"
      },
      "source": [
        "y_test_labels = dataset[['Label']]\n",
        "y_test_labels = y_test_labels[5309:]\n",
        "#print(y_test_labels)\n",
        "\n",
        "y_test = []\n",
        "for label in y_test_labels['Label']:\n",
        "  if label == 'Pnemonia':\n",
        "    y_test.append(1)\n",
        "  elif label == 'Normal':\n",
        "    y_test.append(0)\n",
        "  else:\n",
        "    print(label)\n",
        "#print(y_test)\n",
        "y_test = keras.utils.to_categorical(y_test)\n",
        "print(y_test)"
      ],
      "execution_count": 12,
      "outputs": [
        {
          "output_type": "stream",
          "text": [
            "[[1. 0.]\n",
            " [1. 0.]\n",
            " [1. 0.]\n",
            " ...\n",
            " [0. 1.]\n",
            " [0. 1.]\n",
            " [0. 1.]]\n"
          ],
          "name": "stdout"
        }
      ]
    },
    {
      "cell_type": "code",
      "metadata": {
        "id": "HgFgYecn22UG",
        "colab_type": "code",
        "colab": {
          "base_uri": "https://localhost:8080/",
          "height": 119
        },
        "outputId": "d98b632c-99c3-4b4b-b324-0c46b84e815c"
      },
      "source": [
        "os.listdir()"
      ],
      "execution_count": 13,
      "outputs": [
        {
          "output_type": "execute_result",
          "data": {
            "text/plain": [
              "['.config',\n",
              " 'Resized_Dataset',\n",
              " 'Resized_Dataset.zip',\n",
              " 'drive',\n",
              " '__MACOSX',\n",
              " 'sample_data']"
            ]
          },
          "metadata": {
            "tags": []
          },
          "execution_count": 13
        }
      ]
    },
    {
      "cell_type": "code",
      "metadata": {
        "id": "tsf5xIQ44fTC",
        "colab_type": "code",
        "colab": {}
      },
      "source": [
        "#for image in os.listdir('Coronahack-Chest-XRay-Dataset/Coronahack-Chest-XRay-Dataset/train'):\n",
        "  #image = plt.imread('Coronahack-Chest-XRay-Dataset/Coronahack-Chest-XRay-Dataset/train/' + image)\n",
        "  #plt.grid(False)\n",
        "  #plt.imshow(image)\n",
        "  #plt.show()"
      ],
      "execution_count": 14,
      "outputs": []
    },
    {
      "cell_type": "code",
      "metadata": {
        "id": "59Dfz65TydP-",
        "colab_type": "code",
        "colab": {
          "base_uri": "https://localhost:8080/",
          "height": 34
        },
        "outputId": "f6cb58aa-71b6-4ab1-d774-863490ee8611"
      },
      "source": [
        "import os\n",
        "list_of_images = os.listdir('Resized_Dataset/train-resized')\n",
        "len(list_of_images)"
      ],
      "execution_count": 15,
      "outputs": [
        {
          "output_type": "execute_result",
          "data": {
            "text/plain": [
              "5309"
            ]
          },
          "metadata": {
            "tags": []
          },
          "execution_count": 15
        }
      ]
    },
    {
      "cell_type": "code",
      "metadata": {
        "id": "mvwVvU_y7Gs_",
        "colab_type": "code",
        "colab": {
          "base_uri": "https://localhost:8080/",
          "height": 286
        },
        "outputId": "47643b08-c120-44f6-9a38-60fd6c995fc3"
      },
      "source": [
        "x_train = []\n",
        "list_of_images = os.listdir('Resized_Dataset/train-resized')\n",
        "for image in list_of_images:\n",
        "  image = plt.imread('Resized_Dataset/train-resized/' + image)\n",
        "  plt.grid(False)\n",
        "  x_train.append(image)\n",
        "len(x_train)"
      ],
      "execution_count": 19,
      "outputs": [
        {
          "output_type": "execute_result",
          "data": {
            "text/plain": [
              "5309"
            ]
          },
          "metadata": {
            "tags": []
          },
          "execution_count": 19
        },
        {
          "output_type": "display_data",
          "data": {
            "image/png": "[encoded data removed]",
            "text/plain": [
              "<Figure size 432x288 with 1 Axes>"
            ]
          },
          "metadata": {
            "tags": [],
            "needs_background": "light"
          }
        }
      ]
    },
    {
      "cell_type": "code",
      "metadata": {
        "id": "XMbM5iaRTUP-",
        "colab_type": "code",
        "colab": {
          "base_uri": "https://localhost:8080/",
          "height": 286
        },
        "outputId": "4f041ebd-d9d6-4a57-ca4e-f66c8fbb4031"
      },
      "source": [
        "x_test = []\n",
        "#for image in os.listdir('Coronahack-Chest-XRay-Dataset/Coronahack-Chest-XRay-Dataset/test-resized'):\n",
        " # image = plt.imread('Coronahack-Chest-XRay-Dataset/Coronahack-Chest-XRay-Dataset/test-resized/' + image)\n",
        " # plt.grid(False)\n",
        " # x_test.append(image)\n",
        "#len(x_test)\n",
        "\n",
        "test_path = ('Resized_Dataset/test-resized/')\n",
        "\n",
        "for image in x_testFeatures['X_ray_image_name']:\n",
        "  # image.rfind : removes '.jpeg'\n",
        "  image_path =test_path + image[:image.rfind('.jpeg')]\n",
        "\n",
        "\n",
        "  if os.path.isfile(image_path + '.png'):\n",
        "    image = plt.imread(image_path + '.png')\n",
        "    plt.grid(False)\n",
        "    x_test.append(image)\n",
        "len(x_test)"
      ],
      "execution_count": 17,
      "outputs": [
        {
          "output_type": "execute_result",
          "data": {
            "text/plain": [
              "601"
            ]
          },
          "metadata": {
            "tags": []
          },
          "execution_count": 17
        },
        {
          "output_type": "display_data",
          "data": {
            "image/png": "[encoded data removed]",
            "text/plain": [
              "<Figure size 432x288 with 1 Axes>"
            ]
          },
          "metadata": {
            "tags": [],
            "needs_background": "light"
          }
        }
      ]
    },
    {
      "cell_type": "code",
      "metadata": {
        "id": "5VACY4RGPiqH",
        "colab_type": "code",
        "colab": {
          "base_uri": "https://localhost:8080/",
          "height": 51
        },
        "outputId": "88786712-6d3a-4eac-bf46-cc01f676a0a0"
      },
      "source": [
        "x_train = np.array(x_train, np.float16) / 255.0\n",
        "y_train = np.array(y_train)\n",
        "print(len(x_train), len(y_train), x_train.shape, y_train.shape)\n",
        "\n",
        "x_test = np.array(x_test, np.float16) / 255.0\n",
        "y_test = np.array(y_test)\n",
        "print(len(x_test), len(y_test), x_test.shape, y_test.shape)"
      ],
      "execution_count": 20,
      "outputs": [
        {
          "output_type": "stream",
          "text": [
            "5309 5309 (5309, 256, 256, 4) (5309, 2)\n",
            "601 601 (601, 256, 256, 4) (601, 2)\n"
          ],
          "name": "stdout"
        }
      ]
    },
    {
      "cell_type": "code",
      "metadata": {
        "id": "vEoycQRiUpNG",
        "colab_type": "code",
        "colab": {}
      },
      "source": [
        "#plt.imshow(x_train[100])\n",
        "\n",
        "#x_train[0].shape\n",
        "\n",
        "#gray_image = plt.imshow(x_train[0], cmap = 'gray')\n",
        "#len(x_train[0].shape)"
      ],
      "execution_count": null,
      "outputs": []
    },
    {
      "cell_type": "code",
      "metadata": {
        "id": "2BZ0bTP2En9V",
        "colab_type": "code",
        "colab": {
          "base_uri": "https://localhost:8080/",
          "height": 51
        },
        "outputId": "e3c789e9-3943-400a-88e5-666c0c653b2a"
      },
      "source": [
        "print(y_train.shape)\n",
        "print(y_test.shape)"
      ],
      "execution_count": null,
      "outputs": [
        {
          "output_type": "stream",
          "text": [
            "(5309, 2)\n",
            "(601, 2)\n"
          ],
          "name": "stdout"
        }
      ]
    },
    {
      "cell_type": "code",
      "metadata": {
        "id": "-3oXHQBVBbfV",
        "colab_type": "code",
        "colab": {
          "base_uri": "https://localhost:8080/",
          "height": 425
        },
        "outputId": "0378a9d1-bbb6-43ad-c6f1-422cfbd3405b"
      },
      "source": [
        "model = Sequential()\n",
        "\n",
        "model.add(Conv2D(32, (3, 3), activation = 'relu', input_shape = (256, 256, 4)))\n",
        "model.add(MaxPooling2D(2, 2))\n",
        "model.add(Conv2D(64, (3,3), activation = 'relu'))\n",
        "model.add(MaxPooling2D((2,2)))\n",
        "model.add(Conv2D(64, (3, 3), activation = 'relu'))\n",
        "\n",
        "model.add(Flatten())\n",
        "\n",
        "model.add(Dense(64, activation = 'relu'))\n",
        "model.add(Dense(2))\n",
        "model.summary()\n",
        "\n"
      ],
      "execution_count": null,
      "outputs": [
        {
          "output_type": "stream",
          "text": [
            "Model: \"sequential_7\"\n",
            "_________________________________________________________________\n",
            "Layer (type)                 Output Shape              Param #   \n",
            "=================================================================\n",
            "conv2d_19 (Conv2D)           (None, 254, 254, 32)      1184      \n",
            "_________________________________________________________________\n",
            "max_pooling2d_13 (MaxPooling (None, 127, 127, 32)      0         \n",
            "_________________________________________________________________\n",
            "conv2d_20 (Conv2D)           (None, 125, 125, 64)      18496     \n",
            "_________________________________________________________________\n",
            "max_pooling2d_14 (MaxPooling (None, 62, 62, 64)        0         \n",
            "_________________________________________________________________\n",
            "conv2d_21 (Conv2D)           (None, 60, 60, 64)        36928     \n",
            "_________________________________________________________________\n",
            "flatten_7 (Flatten)          (None, 230400)            0         \n",
            "_________________________________________________________________\n",
            "dense_13 (Dense)             (None, 64)                14745664  \n",
            "_________________________________________________________________\n",
            "dense_14 (Dense)             (None, 2)                 130       \n",
            "=================================================================\n",
            "Total params: 14,802,402\n",
            "Trainable params: 14,802,402\n",
            "Non-trainable params: 0\n",
            "_________________________________________________________________\n"
          ],
          "name": "stdout"
        }
      ]
    },
    {
      "cell_type": "code",
      "metadata": {
        "id": "GLMKTLavLjA3",
        "colab_type": "code",
        "colab": {}
      },
      "source": [
        "model.compile(optimizer='adam', loss='categorical_crossentropy', metrics = ['accuracy'])"
      ],
      "execution_count": null,
      "outputs": []
    },
    {
      "cell_type": "code",
      "metadata": {
        "id": "FvagarzZSp1T",
        "colab_type": "code",
        "colab": {
          "base_uri": "https://localhost:8080/",
          "height": 374
        },
        "outputId": "bb2e51f7-a9d8-4332-8bd3-3857b5598946"
      },
      "source": [
        "history = model.fit(x_train, y_train, epochs = 10, validation_split = 0.1)"
      ],
      "execution_count": null,
      "outputs": [
        {
          "output_type": "stream",
          "text": [
            "Train on 4778 samples, validate on 531 samples\n",
            "Epoch 1/10\n",
            "4778/4778 [==============================] - 508s 106ms/step - loss: 0.5940 - accuracy: 0.2807 - val_loss: 0.3688 - val_accuracy: 0.0452\n",
            "Epoch 2/10\n",
            "4778/4778 [==============================] - 506s 106ms/step - loss: 0.5944 - accuracy: 0.2807 - val_loss: 0.3855 - val_accuracy: 0.0452\n",
            "Epoch 3/10\n",
            "4778/4778 [==============================] - 507s 106ms/step - loss: 0.5936 - accuracy: 0.2807 - val_loss: 0.3552 - val_accuracy: 0.0452\n",
            "Epoch 4/10\n",
            "4778/4778 [==============================] - 508s 106ms/step - loss: 0.5944 - accuracy: 0.2807 - val_loss: 0.3785 - val_accuracy: 0.0452\n",
            "Epoch 5/10\n",
            "4778/4778 [==============================] - 507s 106ms/step - loss: 0.5942 - accuracy: 0.2807 - val_loss: 0.3776 - val_accuracy: 0.0452\n",
            "Epoch 6/10\n",
            "4778/4778 [==============================] - 506s 106ms/step - loss: 0.5943 - accuracy: 0.2807 - val_loss: 0.3714 - val_accuracy: 0.0452\n",
            "Epoch 7/10\n",
            "4778/4778 [==============================] - 506s 106ms/step - loss: 0.5947 - accuracy: 0.2807 - val_loss: 0.3562 - val_accuracy: 0.0452\n",
            "Epoch 8/10\n",
            "4778/4778 [==============================] - 507s 106ms/step - loss: 0.5946 - accuracy: 0.2807 - val_loss: 0.3707 - val_accuracy: 0.0452\n",
            "Epoch 9/10\n",
            "4778/4778 [==============================] - 506s 106ms/step - loss: 0.5940 - accuracy: 0.2807 - val_loss: 0.3715 - val_accuracy: 0.0452\n",
            "Epoch 10/10\n",
            "4778/4778 [==============================] - 501s 105ms/step - loss: 0.5940 - accuracy: 0.2807 - val_loss: 0.3701 - val_accuracy: 0.0452\n"
          ],
          "name": "stdout"
        }
      ]
    },
    {
      "cell_type": "code",
      "metadata": {
        "id": "DiELDieBDiOm",
        "colab_type": "code",
        "colab": {
          "base_uri": "https://localhost:8080/",
          "height": 317
        },
        "outputId": "f0de6466-b74b-48f1-ba9a-853f87cf36b6"
      },
      "source": [
        "plt.plot(history.history['accuracy'], label='accuracy')\n",
        "plt.plot(history.history['val_accuracy'], label = 'val_accuracy')\n",
        "plt.xlabel('Epoch')\n",
        "plt.ylabel('Accuracy')\n",
        "plt.ylim([0.5, 1])\n",
        "plt.legend(loc='lower right')\n",
        "\n",
        "test_loss, test_acc = model.evaluate(x_test,  y_test)\n",
        "print(test_loss, test_acc)"
      ],
      "execution_count": null,
      "outputs": [
        {
          "output_type": "stream",
          "text": [
            "601/601 [==============================] - 18s 29ms/step\n",
            "0.6604057664978326 0.351081520318985\n"
          ],
          "name": "stdout"
        },
        {
          "output_type": "display_data",
          "data": {
            "image/png": "[encoded data removed]",
            "text/plain": [
              "<Figure size 432x288 with 1 Axes>"
            ]
          },
          "metadata": {
            "tags": [],
            "needs_background": "light"
          }
        }
      ]
    },
    {
      "cell_type": "code",
      "metadata": {
        "id": "WVBBc_NGlzZj",
        "colab_type": "code",
        "colab": {}
      },
      "source": [
        ""
      ],
      "execution_count": null,
      "outputs": []
    }
  ]
}